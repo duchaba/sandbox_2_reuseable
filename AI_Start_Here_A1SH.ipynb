{
  "nbformat": 4,
  "nbformat_minor": 0,
  "metadata": {
    "jupytext": {
      "split_at_heading": true
    },
    "kernelspec": {
      "display_name": "Python 3",
      "language": "python",
      "name": "python3"
    },
    "colab": {
      "name": "AI_Start_Here_A1SH.ipynb",
      "provenance": [],
      "collapsed_sections": [],
      "machine_shape": "hm",
      "include_colab_link": true
    },
    "accelerator": "GPU"
  },
  "cells": [
    {
      "cell_type": "markdown",
      "metadata": {
        "id": "view-in-github",
        "colab_type": "text"
      },
      "source": [
        "<a href=\"https://colab.research.google.com/github/duchaba/sandbox_2_reuseable/blob/master/AI_Start_Here_A1SH.ipynb\" target=\"_parent\"><img src=\"https://colab.research.google.com/assets/colab-badge.svg\" alt=\"Open In Colab\"/></a>"
      ]
    },
    {
      "cell_type": "markdown",
      "metadata": {
        "id": "SCWkiFiTOZvS"
      },
      "source": [
        "# 1.0 | Introduction -- AI Start Here (A1SH)"
      ]
    },
    {
      "cell_type": "markdown",
      "metadata": {
        "id": "z5GQnnw_SHpC"
      },
      "source": [
        "Welcome to the “AI Start Here” (A1SH ) project. It is a new journey in the “Demystify AI” series.\n",
        "\n",
        "The only thing these journeys have in common is the problems are taken from the real-world Artificial Neural Network (ANN) project. I have worked on them, coded them, cried over them, and sometimes had a flash-of-insight or an original thought about them.\n",
        "\n",
        "The journeys are a fun and fascinating insight into an AI Scientist and Big-Data Scientist’s daily work. They are for sharing concepts, experiences, and code with colleagues and AI students, but I hope that you, a gentle reader, would enjoy them too.\n",
        "\n",
        "The A1SH journey is the seventh in the demystify AI series. It is a cautionary tale that serves as a definitive guide for “how to start” an AI project for businesses and nonprofits alike.\n",
        "\n",
        "It was a dark and stormy night when a friend asked me to talk with the founder and CEO of an environmental foundation. Actually, it was a typical California sunny weekend, and we meet over video chat. \n",
        "\n",
        "We had a long informative talk about his environmental foundation and how they have spent over a year building an AI system but failed. What more troubling is that the foundation spends a lot of money on two consulting companies, but there is no AI baseline, the data is not clearly labeled, and last, but not least, the known data biases are not documented. \n",
        "\n",
        "I spend the past five months working on the weekend on a pro bono basis because I believe this nonprofit foundation can positively impact our society. In doing so, I discovered why consulting companies with deep-experienced in mobile apps or companies well-versed in digital transformation strategy do not understand how to start and manage an AI project.\n",
        "\n",
        "Spoiler alert, in the end, I steered the foundation to employ an achievable AI strategy. This journey detailed, with Jupyter notebook, on how I do it.\n",
        "\n",
        "The process starts with defining the three definitive steps for AI project. They are establishing an AI baseline, collecting labeled data, and discovering intentional biases in the data, also known as, the “A1SH” method. The recommended pronunciation is “Ash-e.”\n",
        "\n",
        "Why are they essential?\n",
        "\n",
        "There is not a comprehensive report on why the majority of AI projects failed, but there is anecdotal evidence and articles, such as the [WSJ Pro Artificial article](https://www.wsj.com/articles/ai-project-failure-rates-near-50-but-it-doesnt-have-to-be-that-way-say-experts-11596810601) stated “Companies with artificial-intelligence experience moved just 53% of their AI proof of concepts into production, according to a recent report \\[in 2020]”, and [BMC article](https://www.bmc.com/blogs/cio-ai-artificial-intelligence/) title “Why does Gartner predict up to 85% of AI projects will not deliver \\[in 2018].”\n",
        "\n",
        "The reasons are not for lacking intelligent people nor advances in technology. The answer is in front of us if we look slightly behind us. \n",
        "\n",
        "In the early days of web and mobile development, we have the same dismal success rate as AI. The clients define the features requirements, and the developers rush to implement them. We know now that the above two-steps process is a recipe for disaster. The clients will not be happy with the app experience, and the developers are frustrated because they are not designers or user experience experts. \n",
        "\n",
        "Today, nearly all web and mobile app development follow three steps. The steps are one, the client defines features, two, design agency or UIX experts envision the user-experiences, and three, the developers create the app. Sometimes, the clients choose to do step one and step two collaboratively. As the result mobile and web development success rate is north of 90%.\n",
        "\n",
        "Taking the lesson learned from mobile development, before we rushing into developing an AI model, we must follow the A1SH method. It will increase the success rate substantially, and furthermore, you will definitely know weather your AI project is achievable or not, before entering into the AI developing phase.\n",
        "\n",
        "Before we begin, let’s talk about the foundation project. I have a written consent email from the foundation CEO to use the data and the institute name, but I choose not to use the data nor the foundation name. It is because the first three steps are fundamental, and you can apply them to any AI project.\n",
        "\n",
        "I will pattern the A1SH journey the same as what I did five months with the foundation. The difference is that I choose a fictitious AI project, but it is similar to the actual AI project. \n",
        "\n",
        "For the A1SH journey, the AI project identifies the top thirteen chicken diseases on a chicken farm. \n",
        "\n",
        "I selected the chicken-sickness AI model for many reasons. One of the key reasons is that you are not likely to be a chicken domain expert, and therefore, it reinforces you to learn the process and not jumping ahead to the conclusion. \n",
        "\n",
        "The salient point is that the process applies to a wide range of AI projects. It gives you a solid foundation to build your AI model for business and nonprofit foundations. You will learn the first three steps to ground your AI project. Whether you are constructing a multi-million dollar AI or at the beginning of an idea, the first three must-have steps are the AI-baseline, the labeled data, and the known biases. \n",
        "\n",
        "If you are a chicken-whisper, you are already jumping ahead to the solution, but you must resist the call of the rooster and follow the process. It will be an enjoyable journey for the rest of us, where we will be one of the first to construct an AI model for identifying the top thirteen chicken diseases. To my knowledge, no one has built it. It may not be possible, and that is the beauty of the process. You will definitively know whether your AI idea is viable or not by merely doing the first three steps.\n",
        "\n",
        "The A1SH journey has mind-maps and plenty of Python code. Furthermore, it is written for business and design professionals. If you are a UX practitioner, you will see the similarity between this approach and the [design-thinking](https://en.wikipedia.org/wiki/Design_thinking) approach. \n",
        "Like all the “Demystify AI” series on Jupyter Notebook, if you are an AI professional or AI student, you are welcome and even encourage to hack the code. The code is written in the “River” style, so it very easy to read and hacked, even for novice programmers. :-)\n",
        "\n",
        "It takes a little over five months for this journey to come to light. I use the original Jupyter Notebook to collaborate with the consultants and present to the foundation executive members. I worked as a mobility solution architect for many years, and I am well versed in the art of PowerPoint. Still, I choose to use the Jupyter Notebook as the visual aid in the presentation because I want to drive home the point that developing AI is not the same as creating a mobile app or pontificating on a digital transformation project. \n",
        "\n",
        "I have fun writing and sharing the A1SH journey with you, and I classify it as a \"sandbox\" project. In other words, it is a project focusing on solving one problem.\n"
      ]
    },
    {
      "cell_type": "markdown",
      "metadata": {
        "id": "cDCznRn-J3O6"
      },
      "source": [
        "><h2><center>So if you are ready, let's take a collective calming breath … … and begin.</center></h2>"
      ]
    },
    {
      "cell_type": "markdown",
      "metadata": {
        "id": "anHjAUKwcINA"
      },
      "source": [
        "# 2.0 | Set up"
      ]
    },
    {
      "cell_type": "code",
      "metadata": {
        "colab": {
          "base_uri": "https://localhost:8080/",
          "height": 17
        },
        "id": "5sVFdzknl1H_",
        "outputId": "284b4fa6-9fa4-4b96-f13f-35ca9bfb251b"
      },
      "source": [
        "# OPTIONAL\n",
        "# For Google Colab, (1) Open the \"concole\", e.g. right-click and inspect, (2) Copy the below scripts (from line #10 to #17) and run it.\n",
        "#\n",
        "# If you know how to hack Google Colab Jupyter notebook and run \"javascripts\" as-is below, \n",
        "#i.e., without the need for opening up the console, please share it with me.\n",
        "#\n",
        "# The Javascript is to highlight the code cells' input and output and the code-cells you have executed.\n",
        "#\n",
        "%%js\n",
        "var head = document.head || document.getElementsByTagName(\"head\")[0];\n",
        "var style = document.createElement(\"style\");\n",
        "var css = \".inputarea.code{border-left: 4px solid #20c997;}.cell.focused .inputarea.code{border-left: 4px solid #d63384;}.cell .output{border-left: 4px solid #ffc107;}\";\n",
        "css = css + \":root { --colab-fresh-execution-count-color: #d63384;}\";\n",
        "css = css + \".markdown blockquote {border-left: 10px solid #28a745 !important;border-radius: 10px 4px 4px 10px;padding: 1em 2em;background-color: rgba(30,39,40,0.7);}\"\n",
        "css = css + \" h1,h2,h3,h4,h5 {font-family:serif !important;font-size:2.5em !important;}\"\n",
        "css = css + \"h1{color:#e83e8c !important;;} h2{color:#20c997 !important;font-size:150%;} h3{color:#fd7e14 !important;} h4{color:#007bff !important;}\"\n",
        "head.appendChild(style);\n",
        "style.type = \"text/css\";\n",
        "style.appendChild(document.createTextNode(css));\n"
      ],
      "execution_count": null,
      "outputs": [
        {
          "output_type": "display_data",
          "data": {
            "application/javascript": [
              "var head = document.head || document.getElementsByTagName(\"head\")[0];\n",
              "var style = document.createElement(\"style\");\n",
              "var css = \".inputarea.code{border-left: 4px solid #20c997;}.cell.focused .inputarea.code{border-left: 4px solid #d63384;}.cell .output{border-left: 4px solid #ffc107;}\";\n",
              "css = css + \":root { --colab-fresh-execution-count-color: #d63384;}\";\n",
              "css = css + \".markdown blockquote {border-left: 10px solid #28a745 !important;border-radius: 10px 4px 4px 10px;padding: 1em 2em;background-color: rgba(30,39,40,0.7);}\"\n",
              "css = css + \" h1,h2,h3,h4,h5 {font-family:serif !important;font-size:2.5em !important;}\"\n",
              "css = css + \"h1{color:#e83e8c !important;;} h2{color:#20c997 !important;font-size:150%;} h3{color:#fd7e14 !important;} h4{color:#007bff !important;}\"\n",
              "head.appendChild(style);\n",
              "style.type = \"text/css\";\n",
              "style.appendChild(document.createTextNode(css));"
            ],
            "text/plain": [
              "<IPython.core.display.Javascript object>"
            ]
          },
          "metadata": {
            "tags": []
          }
        }
      ]
    },
    {
      "cell_type": "code",
      "metadata": {
        "id": "6WH6ypPbDUMi"
      },
      "source": [
        "%%js\n",
        "var head = document.head || document.getElementsByTagName(\"head\")[0];\n",
        "var style = document.createElement(\"style\");\n",
        "var css = \".notion-sidebar-container{background-color: cornflowerblue !important;} \";\n",
        "css = css + \".notion-header-block{background-color: #139258;} \";\n",
        "css = css + \".notion-page-content{background-color: slateblue !important;} \";\n",
        "css = css + \".notion-topbar{background-color: slateblue !important;} \";\n",
        "css = css + \".notion-table-view{background-color: #931278;} \";\n",
        "css = css + \".notion-table-view-header-cell{background-color: #135298;} \";\n",
        "head.appendChild(style);\n",
        "style.type = \"text/css\";\n",
        "style.appendChild(document.createTextNode(css));"
      ],
      "execution_count": null,
      "outputs": []
    },
    {
      "cell_type": "code",
      "metadata": {
        "id": "m7_Qo0orlTWB",
        "colab": {
          "base_uri": "https://localhost:8080/"
        },
        "outputId": "c9e9b8ee-f4cd-440c-c516-054ff6b8ea9d"
      },
      "source": [
        "#hide\n",
        "# set up fastbook (include fast.ai)\n",
        "# special case for ERROR: torchtext 0.9.1 has requirement torch==1.8.1, but you'll have torch 1.7.1 which is incompatible.\n",
        "# !pip install torchtext==0.8.1.  \n",
        "# normal\n",
        "!pip install -Uqq fastbook\n",
        "import fastbook\n",
        "fastbook.setup_book()"
      ],
      "execution_count": null,
      "outputs": [
        {
          "output_type": "stream",
          "text": [
            "\u001b[K     |████████████████████████████████| 727kB 29.9MB/s \n",
            "\u001b[K     |████████████████████████████████| 204kB 44.2MB/s \n",
            "\u001b[K     |████████████████████████████████| 1.2MB 44.5MB/s \n",
            "\u001b[K     |████████████████████████████████| 51kB 7.7MB/s \n",
            "\u001b[K     |████████████████████████████████| 61kB 8.9MB/s \n",
            "\u001b[K     |████████████████████████████████| 61kB 9.4MB/s \n",
            "\u001b[?25hMounted at /content/gdrive\n"
          ],
          "name": "stdout"
        }
      ]
    },
    {
      "cell_type": "code",
      "metadata": {
        "id": "FFH0jr1YvIxT"
      },
      "source": [
        "# !pip install torchtext==0.8.1\n",
        "# !pip install -U fastbook"
      ],
      "execution_count": null,
      "outputs": []
    },
    {
      "cell_type": "code",
      "metadata": {
        "id": "qw5DQCX9lTWI"
      },
      "source": [
        "#hide\n",
        "# import all into global space\n",
        "from fastbook import *"
      ],
      "execution_count": null,
      "outputs": []
    },
    {
      "cell_type": "markdown",
      "metadata": {
        "id": "7-FHjcl4c69P"
      },
      "source": [
        "# 3.0 | Make It Your Journey"
      ]
    },
    {
      "cell_type": "markdown",
      "metadata": {
        "id": "4mEqUJbxdQnG"
      },
      "source": [
        "- The power of the Jupyter notebook is interactive and individualized. The best method to learn is to make the journey your own. \n",
        "\n",
        "- The first step is to choose and name your canine companion. This project requires both a deep understanding of AI development and tact, and therefore, there is no better candidate than “Eggna.” She has no relation to the scientist [Edna Marie \"E\" Mode](https://en.wikipedia.org/wiki/Edna_Mode) from Disney’s “The Incredibles” movie. However, they are both great scientists and share a common trait. One is a fictitious cartoon character, while the other is an AI digital canine.\n",
        "\n",
        "\n",
        "- Typically, a dog name is chosen, e.g., \"Beefy,\" \"Jerky,\" or \"Cakina,\" but be warned, don't name it after your cat because a feline will not follow any commands.\n",
        "\n",
        "- If you are serious about learning, start hacking by changing the companion name to your preference. Jupyter notebook allows you to add notes, add new codes, and hack Eggna's code. \n",
        "\n",
        "- As a good little programmer, Eggna (or insert your companion name here) starts by creating an object or class.\n",
        "\n",
        "\n",
        "- - <img src=\"https://github.com/duchaba/fastbook/blob/master/eggna.png?raw=true\" width=\"300\" align=\"center\">"
      ]
    },
    {
      "cell_type": "code",
      "metadata": {
        "id": "a2Te9xy5dR3M"
      },
      "source": [
        "# create class\n",
        "class D0HZ(object):\n",
        "  #\n",
        "  # initialize the object\n",
        "  def __init__(self, name=\"Wallaby\"):\n",
        "    self.author = \"Duc Haba\"\n",
        "    self.name = name\n",
        "    self._ph()\n",
        "    self._pp(\"Hello from\", self.__class__.__name__)\n",
        "    self._pp(\"Code name\", self.name)\n",
        "    self._pp(\"Author is\", self.author)\n",
        "    self._ph()\n",
        "    #\n",
        "    # color pallete\n",
        "    self.color_primary = \"#ff7900\"\n",
        "    self.color_secondary = \"#00c6d7\"\n",
        "    self.color_success = \"#cf0072\"\n",
        "    self.color_warning = \"#d9e506\"\n",
        "    self.color_base = \"#830051\"\n",
        "    self.color_hold = \"#766a65\"\n",
        "    self.color_gray80 = \"#343a40\"\n",
        "    self.color_gray70 = \"#495057\"\n",
        "    self.color_gray40 = \"#ced4da\"\n",
        "    self.color_gray20 = \"#e9ecef\"\n",
        "    return\n",
        "  #\n",
        "  # pretty print output name-value line\n",
        "  def _pp(self, a, b):\n",
        "    print(\"%40s : %s\" % (str(a), str(b)))\n",
        "    return\n",
        "  #\n",
        "  # pretty print the header or footer lines\n",
        "  def _ph(self):\n",
        "    print(\"-\" * 40, \":\", \"-\" * 40)\n",
        "    return\n",
        "  # \n",
        "  # dance\n",
        "  def dance_happy(self):\n",
        "    char = \"        _=,_\\n    o_/6 /#\\\\\\n    \\\\__ |##/\\n     ='|--\\\\\\n       /   #'-.\\n\"\n",
        "    char = char + \"       \\\\#|_   _'-. /\\n        |/ \\\\_( # |\\\" \\n       C/ ,--___/\\n\"\n",
        "    print(char)\n",
        "    self._ph()\n",
        "    self._pp(self.name, \"is ready to rock and roll.\")\n",
        "    self._ph()\n",
        "    return\n",
        "  # \n",
        "  # draw black sheep\n",
        "  def draw_black_sheep(self):\n",
        "    c = \"\\n_________________       _       _       _       _       _       _       _ \\n\"\n",
        "    c = c + \"______________-(_)-  _-(_)-  _-(_)-  _-(\\\")-  _-(_)-  _-(_)-  _-(_)-  _-(_)- \\n\"\n",
        "    c = c + \"___________`(___)  `(___)  `(___)  `(###)  `(___)  `(___)  `(___)  `(___) \\n\"\n",
        "    c = c + \"____________// \\\\\\\\   // \\\\\\\\   // \\\\\\\\   // \\\\\\\\   // \\\\\\\\   // \\\\\\\\   // \\\\\\\\   // \\\\\\\\ \\n\" \n",
        "    print(c) \n",
        "    self._ph()\n",
        "    self._pp(\"bye'aaa\", \"bye'aaa\")\n",
        "    return\n",
        "# ---end of D0HZ class"
      ],
      "execution_count": null,
      "outputs": []
    },
    {
      "cell_type": "code",
      "metadata": {
        "colab": {
          "base_uri": "https://localhost:8080/"
        },
        "id": "I8Ja0miGd14U",
        "outputId": "fdacccb8-68e9-441b-e3d9-0278e5b4d431"
      },
      "source": [
        "# Let start by spawing \"Eggna\"\n",
        "eggna = D0HZ(\"Eggna\")"
      ],
      "execution_count": null,
      "outputs": [
        {
          "output_type": "stream",
          "text": [
            "---------------------------------------- : ----------------------------------------\n",
            "                              Hello from : D0HZ\n",
            "                               Code name : Eggna\n",
            "                               Author is : Duc Haba\n",
            "---------------------------------------- : ----------------------------------------\n"
          ],
          "name": "stdout"
        }
      ]
    },
    {
      "cell_type": "code",
      "metadata": {
        "colab": {
          "base_uri": "https://localhost:8080/"
        },
        "id": "5_7G4xY0d2G0",
        "outputId": "0dd20f55-187b-4137-c253-4fd2d547e458"
      },
      "source": [
        "# Check it\n",
        "eggna.dance_happy()"
      ],
      "execution_count": null,
      "outputs": [
        {
          "output_type": "stream",
          "text": [
            "        _=,_\n",
            "    o_/6 /#\\\n",
            "    \\__ |##/\n",
            "     ='|--\\\n",
            "       /   #'-.\n",
            "       \\#|_   _'-. /\n",
            "        |/ \\_( # |\" \n",
            "       C/ ,--___/\n",
            "\n",
            "---------------------------------------- : ----------------------------------------\n",
            "                                   Eggna : is ready to rock and roll.\n",
            "---------------------------------------- : ----------------------------------------\n"
          ],
          "name": "stdout"
        }
      ]
    },
    {
      "cell_type": "code",
      "metadata": {
        "id": "GCyHdtzcbiFC"
      },
      "source": [
        "# def rev(s):\n",
        "#   r = s[::-1]\n",
        "#   return r"
      ],
      "execution_count": null,
      "outputs": []
    },
    {
      "cell_type": "markdown",
      "metadata": {
        "id": "gBK9Uh0Heo9V"
      },
      "source": [
        "- When copying the code into Atom's project, Eggna would add the methods during the class definition, but he will hack-it and add new class functions throughout the notebook journey."
      ]
    },
    {
      "cell_type": "code",
      "metadata": {
        "id": "17Z8dRD7evst"
      },
      "source": [
        "# Hack it!\n",
        "# add_method() is copy from Michael Garod's blog, \n",
        "# https://medium.com/@mgarod/dynamically-add-a-method-to-a-class-in-python-c49204b85bd6\n",
        "# AND correction by: Филя Усков\n",
        "#\n",
        "import functools\n",
        "def add_method(cls):\n",
        "  def decorator(func):\n",
        "    @functools.wraps(func) \n",
        "    def wrapper(self, *args, **kwargs): \n",
        "      return func(self,*args, **kwargs)\n",
        "    setattr(cls, func.__name__, wrapper)\n",
        "    return func # returning func means func can still be used normally\n",
        "  return decorator"
      ],
      "execution_count": null,
      "outputs": []
    },
    {
      "cell_type": "markdown",
      "metadata": {
        "id": "As6qWmvihbgj"
      },
      "source": [
        "# 4.0 | Following The \"River\" Coding Style"
      ]
    },
    {
      "cell_type": "markdown",
      "metadata": {
        "id": "sq1zs_b-hi9d"
      },
      "source": [
        "- Eggna uses the \"river\" coding style.\n",
        "\n",
        "- The style uses a full library name, sub-class, and following by the function name. Jupyter notebook has auto-complete, so Eggna would not misspell long variable and function name. \n",
        "\n",
        "- Eggna is NOT using the global-space, such as \"import numpy *\" or using the shorten name like \"import matplotlib.pyplot as ptl.” Instead she is using the full {river} name as in “numpy.random.randint().”\n",
        "\n",
        "- Furthermore, Eggna shies away from using Python language-specific syntax shorthand, such as the “assigned if” statement construct. She likes to write the Python code using standard Python libraries and not relying on exotic packages. \n",
        "\n",
        "- The primary reason for using the “river” coding style coupled with a descriptive naming convention is that it is easier to read, hack, and translate to Swift or Javascript.\n",
        "\n",
        "- For any sandbox project, Eggna is in the exploration mode, and therefore, she will refactor and optimize the code afterward. When Eggna using [Atom IDE](htpps://atom.io) to upload the code to GitHub, she may refactor them to make them run faster, but not for syntax compaction or syntax shorthand. \n"
      ]
    },
    {
      "cell_type": "markdown",
      "metadata": {
        "id": "fAWtiagWivQh"
      },
      "source": [
        "# 5.0 | ML Baseline"
      ]
    },
    {
      "cell_type": "code",
      "metadata": {
        "id": "-iFskGSzj0lQ"
      },
      "source": [
        "# draw graph using graphvix.org\n",
        "@add_method(D0HZ)\n",
        "def _draw_graph_viz(self,graph,label,direction=\"LR\",arrow_head=\"normal\",bgcolor=\"#dee2e6\", \n",
        "  edge_color=\"#6c757d\",default_shape=\"oval\",font_color=\"#343a40\", is_filled=True,\n",
        "  fill_color=\"#ced4da\",label_color=\"#17a2b8\",graph_size=\"\",node_font_size=14.0,engine=\"dot\",\n",
        "  ranksep=\"0.5\"):\n",
        "  # \n",
        "  # set up\n",
        "  fill = ''\n",
        "  if (is_filled):\n",
        "    fill = ' style=filled color=\"#343a40\" fillcolor=\"' + fill_color + '\" '\n",
        "  gsize =''\n",
        "  if (graph_size != \"\"):\n",
        "    gsize = ' size=\"' + str(graph_size) + '\" '\n",
        "  x = 'digraph G{'\n",
        "  x += 'label=\"' + label + '\" '\n",
        "  x += 'rankdir=\"' + direction + '\" '\n",
        "  x += 'layout=\"' + engine + '\" '\n",
        "  #\n",
        "  x += 'node [ fontname=\"Arial\" '\n",
        "  x += fill\n",
        "  x += 'shape=' + default_shape + ' '\n",
        "  x += 'fontcolor=\"' + font_color + '\" '\n",
        "  x += 'fontsize=' + str(node_font_size) + ' '  \n",
        "  x += ' ] '\n",
        "  #\n",
        "  x += 'graph [pad=0.4 fontsize=20 fontcolor=\"' + label_color + '\" ' + gsize + ' '\n",
        "  x += 'bgcolor=\"' + bgcolor + '\" '\n",
        "  x += 'ranksep=\"' + ranksep + '\" '\n",
        "  x += ' ] '\n",
        "  #\n",
        "  x += 'edge ['\n",
        "  x += 'arrowhead=' + arrow_head + ' '\n",
        "  x += 'color=\"' + edge_color + '\" '\n",
        "  x += ' ] '\n",
        "  #\n",
        "  x += graph\n",
        "  x += ' }'\n",
        "  display(graphviz.Source(x))\n",
        "  return \n",
        "#\n",
        "#\n",
        "# draw the journey\n",
        "@add_method(D0HZ)\n",
        "def draw_journey(self):\n",
        "  x = '\"Eggna\\nHome\"[shape=circle style=filled fontcolor=\"#ffffff\" fillcolor=\"' + self.color_primary + '\" ] '\n",
        "  x += 'Baseline[shape=circle style=filled fillcolor=\"' + self.color_warning + '\" ] '\n",
        "  x += '\"Labeled Data\"[shape=circle style=filled fillcolor=\"' + self.color_warning + '\" ] '\n",
        "  x += '\"Known Biases\"[shape=circle style=filled fillcolor=\"' + self.color_warning + '\" ] '\n",
        "  x += '\"Eggna\\nHome\"->\"Baseline\"->\"Labeled Data\"->\"Known Biases\"; '\n",
        "  x += '\"Known Biases\"->\"Wrap up\"->\"Eggna\\nHome\"[constraint=false, style=\"dashed\" arrowhead=\"dot\"] '\n",
        "  #\n",
        "  self._draw_graph_viz(x,\"Figure-1, Eggna's A1SH Journey\",default_shape=\"circle\",bgcolor=\"#ffffff\")\n",
        "  return\n"
      ],
      "execution_count": null,
      "outputs": []
    },
    {
      "cell_type": "code",
      "metadata": {
        "colab": {
          "base_uri": "https://localhost:8080/",
          "height": 436
        },
        "id": "H2uwCzSBlR48",
        "outputId": "1ead3178-598f-4bc4-9306-7f8dcab1a4fb"
      },
      "source": [
        "# draw it\n",
        "eggna.draw_journey()"
      ],
      "execution_count": null,
      "outputs": [
        {
          "output_type": "display_data",
          "data": {
            "text/plain": [
              "<graphviz.files.Source at 0x7f738f7e1350>"
            ],
            "image/svg+xml": "<?xml version=\"1.0\" encoding=\"UTF-8\" standalone=\"no\"?>\n<!DOCTYPE svg PUBLIC \"-//W3C//DTD SVG 1.1//EN\"\n \"http://www.w3.org/Graphics/SVG/1.1/DTD/svg11.dtd\">\n<!-- Generated by graphviz version 2.40.1 (20161225.0304)\n -->\n<!-- Title: G Pages: 1 -->\n<svg width=\"631pt\" height=\"311pt\"\n viewBox=\"0.00 0.00 630.96 311.24\" xmlns=\"http://www.w3.org/2000/svg\" xmlns:xlink=\"http://www.w3.org/1999/xlink\">\n<g id=\"graph0\" class=\"graph\" transform=\"scale(1 1) rotate(0) translate(28.8 282.4396)\">\n<title>G</title>\n<polygon fill=\"#ffffff\" stroke=\"transparent\" points=\"-28.8,28.8 -28.8,-282.4396 602.1587,-282.4396 602.1587,28.8 -28.8,28.8\"/>\n<text text-anchor=\"middle\" x=\"286.6794\" y=\"-10\" font-family=\"Times,serif\" font-size=\"20.00\" fill=\"#17a2b8\">Figure&#45;1, Eggna&#39;s A1SH Journey</text>\n<!-- Eggna\nHome -->\n<g id=\"node1\" class=\"node\">\n<title>Eggna\nHome</title>\n<ellipse fill=\"#ff7900\" stroke=\"#343a40\" cx=\"46.1459\" cy=\"-182.1459\" rx=\"41.9398\" ry=\"41.9398\"/>\n<text text-anchor=\"middle\" x=\"46.1459\" y=\"-185.9459\" font-family=\"Arial\" font-size=\"14.00\" fill=\"#ffffff\">Eggna</text>\n<text text-anchor=\"middle\" x=\"46.1459\" y=\"-170.9459\" font-family=\"Arial\" font-size=\"14.00\" fill=\"#ffffff\">Home</text>\n</g>\n<!-- Baseline -->\n<g id=\"node2\" class=\"node\">\n<title>Baseline</title>\n<ellipse fill=\"#d9e506\" stroke=\"#343a40\" cx=\"175.7376\" cy=\"-182.1459\" rx=\"47.3916\" ry=\"47.3916\"/>\n<text text-anchor=\"middle\" x=\"175.7376\" y=\"-178.4459\" font-family=\"Arial\" font-size=\"14.00\" fill=\"#343a40\">Baseline</text>\n</g>\n<!-- Eggna\nHome&#45;&gt;Baseline -->\n<g id=\"edge1\" class=\"edge\">\n<title>Eggna\nHome&#45;&gt;Baseline</title>\n<path fill=\"none\" stroke=\"#6c757d\" d=\"M88.2206,-182.1459C97.6552,-182.1459 107.8256,-182.1459 117.7785,-182.1459\"/>\n<polygon fill=\"#6c757d\" stroke=\"#6c757d\" points=\"118.0317,-185.646 128.0317,-182.1459 118.0316,-178.646 118.0317,-185.646\"/>\n</g>\n<!-- Labeled Data -->\n<g id=\"node3\" class=\"node\">\n<title>Labeled Data</title>\n<ellipse fill=\"#d9e506\" stroke=\"#343a40\" cx=\"326.7774\" cy=\"-182.1459\" rx=\"67.6881\" ry=\"67.6881\"/>\n<text text-anchor=\"middle\" x=\"326.7774\" y=\"-178.4459\" font-family=\"Arial\" font-size=\"14.00\" fill=\"#343a40\">Labeled Data</text>\n</g>\n<!-- Baseline&#45;&gt;Labeled Data -->\n<g id=\"edge2\" class=\"edge\">\n<title>Baseline&#45;&gt;Labeled Data</title>\n<path fill=\"none\" stroke=\"#6c757d\" d=\"M223.5275,-182.1459C231.6651,-182.1459 240.3014,-182.1459 248.9779,-182.1459\"/>\n<polygon fill=\"#6c757d\" stroke=\"#6c757d\" points=\"249.1544,-185.646 259.1543,-182.1459 249.1543,-178.646 249.1544,-185.646\"/>\n</g>\n<!-- Known Biases -->\n<g id=\"node4\" class=\"node\">\n<title>Known Biases</title>\n<ellipse fill=\"#d9e506\" stroke=\"#343a40\" cx=\"501.8651\" cy=\"-182.1459\" rx=\"71.4873\" ry=\"71.4873\"/>\n<text text-anchor=\"middle\" x=\"501.8651\" y=\"-178.4459\" font-family=\"Arial\" font-size=\"14.00\" fill=\"#343a40\">Known Biases</text>\n</g>\n<!-- Labeled Data&#45;&gt;Known Biases -->\n<g id=\"edge3\" class=\"edge\">\n<title>Labeled Data&#45;&gt;Known Biases</title>\n<path fill=\"none\" stroke=\"#6c757d\" d=\"M394.4709,-182.1459C402.909,-182.1459 411.6069,-182.1459 420.228,-182.1459\"/>\n<polygon fill=\"#6c757d\" stroke=\"#6c757d\" points=\"420.2931,-185.646 430.2931,-182.1459 420.293,-178.646 420.2931,-185.646\"/>\n</g>\n<!-- Wrap up -->\n<g id=\"node5\" class=\"node\">\n<title>Wrap up</title>\n<ellipse fill=\"#ced4da\" stroke=\"#343a40\" cx=\"46.1459\" cy=\"-76.1459\" rx=\"46.2923\" ry=\"46.2923\"/>\n<text text-anchor=\"middle\" x=\"46.1459\" y=\"-72.4459\" font-family=\"Arial\" font-size=\"14.00\" fill=\"#343a40\">Wrap up</text>\n</g>\n<!-- Known Biases&#45;&gt;Wrap up -->\n<g id=\"edge4\" class=\"edge\">\n<title>Known Biases&#45;&gt;Wrap up</title>\n<path fill=\"none\" stroke=\"#6c757d\" stroke-dasharray=\"5,2\" d=\"M447.9633,-134.9924C431.747,-123.2665 413.2239,-112.0777 394.3714,-105.1459 295.6124,-68.8337 170.8243,-68.4146 100.6142,-71.9201\"/>\n<ellipse fill=\"#6c757d\" stroke=\"#6c757d\" cx=\"96.3222\" cy=\"-72.1504\" rx=\"4\" ry=\"4\"/>\n</g>\n<!-- Wrap up&#45;&gt;Eggna\nHome -->\n<g id=\"edge5\" class=\"edge\">\n<title>Wrap up&#45;&gt;Eggna\nHome</title>\n<path fill=\"none\" stroke=\"#6c757d\" stroke-dasharray=\"5,2\" d=\"M46.1459,-122.5209C46.1459,-125.7477 46.1459,-128.9745 46.1459,-132.2012\"/>\n<ellipse fill=\"#6c757d\" stroke=\"#6c757d\" cx=\"46.146\" cy=\"-136.2221\" rx=\"4\" ry=\"4\"/>\n</g>\n</g>\n</svg>\n"
          },
          "metadata": {
            "tags": []
          }
        }
      ]
    },
    {
      "cell_type": "markdown",
      "metadata": {
        "id": "c-JTKeW7i-5K"
      },
      "source": [
        "- In the previous journey, Rocky uses the “GraphViz” library to draw mind-map diagrams. They are super effective in reinforcing the journey lessons, so Eggna adopts the same mind-map technique. The mind-map code is a copy from Rocky’s Jupyter notebook. The full description is on Rocky’s  \"[Fast.ai Book Study Group #G1FA](https://colab.research.google.com/drive/1oPuTIlZvCCQDwcajertGNvzXKZse54nK)\" journey.\n",
        "\n",
        "- Why \"drag and drop\" while you can code. Writing code is more fun. :-)\n",
        "\n",
        "- Figure-1 illustrates the A1SH journey for Eggna. Her first stop is “AI-baseline,” then onward to “Labeled Data” and finishing up with “Known Data Biases.” Eggna loves using the mind-maps because she can trail off on a tangent and not get lost.\n",
        "\n",
        "- The AI-baseline definition is a measurable and verifiable number or matrix for comparing to the AI model accuracy. In other words, what is the target accuracy for the AI model?\n",
        "\n",
        "- It is an obvious first question, but Eggna found that it is not easy to answer accurately. The client’s knee-jerk response is 100% accurate because it is an artificial intelligence system, so it should be perfect.\n",
        "\n",
        "- Here is where most consulting companies failed. They rely on the customer to set the target accuracy without thoroughly review the data. Eggna recognizes the difficulty that when the client gave a measurable goal, e.g., 95% to 99% accuracy, the consultant has to accept it. However, a better method is to educate the client on how to reach an achievable AI-baseline.\n",
        "\n",
        "- On the nonprofit foundation project, the opposite happens. The consultants convinced the CEO that AI is too complex to set a target accuracy goal before development. Unfortunately, the “too complex” excuses are prevalent in many real-world AI projects. The answer is the A1SH process defines an achievable AI-baseline, and Eggna will demonstrate it.\n",
        "\n",
        "\n",
        "\n",
        "\n",
        " \n"
      ]
    },
    {
      "cell_type": "markdown",
      "metadata": {
        "id": "WYiCwI3EBVNz"
      },
      "source": [
        "# 6.0 | Detour AI Classification"
      ]
    },
    {
      "cell_type": "markdown",
      "metadata": {
        "id": "P5tZ3t7GgpOy"
      },
      "source": [
        "- Before deep dive into AI-baseline, Eggna will detour into the world of AI classification. It is an ugly picture out there. There are too many classifications, and most categories are a wishlist for future AI. Unfortunately, these optimistic classifications obfuscate AI instead of demystifying AI. \n",
        "\n",
        "- For example, the popular classification of AI is (1) Reactive Machines, (2) Limited Memory, (3) Theory of Mind, and (4) Self Aware. These four categories are a subset of the Forbes article “[7 Types Of Artificial Intelligence](https://www.forbes.com/sites/cognitiveworld/2019/06/19/7-types-of-artificial-intelligence)” by Naveen Joshi in June 2019.\n",
        "\n",
        "\n",
        "- Number 4 “Self Aware,” 6 “Artificial General Intelligence (AGI),” and 7 “Artificial Superintelligence (ASI)” are far in the future that it may not be achievable. Hue-mon {human} could barely agree on the definition of “consciousness.” The closest description of artificial consciousness is the “Turing Test” by Alan Turing in 1950, in which he named the “imitation game.” The original Alan’s paper is the “[Computing Machinery and Intelligence. Mind 49: 433-460.](https://www.csee.umbc.edu/courses/471/papers/turing.pdf)”\n",
        "\n",
        "- As an analogy, if Eggna asks Mr. Neil Armstrong, Michael Collins, or Buzz Aldrin after they made the trip to the moon in 1969, “...so you have been to the moon, how long will it take you to go to Proxima-B planet in the Proxima Centauri star system?”\n",
        "In 2021, the iPhone has 120 million times more computing power than the “Apollo 11” spacecraft, and yet, on February 18, 2021, it takes NASA 203 days to send a spacecraft rover, “Perseverance,” nicknamed “Percy,” to Mars. The distance between Mars and Earth is about 55 million kilometers. Therefore, a little bit of calculation later, the trip to “Proxima B,” 4.25 light-year from Earth, would take 137 thousand years. Clearly, engineers must create breakthrough technology before Mr. Armstrong can make the trip. \n",
        "\n",
        "- Traveling to the “Proxima B” planet is the same technical difficulty as AI reaches “consciousness.” Google, Facebook, the Department of Defense (DOD), and hundreds of AI companies create impressive AI today. It is comparable to the “landing on the moon” analogy, but to achieve a sentient AI would take many unfathomable breakthroughs. Quantum computing could be one of those many breakthroughs. \n",
        "\n"
      ]
    },
    {
      "cell_type": "code",
      "metadata": {
        "id": "lnW3ltSxB50j"
      },
      "source": [
        "#\n",
        "# draw the ai classification\n",
        "@add_method(D0HZ)\n",
        "def draw_ai_classification(self):\n",
        "  x = '\"Artificial\\nIntelligent (AI)\"[shape=circle style=filled fontcolor=\"#ffffff\" fixedsize=\"true\" width=\"2\" height=\"2\" fillcolor=\"' + self.color_primary + '\" ] '\n",
        "  x += '\"Machine\\nLearning (ML)\"[shape=circle style=filled fontcolor=\"#ffffff\" fixedsize=\"true\" width=\"1.6\" height=\"1.6\" fillcolor=\"' + self.color_secondary + '\" ] '\n",
        "  x += '\"Deep\\nLearning (DL)\"[shape=circle style=filled fontcolor=\"#ffffff\" fixedsize=\"true\" width=\"1.4\" height=\"1.4\" fillcolor=\"' + self.color_success + '\" ] '\n",
        "  x += '\"9 Other\\nAlgorithms\"[shape=circle fontsize=\"8\" style=\"filled\" fillcolor=\"' + self.color_warning + '\" ] '\n",
        "  x += '\"Explicitly\\nProgram\"[shape=circle fontsize=\"8\" style=\"filled\" fillcolor=\"' + self.color_warning + '\" ] '\n",
        "  x += '\"Supervised &\\nUnsupervised\"[shape=circle fontsize=\"8\" style=\"filled,dashed\" color=\"#ffffff\" fillcolor=\"' + self.color_warning + '\" ] '\n",
        "  x += '\"Reinforcement\\n(13 Algorithms)\"[shape=circle fontsize=\"8\" style=\"filled,dashed\" color=\"#ffffff\" fillcolor=\"' + self.color_warning + '\" ] '\n",
        "  #\n",
        "  x += 'Vision[shape=circle fontsize=\"12\" fontcolor=\"#ffffff\" style=\"filled\" fillcolor=\"' + self.color_base + '\" ] '\n",
        "  x += 'NLP[shape=circle fontsize=\"12\" fontcolor=\"#ffffff\" style=\"filled\" fillcolor=\"' + self.color_base + '\" ] '\n",
        "  x += 'Tabular[shape=circle fontsize=\"12\" fontcolor=\"#ffffff\" style=\"filled\" fillcolor=\"' + self.color_base + '\" ] '\n",
        "  x += '\"Eggna A1SH\\n(Chicken Sickness)\"[shape=circle fontsize=\"8\" style=filled fontcolor=\"#ffffff\" fillcolor=\"' + self.color_primary + '\" ] '\n",
        "  # \n",
        "  x += 'subgraph cluster_1 { label=\"Mimic human behavior...\" fontname=\"Sans-Serif\" fontsize=\"12\" fillcolor=\"' + self.color_hold + '\"; '\n",
        "  x += 'style=filled color=\"#909090\" fontcolor=\"#ffffff\" shape=circle \"Artificial\\nIntelligent (AI)\"->\"Explicitly\\nProgram\"[color=\"#ffffff\" arrowhead=\"dot\"]; '\n",
        "  # \n",
        "  x += 'subgraph cluster_2 { label=\"Learn without\\nexplicitly program...\" '\n",
        "  x += '\"Machine\\nLearning (ML)\"->\"Supervised &\\nUnsupervised\"->\"9 Other\\nAlgorithms\"[color=\"#ffffff\" arrowhead=\"dot\"]; '\n",
        "  x += '\"Machine\\nLearning (ML)\"->\"Reinforcement\\n(13 Algorithms)\"[color=\"#ffffff\" arrowhead=\"dot\"]; '\n",
        "  #\n",
        "  x += 'subgraph cluster_3 { label=\"Compute multi-layer artificial\\nneural network (ANN) algorithm...\" \"Deep\\nLearning (DL)\"; } } }'\n",
        "  #\n",
        "  x += '\"Artificial\\nIntelligent (AI)\"->\"Machine\\nLearning (ML)\"[color=\"#ffffff\" ] '\n",
        "  x += '\"Supervised &\\nUnsupervised\"->\"Deep\\nLearning (DL)\"[color=\"#ffffff\" ] '\n",
        "  #\n",
        "  x += '\"Deep\\nLearning (DL)\"->Vision[color=\"#495057\" ] '\n",
        "  x += '\"Deep\\nLearning (DL)\"->NLP[color=\"#495057\" arrowhead=\"dot\" ] '\n",
        "  x += '\"Deep\\nLearning (DL)\"->Tabular[color=\"#495057\" arrowhead=\"dot\" ] '\n",
        "  x += 'Vision->\"Eggna A1SH\\n(Chicken Sickness)\"[color=\"#495057\" ] '\n",
        "  #\n",
        "  self._draw_graph_viz(x,\"Figure-2, Eggna AI Classification\",default_shape=\"circle\",bgcolor=\"#ffffff\",direction=\"LR\",node_font_size=12)\n",
        "  return"
      ],
      "execution_count": null,
      "outputs": []
    },
    {
      "cell_type": "code",
      "metadata": {
        "colab": {
          "base_uri": "https://localhost:8080/",
          "height": 733
        },
        "id": "X0MpPQEAJbJH",
        "outputId": "6c0eb6f9-8b52-4c32-8769-95450a654cc0"
      },
      "source": [
        "# draw it\n",
        "eggna.draw_ai_classification()"
      ],
      "execution_count": null,
      "outputs": [
        {
          "output_type": "display_data",
          "data": {
            "text/plain": [
              "<graphviz.files.Source at 0x7f2bd1c98550>"
            ],
            "image/svg+xml": "<?xml version=\"1.0\" encoding=\"UTF-8\" standalone=\"no\"?>\n<!DOCTYPE svg PUBLIC \"-//W3C//DTD SVG 1.1//EN\"\n \"http://www.w3.org/Graphics/SVG/1.1/DTD/svg11.dtd\">\n<!-- Generated by graphviz version 2.40.1 (20161225.0304)\n -->\n<!-- Title: G Pages: 1 -->\n<svg width=\"1072pt\" height=\"534pt\"\n viewBox=\"0.00 0.00 1071.82 534.07\" xmlns=\"http://www.w3.org/2000/svg\" xmlns:xlink=\"http://www.w3.org/1999/xlink\">\n<g id=\"graph0\" class=\"graph\" transform=\"scale(1 1) rotate(0) translate(28.8 505.2729)\">\n<title>G</title>\n<polygon fill=\"#ffffff\" stroke=\"transparent\" points=\"-28.8,28.8 -28.8,-505.2729 1043.0199,-505.2729 1043.0199,28.8 -28.8,28.8\"/>\n<text text-anchor=\"middle\" x=\"507.11\" y=\"-10\" font-family=\"Times,serif\" font-size=\"20.00\" fill=\"#17a2b8\">Figure&#45;2, Eggna AI Classification</text>\n<g id=\"clust1\" class=\"cluster\">\n<title>cluster_1</title>\n<polygon fill=\"#766a65\" stroke=\"#909090\" points=\"8,-67.4729 8,-468.4729 771.4092,-468.4729 771.4092,-67.4729 8,-67.4729\"/>\n<text text-anchor=\"middle\" x=\"389.7046\" y=\"-454.8729\" font-family=\"Sans-Serif\" font-size=\"12.00\" fill=\"#ffffff\">Mimic human behavior...</text>\n</g>\n<g id=\"clust2\" class=\"cluster\">\n<title>cluster_2</title>\n<polygon fill=\"#766a65\" stroke=\"#909090\" points=\"188,-75.4729 188,-363.4729 763.4092,-363.4729 763.4092,-75.4729 188,-75.4729\"/>\n<text text-anchor=\"middle\" x=\"475.7046\" y=\"-349.8729\" font-family=\"Sans-Serif\" font-size=\"12.00\" fill=\"#ffffff\">Learn without</text>\n<text text-anchor=\"middle\" x=\"475.7046\" y=\"-336.8729\" font-family=\"Sans-Serif\" font-size=\"12.00\" fill=\"#ffffff\">explicitly program...</text>\n</g>\n<g id=\"clust3\" class=\"cluster\">\n<title>cluster_3</title>\n<polygon fill=\"#766a65\" stroke=\"#909090\" points=\"491.4092,-83.4729 491.4092,-235.4729 755.4092,-235.4729 755.4092,-83.4729 491.4092,-83.4729\"/>\n<text text-anchor=\"middle\" x=\"623.4092\" y=\"-221.8729\" font-family=\"Sans-Serif\" font-size=\"12.00\" fill=\"#ffffff\">Compute multi&#45;layer artificial</text>\n<text text-anchor=\"middle\" x=\"623.4092\" y=\"-208.8729\" font-family=\"Sans-Serif\" font-size=\"12.00\" fill=\"#ffffff\">neural network (ANN) algorithm...</text>\n</g>\n<!-- Artificial\nIntelligent (AI) -->\n<g id=\"node1\" class=\"node\">\n<title>Artificial\nIntelligent (AI)</title>\n<ellipse fill=\"#ff7900\" stroke=\"#343a40\" cx=\"88\" cy=\"-315.4729\" rx=\"72\" ry=\"72\"/>\n<text text-anchor=\"middle\" x=\"88\" y=\"-318.8729\" font-family=\"Arial\" font-size=\"12.00\" fill=\"#ffffff\">Artificial</text>\n<text text-anchor=\"middle\" x=\"88\" y=\"-305.8729\" font-family=\"Arial\" font-size=\"12.00\" fill=\"#ffffff\">Intelligent (AI)</text>\n</g>\n<!-- Machine\nLearning (ML) -->\n<g id=\"node2\" class=\"node\">\n<title>Machine\nLearning (ML)</title>\n<ellipse fill=\"#00c6d7\" stroke=\"#343a40\" cx=\"253.5\" cy=\"-263.4729\" rx=\"57.5\" ry=\"57.5\"/>\n<text text-anchor=\"middle\" x=\"253.5\" y=\"-266.8729\" font-family=\"Arial\" font-size=\"12.00\" fill=\"#ffffff\">Machine</text>\n<text text-anchor=\"middle\" x=\"253.5\" y=\"-253.8729\" font-family=\"Arial\" font-size=\"12.00\" fill=\"#ffffff\">Learning (ML)</text>\n</g>\n<!-- Artificial\nIntelligent (AI)&#45;&gt;Machine\nLearning (ML) -->\n<g id=\"edge5\" class=\"edge\">\n<title>Artificial\nIntelligent (AI)&#45;&gt;Machine\nLearning (ML)</title>\n<path fill=\"none\" stroke=\"#ffffff\" d=\"M156.7491,-293.8719C167.4244,-290.5178 178.4199,-287.063 188.9968,-283.7397\"/>\n<polygon fill=\"#ffffff\" stroke=\"#ffffff\" points=\"190.0804,-287.0681 198.5714,-280.7314 187.9821,-280.3899 190.0804,-287.0681\"/>\n</g>\n<!-- Explicitly\nProgram -->\n<g id=\"node5\" class=\"node\">\n<title>Explicitly\nProgram</title>\n<ellipse fill=\"#d9e506\" stroke=\"#343a40\" cx=\"253.5\" cy=\"-405.4729\" rx=\"33.8824\" ry=\"33.8824\"/>\n<text text-anchor=\"middle\" x=\"253.5\" y=\"-408.0729\" font-family=\"Arial\" font-size=\"8.00\" fill=\"#343a40\">Explicitly</text>\n<text text-anchor=\"middle\" x=\"253.5\" y=\"-399.0729\" font-family=\"Arial\" font-size=\"8.00\" fill=\"#343a40\">Program</text>\n</g>\n<!-- Artificial\nIntelligent (AI)&#45;&gt;Explicitly\nProgram -->\n<g id=\"edge1\" class=\"edge\">\n<title>Artificial\nIntelligent (AI)&#45;&gt;Explicitly\nProgram</title>\n<path fill=\"none\" stroke=\"#ffffff\" d=\"M151.5133,-350.0118C173.499,-361.9678 197.4026,-374.9667 216.5384,-385.3729\"/>\n<ellipse fill=\"#ffffff\" stroke=\"#ffffff\" cx=\"220.111\" cy=\"-387.3157\" rx=\"4\" ry=\"4\"/>\n</g>\n<!-- Supervised &amp;\nUnsupervised -->\n<g id=\"node6\" class=\"node\">\n<title>Supervised &amp;\nUnsupervised</title>\n<ellipse fill=\"#d9e506\" stroke=\"#ffffff\" stroke-dasharray=\"5,2\" cx=\"397.2046\" cy=\"-151.4729\" rx=\"48.1667\" ry=\"48.1667\"/>\n<text text-anchor=\"middle\" x=\"397.2046\" y=\"-154.0729\" font-family=\"Arial\" font-size=\"8.00\" fill=\"#343a40\">Supervised &amp;</text>\n<text text-anchor=\"middle\" x=\"397.2046\" y=\"-145.0729\" font-family=\"Arial\" font-size=\"8.00\" fill=\"#343a40\">Unsupervised</text>\n</g>\n<!-- Machine\nLearning (ML)&#45;&gt;Supervised &amp;\nUnsupervised -->\n<g id=\"edge2\" class=\"edge\">\n<title>Machine\nLearning (ML)&#45;&gt;Supervised &amp;\nUnsupervised</title>\n<path fill=\"none\" stroke=\"#ffffff\" d=\"M298.969,-228.0354C316.1008,-214.6833 335.5563,-199.5201 352.6077,-186.2306\"/>\n<ellipse fill=\"#ffffff\" stroke=\"#ffffff\" cx=\"356.1049\" cy=\"-183.505\" rx=\"4\" ry=\"4\"/>\n</g>\n<!-- Reinforcement\n(34 Algorithms) -->\n<g id=\"node7\" class=\"node\">\n<title>Reinforcement\n(34 Algorithms)</title>\n<ellipse fill=\"#d9e506\" stroke=\"#ffffff\" stroke-dasharray=\"5,2\" cx=\"397.2046\" cy=\"-267.4729\" rx=\"50.41\" ry=\"50.41\"/>\n<text text-anchor=\"middle\" x=\"397.2046\" y=\"-270.0729\" font-family=\"Arial\" font-size=\"8.00\" fill=\"#343a40\">Reinforcement</text>\n<text text-anchor=\"middle\" x=\"397.2046\" y=\"-261.0729\" font-family=\"Arial\" font-size=\"8.00\" fill=\"#343a40\">(34 Algorithms)</text>\n</g>\n<!-- Machine\nLearning (ML)&#45;&gt;Reinforcement\n(34 Algorithms) -->\n<g id=\"edge4\" class=\"edge\">\n<title>Machine\nLearning (ML)&#45;&gt;Reinforcement\n(34 Algorithms)</title>\n<path fill=\"none\" stroke=\"#ffffff\" d=\"M311.1221,-265.0768C320.2093,-265.3297 329.6128,-265.5915 338.7194,-265.8449\"/>\n<ellipse fill=\"#ffffff\" stroke=\"#ffffff\" cx=\"342.9831\" cy=\"-265.9636\" rx=\"4\" ry=\"4\"/>\n</g>\n<!-- Deep\nLearning (DL) -->\n<g id=\"node3\" class=\"node\">\n<title>Deep\nLearning (DL)</title>\n<ellipse fill=\"#cf0072\" stroke=\"#343a40\" cx=\"622.9092\" cy=\"-142.4729\" rx=\"50.5\" ry=\"50.5\"/>\n<text text-anchor=\"middle\" x=\"622.9092\" y=\"-145.8729\" font-family=\"Arial\" font-size=\"12.00\" fill=\"#ffffff\">Deep</text>\n<text text-anchor=\"middle\" x=\"622.9092\" y=\"-132.8729\" font-family=\"Arial\" font-size=\"12.00\" fill=\"#ffffff\">Learning (DL)</text>\n</g>\n<!-- Vision -->\n<g id=\"node8\" class=\"node\">\n<title>Vision</title>\n<ellipse fill=\"#830051\" stroke=\"#343a40\" cx=\"817.882\" cy=\"-216.4729\" rx=\"30.5603\" ry=\"30.5603\"/>\n<text text-anchor=\"middle\" x=\"817.882\" y=\"-213.3729\" font-family=\"Arial\" font-size=\"12.00\" fill=\"#ffffff\">Vision</text>\n</g>\n<!-- Deep\nLearning (DL)&#45;&gt;Vision -->\n<g id=\"edge7\" class=\"edge\">\n<title>Deep\nLearning (DL)&#45;&gt;Vision</title>\n<path fill=\"none\" stroke=\"#495057\" d=\"M670.6558,-159.0473C699.9009,-169.394 738.0036,-183.2237 771.4092,-196.4729 774.2567,-197.6022 777.1908,-198.7951 780.1352,-200.0131\"/>\n<polygon fill=\"#495057\" stroke=\"#495057\" points=\"778.9056,-203.2929 789.4805,-203.9426 781.6188,-196.8401 778.9056,-203.2929\"/>\n</g>\n<!-- NLP -->\n<g id=\"node9\" class=\"node\">\n<title>NLP</title>\n<ellipse fill=\"#830051\" stroke=\"#343a40\" cx=\"817.882\" cy=\"-142.4729\" rx=\"25.4804\" ry=\"25.4804\"/>\n<text text-anchor=\"middle\" x=\"817.882\" y=\"-139.3729\" font-family=\"Arial\" font-size=\"12.00\" fill=\"#ffffff\">NLP</text>\n</g>\n<!-- Deep\nLearning (DL)&#45;&gt;NLP -->\n<g id=\"edge8\" class=\"edge\">\n<title>Deep\nLearning (DL)&#45;&gt;NLP</title>\n<path fill=\"none\" stroke=\"#495057\" d=\"M673.627,-142.4729C708.4866,-142.4729 753.8022,-142.4729 784.2619,-142.4729\"/>\n<ellipse fill=\"#495057\" stroke=\"#495057\" cx=\"788.4381\" cy=\"-142.4729\" rx=\"4\" ry=\"4\"/>\n</g>\n<!-- Tabular -->\n<g id=\"node10\" class=\"node\">\n<title>Tabular</title>\n<ellipse fill=\"#830051\" stroke=\"#343a40\" cx=\"817.882\" cy=\"-64.4729\" rx=\"34.4458\" ry=\"34.4458\"/>\n<text text-anchor=\"middle\" x=\"817.882\" y=\"-61.3729\" font-family=\"Arial\" font-size=\"12.00\" fill=\"#ffffff\">Tabular</text>\n</g>\n<!-- Deep\nLearning (DL)&#45;&gt;Tabular -->\n<g id=\"edge9\" class=\"edge\">\n<title>Deep\nLearning (DL)&#45;&gt;Tabular</title>\n<path fill=\"none\" stroke=\"#495057\" d=\"M670.1067,-123.5912C703.1456,-110.3738 746.7965,-92.911 778.0759,-80.3976\"/>\n<ellipse fill=\"#495057\" stroke=\"#495057\" cx=\"782.0339\" cy=\"-78.8142\" rx=\"4\" ry=\"4\"/>\n</g>\n<!-- 9 Other\nAlgorithms -->\n<g id=\"node4\" class=\"node\">\n<title>9 Other\nAlgorithms</title>\n<ellipse fill=\"#d9e506\" stroke=\"#343a40\" cx=\"622.9092\" cy=\"-282.4729\" rx=\"38.7821\" ry=\"38.7821\"/>\n<text text-anchor=\"middle\" x=\"622.9092\" y=\"-285.0729\" font-family=\"Arial\" font-size=\"8.00\" fill=\"#343a40\">9 Other</text>\n<text text-anchor=\"middle\" x=\"622.9092\" y=\"-276.0729\" font-family=\"Arial\" font-size=\"8.00\" fill=\"#343a40\">Algorithms</text>\n</g>\n<!-- Supervised &amp;\nUnsupervised&#45;&gt;Deep\nLearning (DL) -->\n<g id=\"edge6\" class=\"edge\">\n<title>Supervised &amp;\nUnsupervised&#45;&gt;Deep\nLearning (DL)</title>\n<path fill=\"none\" stroke=\"#ffffff\" d=\"M445.347,-149.5532C479.4292,-148.1942 525.4044,-146.3609 562.0328,-144.9003\"/>\n<polygon fill=\"#ffffff\" stroke=\"#ffffff\" points=\"562.2458,-148.3947 572.0984,-144.499 561.9669,-141.4003 562.2458,-148.3947\"/>\n</g>\n<!-- Supervised &amp;\nUnsupervised&#45;&gt;9 Other\nAlgorithms -->\n<g id=\"edge3\" class=\"edge\">\n<title>Supervised &amp;\nUnsupervised&#45;&gt;9 Other\nAlgorithms</title>\n<path fill=\"none\" stroke=\"#ffffff\" d=\"M429.1401,-188.0247C446.1429,-205.6204 468.2873,-225.8103 491.4092,-239.4729 517.8332,-255.0867 550.6411,-265.8266 576.8764,-272.6682\"/>\n<ellipse fill=\"#ffffff\" stroke=\"#ffffff\" cx=\"580.9148\" cy=\"-273.6879\" rx=\"4\" ry=\"4\"/>\n</g>\n<!-- Eggna A1SH\n(Chicken Sickness) -->\n<g id=\"node11\" class=\"node\">\n<title>Eggna A1SH\n(Chicken Sickness)</title>\n<ellipse fill=\"#ff7900\" stroke=\"#343a40\" cx=\"951.2874\" cy=\"-216.4729\" rx=\"62.8651\" ry=\"62.8651\"/>\n<text text-anchor=\"middle\" x=\"951.2874\" y=\"-219.0729\" font-family=\"Arial\" font-size=\"8.00\" fill=\"#ffffff\">Eggna A1SH</text>\n<text text-anchor=\"middle\" x=\"951.2874\" y=\"-210.0729\" font-family=\"Arial\" font-size=\"8.00\" fill=\"#ffffff\">(Chicken Sickness)</text>\n</g>\n<!-- Vision&#45;&gt;Eggna A1SH\n(Chicken Sickness) -->\n<g id=\"edge10\" class=\"edge\">\n<title>Vision&#45;&gt;Eggna A1SH\n(Chicken Sickness)</title>\n<path fill=\"none\" stroke=\"#495057\" d=\"M848.8232,-216.4729C857.6557,-216.4729 867.6759,-216.4729 877.9077,-216.4729\"/>\n<polygon fill=\"#495057\" stroke=\"#495057\" points=\"878.174,-219.973 888.174,-216.4729 878.174,-212.973 878.174,-219.973\"/>\n</g>\n</g>\n</svg>\n"
          },
          "metadata": {
            "tags": []
          }
        }
      ]
    },
    {
      "cell_type": "markdown",
      "metadata": {
        "id": "Nanjmv9wBtpU"
      },
      "source": [
        "- In Figure-2, Eggna classifies AI into three groups, AI, ML, and DL. “Artificial Intelligence (AI)” is any technique, algorithm, or program which enables computers to mimic human behavior. “Machine Learning” (ML) is an AI technique that gives computers the ability to learn without being explicitly program to do so. ML is a subset of AI. “Deep Learning,” (DL) also known as Artificial Neural Network (ANN), is a subset of ML, making the computational of multi-layer neural network feasible. \n",
        "\n",
        "- Most people use the word AI and ML interchangeably, but they shouldn't. Machine Learning is a subset of AI. Eggna can write a \"checker game\" algorithm, in which she explicitly code every possible outcome and move. The checker algorithm will always win or tie and never lose a game. Therefore, it mimics hue-mon {human} thinking, and it qualifies as an AI.\n",
        "\n",
        "- ML is when the algorithm learns by itself. For example, in facial recognition using the ANN algorithm, Eggna is not explicitly coding how to recognize a face. In other words, she does not need to write code about eyes, nose, mouth, ears, hair, or smile. Using labeled images, the ANN learns by itself how to identify faces, e.g. that image is Duc's face.\n",
        "\n",
        "- Eggna likes to group ML based on the algorithm, but the algorithms are not easily aligned. One of the best methods is categorizing ML into (1) reinforcement learning and (2) supervised and unsupervised learning.\n",
        "\n",
        "- Supervised learning is the easiest to understand. It means the algorithms require data with labels, e.g., chicken photos and disease labels for each chicken. In some literature, the data and label refer to the dependent and independent variables. The supervised learning algorithm identifies a probability on which label goes with the image, e.g., this chicken photo has a 92.3% probability of “Coccidiosis disease.”\n",
        "\n",
        "- Unsupervised learning, as the name implies, is very close to supervised learning. It means the algorithms require only the data and not the label. For example, Eggna takes all the people on Facebook, and using an unsupervised learning algorithm, she creates groups or segments into categories. \n",
        "\n",
        "- What are the categories? Eggna doesn’t know, and she does not explicitly code them, but she puts a label after the unsupervised algorithm categorizes the Facebook people. She could label the emergent groups as “Democrat or Republican,” or “urban-trend-setter, midwesten-middle-class, or rural-farmer,” or “independent-teenager, young-and-impressionable, conspiratorial-adult-man, bible-thumper, or rich-old-man.” \n",
        "\n",
        "- A few algorithms can work with both supervised and unsupervised learning. \n",
        "\n",
        "\n",
        "- The ten ML supervised and unsupervised learning alogrithms are:\n",
        "\n",
        "  1. Apriori Algorithm, (Unsupervised Learning)\n",
        "\n",
        "  1. Deep Learning, aka. Artificial Neural Networks (ANN)\n",
        "  1. Decision Trees, (Supervised Learning)\n",
        "  1. K Means Clustering Algorithm, (Unsupervised Learning)\n",
        "  1. K-Nearest Neighbors (KNN), (Supervised Learning)\n",
        "  1. Linear Regression\n",
        "  1. Logistic Regression\n",
        "  1. Naive Bayes Classifier Algorithm, (Supervised Learning)\n",
        "  1. Random Forests\n",
        "  1. Support Vector Machine (SVM) Algorithm, (Supervised Learning)\n",
        "\n",
        "- The [\"Machine Learning Tutorial\"](https://mindmajix.com/machine-learning-tutorial) blog from MindMajix in 2021 by Ravindra Savaram has excellent short description of the above algorithms. \n",
        "\n",
        "- Reinforcement learning is where the algorithm continuously trains itself through the trial and error method. One of Eggna first ML program, many years ago, is using reinforcement learning in teaching the AI how to beat the [“Flappy Bird” game](https://flappybird.io/). The “Flappy Bird” is a simple game where the bird has to fly through a maze of pipes. The bird flies forward, and Eggna presses the space-bar for the bird to flap his wings to fly upward. That’s it. \n",
        "\n",
        "- Unlike the supervised or unsupervised learning algorithms, there is no data and no labels. Eggna creates 100 random flights and measures how long each flight took before it crashed into the pipes. Take the top 10 flights, i.e., longest time, vary the parameters slightly to generate another 100 flights, and pass them through again, i.e., next epoch, and repeat. After 6,000 epochs, Eggna beat the Flappy Bird game.\n",
        "\n",
        "- There is a total of 13 known algorithms for reinforcement learning. The [“Algorithms for Reinforcement Learning” book](https://www.amazon.com/Algorithms-Reinforcement-Synthesis-Artificial-Intelligence/dp/1608454924/ref=sr_1_1) in 2010 by [Csaba Szepesvari](https://sites.ualberta.ca/~szepesva/bio.html) is the algorithms’ definitive description.\n",
        "\n",
        "  1. Monte Carlo, Every visit to Monte Carlo.\n",
        "\n",
        "  1. Q-learning,\tState–action–reward–state\n",
        "\n",
        "  1. SARSA, State–action–reward–state–action\n",
        "\n",
        "  1. Q-learning - Lambda, State–action–reward–state with eligibility traces\n",
        "\n",
        "  1. SARSA - Lambda, State–action–reward–state–action with eligibility traces\n",
        "\n",
        "  1. DQN, Deep Q Network\n",
        "\n",
        "  1. DDPG, Deep Deterministic Policy Gradient\n",
        "\n",
        "  1. A3C, Asynchronous Advantage Actor-Critic Algorithm\n",
        "\n",
        "  1. NAF, Q-Learning with Normalized Advantage Functions\n",
        "\n",
        "  1. TRPO, Trust Region Policy Optimization\n",
        "\n",
        "  1. PPO, Proximal Policy Optimization\n",
        "\n",
        "  1. TD3, Twin Delayed Deep Deterministic Policy Gradient\n",
        "\n",
        "  1. SAC, Soft Actor-Critic\n",
        "\n",
        "\n",
        "- The salient point is Eggna focuses on the algorithms and not the AI-type. Any AI categories are sufficient as long as the AI-type are mapped to the algorithms. If there is an AI-type with no mapped algorithm, then it is not practical. They add chaos to the AI universe, so Eggna implores you not to create or propagate AI-type without algorithm.\n",
        "\n",
        "- For example, there is no algorithm that exists for “artificial consciousness.” Therefore, there shouldn’t be an AI-type name “self-aware” or “Artificial Superintelligence.” \n",
        "  \n",
        "- DL, the ANN algorithm, is Eggna specialty. She further classifies DL using concepts from the book [\"Deep Learning for Coders with Fastai and PyTorch: AI Applications Without a Ph.D.\"](https://www.amazon.com/Deep-Learning-Coders-fastai-PyTorch/dp/1492045527) in 2020 by Jeremy Howard and Sylvain Gugger. The three categories for DL are “Vision, NLP, and Tabular.”\n",
        "\n",
        "- In conclusion, the A1SH, “classify chicken sickness,” is in the category “ML, Deep Learning (DL and ANN), Vision.” Eggna will proceed on showing how to define an AI-baseline for any ML project."
      ]
    },
    {
      "cell_type": "markdown",
      "metadata": {
        "id": "dJlqADSiBt4l"
      },
      "source": [
        "# 7.0 | Blind AI Baseline"
      ]
    },
    {
      "cell_type": "code",
      "metadata": {
        "id": "YXM3r0fgjlkf"
      },
      "source": [
        "# update the journey\n",
        "@add_method(D0HZ)\n",
        "def draw_journey(self):\n",
        "  x = '\"Eggna\\nHome\"[shape=circle style=filled fillcolor=\"' + self.color_warning + '\" ] '\n",
        "  x += '\"Baseline\"[shape=circle style=filled fillcolor=\"' + self.color_warning + '\" ] '\n",
        "  x += '\"Label\"[shape=circle style=filled fillcolor=\"' + self.color_warning + '\" ] '\n",
        "  x += '\"Biases\"[shape=circle style=filled fillcolor=\"' + self.color_warning + '\" ] '\n",
        "  x += '\"B\"[shape=circle style=filled fontcolor=\"#ffffff\" fillcolor=\"' + self.color_success + '\" ] '\n",
        "  #\n",
        "  x += '\"Blind\\nBaseline\"[shape=circle style=filled fontsize=14.0 fontcolor=\"#ffffff\" fillcolor=\"' + self.color_primary + '\" ] '\n",
        "  x += '\"Research\\nBaseline\"[shape=circle style=filled fontsize=10.0 fontcolor=\"#ffffff\" fillcolor=\"' + self.color_secondary + '\" ] '\n",
        "  x += '\"Verify\\nBaseline\"[shape=circle style=filled fontsize=10.0 fontcolor=\"#ffffff\" fillcolor=\"' + self.color_secondary + '\" ] '\n",
        "  x += '\"Eggna\\nHome\"->\"Baseline\"[fontsize=8.0 label=\"establish\"]; '\n",
        "  x += '\"Baseline\"->\"Blind\\nBaseline\"[fontsize=8.0 label=\"fetch the default\"]; '\n",
        "  x += '\"Baseline\"->\"Research\\nBaseline\"[fontsize=8.0 label=\"research persona\"]; '\n",
        "  x += '\"Baseline\"->\"Verify\\nBaseline\"[fontsize=8.0 label=\"compare to experts\"]; '\n",
        "  x += '\"Blind\\nBaseline\"->B[fontsize=8.0 label=\"go\" style=\"dashed\" arrowhead=\"dot\"]; '\n",
        "  x += '\"Research\\nBaseline\"->B[fontsize=8.0 label=\"go\" style=\"dashed\" arrowhead=\"dot\"]; '\n",
        "  x += '\"Verify\\nBaseline\"->B[fontsize=8.0 label=\"go\"]; '\n",
        "  x += '\"Blind\\nBaseline\"->\"Research\\nBaseline\"[constraint=false fontsize=8.0 label=\"advance\\nnext\"]; '\n",
        "  x += '\"Research\\nBaseline\"->\"Verify\\nBaseline\"[constraint=false fontsize=8.0 label=\"go for\\nbroke\"]; '\n",
        "  #\n",
        "  #\n",
        "  x += 'B->\"Label\"->\"Biases\"; '\n",
        "  x += '\"Biases\"->\"Wrap up\"->\"Eggna\\nHome\"[constraint=false, style=\"dashed\"] '\n",
        "  #\n",
        "  x += '\"Eggna\\nHome\"->\"ANN\\nVision\"->Baseline[style=\"dashed\" arrowhead=\"dot\" constraint=false fontsize=8.0 label=\"use supervisor\\nlearning\"] '\n",
        "  #\n",
        "  self._draw_graph_viz(x,\"Figure-3, A1SH Blind Baseline\",default_shape=\"circle\",bgcolor=\"#ffffff\", node_font_size=9.0)\n",
        "  return\n"
      ],
      "execution_count": null,
      "outputs": []
    },
    {
      "cell_type": "code",
      "metadata": {
        "colab": {
          "base_uri": "https://localhost:8080/",
          "height": 656
        },
        "id": "SdMTQqewndzY",
        "outputId": "b2b5c624-8ebc-4dbb-c5f5-18a17ddbfd26"
      },
      "source": [
        "# draw it\n",
        "eggna.draw_journey()"
      ],
      "execution_count": null,
      "outputs": [
        {
          "output_type": "display_data",
          "data": {
            "text/plain": [
              "<graphviz.files.Source at 0x7f602f7ab9d0>"
            ],
            "image/svg+xml": "<?xml version=\"1.0\" encoding=\"UTF-8\" standalone=\"no\"?>\n<!DOCTYPE svg PUBLIC \"-//W3C//DTD SVG 1.1//EN\"\n \"http://www.w3.org/Graphics/SVG/1.1/DTD/svg11.dtd\">\n<!-- Generated by graphviz version 2.40.1 (20161225.0304)\n -->\n<!-- Title: G Pages: 1 -->\n<svg width=\"800pt\" height=\"476pt\"\n viewBox=\"0.00 0.00 800.37 475.92\" xmlns=\"http://www.w3.org/2000/svg\" xmlns:xlink=\"http://www.w3.org/1999/xlink\">\n<g id=\"graph0\" class=\"graph\" transform=\"scale(1 1) rotate(0) translate(28.8 447.1173)\">\n<title>G</title>\n<polygon fill=\"#ffffff\" stroke=\"transparent\" points=\"-28.8,28.8 -28.8,-447.1173 771.5697,-447.1173 771.5697,28.8 -28.8,28.8\"/>\n<text text-anchor=\"middle\" x=\"371.3848\" y=\"-10\" font-family=\"Times,serif\" font-size=\"20.00\" fill=\"#17a2b8\">Figure&#45;3, A1SH Blind Baseline</text>\n<!-- Eggna\nHome -->\n<g id=\"node1\" class=\"node\">\n<title>Eggna\nHome</title>\n<ellipse fill=\"#d9e506\" stroke=\"#343a40\" cx=\"105.2254\" cy=\"-238.6985\" rx=\"31.2258\" ry=\"31.2258\"/>\n<text text-anchor=\"middle\" x=\"105.2254\" y=\"-241.4985\" font-family=\"Arial\" font-size=\"9.00\" fill=\"#343a40\">Eggna</text>\n<text text-anchor=\"middle\" x=\"105.2254\" y=\"-231.4985\" font-family=\"Arial\" font-size=\"9.00\" fill=\"#343a40\">Home</text>\n</g>\n<!-- Baseline -->\n<g id=\"node2\" class=\"node\">\n<title>Baseline</title>\n<ellipse fill=\"#d9e506\" stroke=\"#343a40\" cx=\"252.9377\" cy=\"-238.6985\" rx=\"30.6995\" ry=\"30.6995\"/>\n<text text-anchor=\"middle\" x=\"252.9377\" y=\"-236.4985\" font-family=\"Arial\" font-size=\"9.00\" fill=\"#343a40\">Baseline</text>\n</g>\n<!-- Eggna\nHome&#45;&gt;Baseline -->\n<g id=\"edge1\" class=\"edge\">\n<title>Eggna\nHome&#45;&gt;Baseline</title>\n<path fill=\"none\" stroke=\"#6c757d\" d=\"M136.5514,-238.6985C158.5348,-238.6985 188.1443,-238.6985 211.9961,-238.6985\"/>\n<polygon fill=\"#6c757d\" stroke=\"#6c757d\" points=\"212.1634,-242.1986 222.1634,-238.6985 212.1633,-235.1986 212.1634,-242.1986\"/>\n<text text-anchor=\"middle\" x=\"179.3381\" y=\"-241.2985\" font-family=\"Times,serif\" font-size=\"8.00\" fill=\"#000000\">establish</text>\n</g>\n<!-- ANN\nVision -->\n<g id=\"node10\" class=\"node\">\n<title>ANN\nVision</title>\n<ellipse fill=\"#ced4da\" stroke=\"#343a40\" cx=\"105.2254\" cy=\"-59.6985\" rx=\"29.8983\" ry=\"29.8983\"/>\n<text text-anchor=\"middle\" x=\"105.2254\" y=\"-62.4985\" font-family=\"Arial\" font-size=\"9.00\" fill=\"#343a40\">ANN</text>\n<text text-anchor=\"middle\" x=\"105.2254\" y=\"-52.4985\" font-family=\"Arial\" font-size=\"9.00\" fill=\"#343a40\">Vision</text>\n</g>\n<!-- Eggna\nHome&#45;&gt;ANN\nVision -->\n<g id=\"edge14\" class=\"edge\">\n<title>Eggna\nHome&#45;&gt;ANN\nVision</title>\n<path fill=\"none\" stroke=\"#6c757d\" stroke-dasharray=\"5,2\" d=\"M78.6998,-221.7693C57.8439,-206.7464 30.3395,-182.7117 18.1127,-153.6985 4.3939,-121.1449 41.1998,-92.8138 71.1363,-75.9893\"/>\n<ellipse fill=\"#6c757d\" stroke=\"#6c757d\" cx=\"74.6589\" cy=\"-74.077\" rx=\"4\" ry=\"4\"/>\n<text text-anchor=\"middle\" x=\"31.1127\" y=\"-147.2985\" font-family=\"Times,serif\" font-size=\"8.00\" fill=\"#000000\">use supervisor</text>\n<text text-anchor=\"middle\" x=\"31.1127\" y=\"-138.2985\" font-family=\"Times,serif\" font-size=\"8.00\" fill=\"#000000\">learning</text>\n</g>\n<!-- Blind\nBaseline -->\n<g id=\"node6\" class=\"node\">\n<title>Blind\nBaseline</title>\n<ellipse fill=\"#ff7900\" stroke=\"#343a40\" cx=\"438.156\" cy=\"-366.6985\" rx=\"51.7379\" ry=\"51.7379\"/>\n<text text-anchor=\"middle\" x=\"438.156\" y=\"-370.4985\" font-family=\"Arial\" font-size=\"14.00\" fill=\"#ffffff\">Blind</text>\n<text text-anchor=\"middle\" x=\"438.156\" y=\"-355.4985\" font-family=\"Arial\" font-size=\"14.00\" fill=\"#ffffff\">Baseline</text>\n</g>\n<!-- Baseline&#45;&gt;Blind\nBaseline -->\n<g id=\"edge2\" class=\"edge\">\n<title>Baseline&#45;&gt;Blind\nBaseline</title>\n<path fill=\"none\" stroke=\"#6c757d\" d=\"M278.3031,-256.228C306.1867,-275.4976 351.7157,-306.9617 387.0664,-331.3917\"/>\n<polygon fill=\"#6c757d\" stroke=\"#6c757d\" points=\"385.1413,-334.3157 395.3579,-337.1217 389.121,-328.5571 385.1413,-334.3157\"/>\n<text text-anchor=\"middle\" x=\"335.0372\" y=\"-320.2985\" font-family=\"Times,serif\" font-size=\"8.00\" fill=\"#000000\">fetch the default</text>\n</g>\n<!-- Research\nBaseline -->\n<g id=\"node7\" class=\"node\">\n<title>Research\nBaseline</title>\n<ellipse fill=\"#00c6d7\" stroke=\"#343a40\" cx=\"438.156\" cy=\"-238.6985\" rx=\"41.0244\" ry=\"41.0244\"/>\n<text text-anchor=\"middle\" x=\"438.156\" y=\"-241.6985\" font-family=\"Arial\" font-size=\"10.00\" fill=\"#ffffff\">Research</text>\n<text text-anchor=\"middle\" x=\"438.156\" y=\"-230.6985\" font-family=\"Arial\" font-size=\"10.00\" fill=\"#ffffff\">Baseline</text>\n</g>\n<!-- Baseline&#45;&gt;Research\nBaseline -->\n<g id=\"edge3\" class=\"edge\">\n<title>Baseline&#45;&gt;Research\nBaseline</title>\n<path fill=\"none\" stroke=\"#6c757d\" d=\"M283.939,-238.6985C311.9097,-238.6985 353.6026,-238.6985 386.5878,-238.6985\"/>\n<polygon fill=\"#6c757d\" stroke=\"#6c757d\" points=\"386.9629,-242.1986 396.9629,-238.6985 386.9629,-235.1986 386.9629,-242.1986\"/>\n<text text-anchor=\"middle\" x=\"335.0372\" y=\"-241.2985\" font-family=\"Times,serif\" font-size=\"8.00\" fill=\"#000000\">research persona</text>\n</g>\n<!-- Verify\nBaseline -->\n<g id=\"node8\" class=\"node\">\n<title>Verify\nBaseline</title>\n<ellipse fill=\"#00c6d7\" stroke=\"#343a40\" cx=\"438.156\" cy=\"-123.6985\" rx=\"38.3684\" ry=\"38.3684\"/>\n<text text-anchor=\"middle\" x=\"438.156\" y=\"-126.6985\" font-family=\"Arial\" font-size=\"10.00\" fill=\"#ffffff\">Verify</text>\n<text text-anchor=\"middle\" x=\"438.156\" y=\"-115.6985\" font-family=\"Arial\" font-size=\"10.00\" fill=\"#ffffff\">Baseline</text>\n</g>\n<!-- Baseline&#45;&gt;Verify\nBaseline -->\n<g id=\"edge4\" class=\"edge\">\n<title>Baseline&#45;&gt;Verify\nBaseline</title>\n<path fill=\"none\" stroke=\"#6c757d\" d=\"M279.0821,-222.4657C309.6939,-203.4592 360.7836,-171.7382 396.7901,-149.3821\"/>\n<polygon fill=\"#6c757d\" stroke=\"#6c757d\" points=\"398.9483,-152.1619 405.5977,-143.9136 395.2559,-146.215 398.9483,-152.1619\"/>\n<text text-anchor=\"middle\" x=\"335.0372\" y=\"-210.2985\" font-family=\"Times,serif\" font-size=\"8.00\" fill=\"#000000\">compare to experts</text>\n</g>\n<!-- Label -->\n<g id=\"node3\" class=\"node\">\n<title>Label</title>\n<ellipse fill=\"#d9e506\" stroke=\"#343a40\" cx=\"631.8688\" cy=\"-238.6985\" rx=\"23.1884\" ry=\"23.1884\"/>\n<text text-anchor=\"middle\" x=\"631.8688\" y=\"-236.4985\" font-family=\"Arial\" font-size=\"9.00\" fill=\"#343a40\">Label</text>\n</g>\n<!-- Biases -->\n<g id=\"node4\" class=\"node\">\n<title>Biases</title>\n<ellipse fill=\"#d9e506\" stroke=\"#343a40\" cx=\"717.3662\" cy=\"-238.6985\" rx=\"25.3072\" ry=\"25.3072\"/>\n<text text-anchor=\"middle\" x=\"717.3662\" y=\"-236.4985\" font-family=\"Arial\" font-size=\"9.00\" fill=\"#343a40\">Biases</text>\n</g>\n<!-- Label&#45;&gt;Biases -->\n<g id=\"edge11\" class=\"edge\">\n<title>Label&#45;&gt;Biases</title>\n<path fill=\"none\" stroke=\"#6c757d\" d=\"M655.2314,-238.6985C663.4047,-238.6985 672.7776,-238.6985 681.7234,-238.6985\"/>\n<polygon fill=\"#6c757d\" stroke=\"#6c757d\" points=\"681.9313,-242.1986 691.9312,-238.6985 681.9312,-235.1986 681.9313,-242.1986\"/>\n</g>\n<!-- Wrap up -->\n<g id=\"node9\" class=\"node\">\n<title>Wrap up</title>\n<ellipse fill=\"#ced4da\" stroke=\"#343a40\" cx=\"105.2254\" cy=\"-140.6985\" rx=\"29.3898\" ry=\"29.3898\"/>\n<text text-anchor=\"middle\" x=\"105.2254\" y=\"-138.4985\" font-family=\"Arial\" font-size=\"9.00\" fill=\"#343a40\">Wrap up</text>\n</g>\n<!-- Biases&#45;&gt;Wrap up -->\n<g id=\"edge12\" class=\"edge\">\n<title>Biases&#45;&gt;Wrap up</title>\n<path fill=\"none\" stroke=\"#6c757d\" stroke-dasharray=\"5,2\" d=\"M699.83,-220.1138C664.3236,-184.0082 579.6308,-105.4126 489.7748,-76.6985 365.3981,-36.953 210.086,-93.4612 141.1035,-123.7194\"/>\n<polygon fill=\"#6c757d\" stroke=\"#6c757d\" points=\"139.6606,-120.5305 131.9549,-127.802 142.5133,-126.9229 139.6606,-120.5305\"/>\n</g>\n<!-- B -->\n<g id=\"node5\" class=\"node\">\n<title>B</title>\n<ellipse fill=\"#cf0072\" stroke=\"#343a40\" cx=\"553.7748\" cy=\"-238.6985\" rx=\"18\" ry=\"18\"/>\n<text text-anchor=\"middle\" x=\"553.7748\" y=\"-236.4985\" font-family=\"Arial\" font-size=\"9.00\" fill=\"#ffffff\">B</text>\n</g>\n<!-- B&#45;&gt;Label -->\n<g id=\"edge10\" class=\"edge\">\n<title>B&#45;&gt;Label</title>\n<path fill=\"none\" stroke=\"#6c757d\" d=\"M571.8874,-238.6985C579.8099,-238.6985 589.3648,-238.6985 598.4966,-238.6985\"/>\n<polygon fill=\"#6c757d\" stroke=\"#6c757d\" points=\"598.5174,-242.1986 608.5174,-238.6985 598.5174,-235.1986 598.5174,-242.1986\"/>\n</g>\n<!-- Blind\nBaseline&#45;&gt;B -->\n<g id=\"edge5\" class=\"edge\">\n<title>Blind\nBaseline&#45;&gt;B</title>\n<path fill=\"none\" stroke=\"#6c757d\" stroke-dasharray=\"5,2\" d=\"M472.8455,-328.2943C493.5798,-305.3396 519.0649,-277.1254 535.8304,-258.5644\"/>\n<ellipse fill=\"#6c757d\" stroke=\"#6c757d\" cx=\"538.9065\" cy=\"-255.159\" rx=\"4\" ry=\"4\"/>\n<text text-anchor=\"middle\" x=\"512.7748\" y=\"-289.2985\" font-family=\"Times,serif\" font-size=\"8.00\" fill=\"#000000\">go</text>\n</g>\n<!-- Blind\nBaseline&#45;&gt;Research\nBaseline -->\n<g id=\"edge8\" class=\"edge\">\n<title>Blind\nBaseline&#45;&gt;Research\nBaseline</title>\n<path fill=\"none\" stroke=\"#6c757d\" d=\"M438.156,-314.7859C438.156,-306.6215 438.156,-298.1846 438.156,-290.0333\"/>\n<polygon fill=\"#6c757d\" stroke=\"#6c757d\" points=\"441.6561,-289.903 438.156,-279.9031 434.6561,-289.9031 441.6561,-289.903\"/>\n<text text-anchor=\"middle\" x=\"426.156\" y=\"-299.9952\" font-family=\"Times,serif\" font-size=\"8.00\" fill=\"#000000\">advance</text>\n<text text-anchor=\"middle\" x=\"426.156\" y=\"-290.9952\" font-family=\"Times,serif\" font-size=\"8.00\" fill=\"#000000\">next</text>\n</g>\n<!-- Research\nBaseline&#45;&gt;B -->\n<g id=\"edge6\" class=\"edge\">\n<title>Research\nBaseline&#45;&gt;B</title>\n<path fill=\"none\" stroke=\"#6c757d\" stroke-dasharray=\"5,2\" d=\"M479.2444,-238.6985C495.2622,-238.6985 513.1538,-238.6985 527.3917,-238.6985\"/>\n<ellipse fill=\"#6c757d\" stroke=\"#6c757d\" cx=\"531.7352\" cy=\"-238.6985\" rx=\"4\" ry=\"4\"/>\n<text text-anchor=\"middle\" x=\"512.7748\" y=\"-241.2985\" font-family=\"Times,serif\" font-size=\"8.00\" fill=\"#000000\">go</text>\n</g>\n<!-- Research\nBaseline&#45;&gt;Verify\nBaseline -->\n<g id=\"edge9\" class=\"edge\">\n<title>Research\nBaseline&#45;&gt;Verify\nBaseline</title>\n<path fill=\"none\" stroke=\"#6c757d\" d=\"M438.156,-197.4118C438.156,-189.2003 438.156,-180.5084 438.156,-172.0843\"/>\n<polygon fill=\"#6c757d\" stroke=\"#6c757d\" points=\"441.6561,-171.9918 438.156,-161.9918 434.6561,-171.9919 441.6561,-171.9918\"/>\n<text text-anchor=\"middle\" x=\"426.156\" y=\"-182.3843\" font-family=\"Times,serif\" font-size=\"8.00\" fill=\"#000000\">go for</text>\n<text text-anchor=\"middle\" x=\"426.156\" y=\"-173.3843\" font-family=\"Times,serif\" font-size=\"8.00\" fill=\"#000000\">broke</text>\n</g>\n<!-- Verify\nBaseline&#45;&gt;B -->\n<g id=\"edge7\" class=\"edge\">\n<title>Verify\nBaseline&#45;&gt;B</title>\n<path fill=\"none\" stroke=\"#6c757d\" d=\"M465.2635,-150.6609C486.1474,-171.433 514.5619,-199.6954 533.5036,-218.5357\"/>\n<polygon fill=\"#6c757d\" stroke=\"#6c757d\" points=\"531.1906,-221.1717 540.7489,-225.7422 536.1271,-216.2086 531.1906,-221.1717\"/>\n<text text-anchor=\"middle\" x=\"512.7748\" y=\"-203.2985\" font-family=\"Times,serif\" font-size=\"8.00\" fill=\"#000000\">go</text>\n</g>\n<!-- Wrap up&#45;&gt;Eggna\nHome -->\n<g id=\"edge13\" class=\"edge\">\n<title>Wrap up&#45;&gt;Eggna\nHome</title>\n<path fill=\"none\" stroke=\"#6c757d\" stroke-dasharray=\"5,2\" d=\"M105.2254,-170.175C105.2254,-179.1859 105.2254,-188.1967 105.2254,-197.2076\"/>\n<polygon fill=\"#6c757d\" stroke=\"#6c757d\" points=\"101.7255,-197.3811 105.2254,-207.3811 108.7255,-197.3812 101.7255,-197.3811\"/>\n</g>\n<!-- ANN\nVision&#45;&gt;Baseline -->\n<g id=\"edge15\" class=\"edge\">\n<title>ANN\nVision&#45;&gt;Baseline</title>\n<path fill=\"none\" stroke=\"#6c757d\" stroke-dasharray=\"5,2\" d=\"M124.2338,-82.7332C150.7145,-114.8229 198.7461,-173.0284 228.0522,-208.5419\"/>\n<ellipse fill=\"#6c757d\" stroke=\"#6c757d\" cx=\"230.751\" cy=\"-211.8124\" rx=\"4\" ry=\"4\"/>\n<text text-anchor=\"middle\" x=\"179.3381\" y=\"-186.2985\" font-family=\"Times,serif\" font-size=\"8.00\" fill=\"#000000\">use supervisor</text>\n<text text-anchor=\"middle\" x=\"179.3381\" y=\"-177.2985\" font-family=\"Times,serif\" font-size=\"8.00\" fill=\"#000000\">learning</text>\n</g>\n</g>\n</svg>\n"
          },
          "metadata": {
            "tags": []
          }
        }
      ]
    },
    {
      "cell_type": "markdown",
      "metadata": {
        "id": "PB91hxbvXiDv"
      },
      "source": [
        "- Welcome back from the detour. Let’s dive right in. The “AI Blind Baseline” is the simplest method to estimate a baseline, i.e., the target accuracy. Figure-3 reminds Eggna where she is in the journey and what comes next.\n",
        "\n",
        "- Blind selection is calculating a simple probability. For example, if Eggna flips a coin, the likelihood of landing head up is 50%. That’s it. \n",
        "\n",
        "- It is too simple. Why do we need it?\n",
        "\n",
        "- Eggna encounters many real-world projects, such as the nonprofit environmental foundation previously described, claiming it is impossible to define a baseline. When confronted with the “impossible” excuses, Eggna answers by specifying the “Blind baseline.” Blind baseline is not the most innovative method because the probability accuracy is the same as Eggna blindly picks an answer. Still, it is the quickest stop-gap answer, while Eggna works on the “Calculated Baseline.”\n",
        "\n",
        "- For the chicken sickness AI project, there are 13 fowl diseases (input, gamma), and therefore, the blind selection is 7.69%. In other words, there is a 7.69% chance of picking the correct answer. \n",
        "\n",
        "- The AI Blind Baseline (tau) is the base selection plus the midpoint of the reminder probability. Eggna is more fluent in math than English, so Figure-4 is the math equation for AI Blind Baseline.\n"
      ]
    },
    {
      "cell_type": "markdown",
      "metadata": {
        "id": "01cNCNDSqNHc"
      },
      "source": [
        "$$\n",
        "\\tau = \\frac{1}{\\gamma} + \\frac{(1 - \\frac{1}{\\gamma} )}{2}\\\\\n",
        "simplify\\cdots \\tau = \\frac{\\gamma + 1}{2  \\gamma}\\\\\n",
        "where\\cdots \\tau = target, \\gamma = input\\\\\n",
        "Figure.4\n",
        "$$"
      ]
    },
    {
      "cell_type": "code",
      "metadata": {
        "id": "0M3aJOiGh6Iq"
      },
      "source": [
        "import numpy\n",
        "@add_method(D0HZ)\n",
        "def fetch_blind_baseline(self, n=13):\n",
        "  val = (n+1)/(2*n)\n",
        "  val = round((val * 100), 2)\n",
        "  self._ph()\n",
        "  self._pp(\"Input Categories\", n)\n",
        "  self._pp(\"AI Blind Baseline, Target\", str(val)+\"%\")\n",
        "  self._ph()\n",
        "  return val"
      ],
      "execution_count": null,
      "outputs": []
    },
    {
      "cell_type": "code",
      "metadata": {
        "colab": {
          "base_uri": "https://localhost:8080/"
        },
        "id": "3r4lLD0vh6Ye",
        "outputId": "03203b8e-05a2-4a32-a98f-91f1d519036c"
      },
      "source": [
        "# fetch it\n",
        "eggna.fetch_blind_baseline(2)"
      ],
      "execution_count": null,
      "outputs": [
        {
          "output_type": "stream",
          "text": [
            "---------------------------------------- : ----------------------------------------\n",
            "                        Input Categories : 2\n",
            "               AI Blind Baseline, Target : 75.0%\n",
            "---------------------------------------- : ----------------------------------------\n"
          ],
          "name": "stdout"
        },
        {
          "output_type": "execute_result",
          "data": {
            "text/plain": [
              "75.0"
            ]
          },
          "metadata": {
            "tags": []
          },
          "execution_count": 10
        }
      ]
    },
    {
      "cell_type": "markdown",
      "metadata": {
        "id": "rfm3KztG6eNm"
      },
      "source": [
        "- Eggna tries the new method on the “flip a coin” problem, and the target AI Blind Baseline is 75%. That means if Eggna builds an AI model to predict which side of the coin for the next flip, it will have to be 75% or higher accuracy. \n",
        "\n",
        "- 75% accuracy is huge. Eggna will be rolling in dog biscuits heaven using the AI model to play casino roulette game betting on “red” or “black.”\n"
      ]
    },
    {
      "cell_type": "code",
      "metadata": {
        "colab": {
          "base_uri": "https://localhost:8080/"
        },
        "id": "8znrpnij8e9g",
        "outputId": "8270d644-e4e2-47a0-9365-7bf8cd4c8c08"
      },
      "source": [
        "# fetch it\n",
        "eggna.fetch_blind_baseline(5)"
      ],
      "execution_count": null,
      "outputs": [
        {
          "output_type": "stream",
          "text": [
            "---------------------------------------- : ----------------------------------------\n",
            "                        Input Categories : 5\n",
            "               AI Blind Baseline, Target : 60.0%\n",
            "---------------------------------------- : ----------------------------------------\n"
          ],
          "name": "stdout"
        },
        {
          "output_type": "execute_result",
          "data": {
            "text/plain": [
              "60.0"
            ]
          },
          "metadata": {
            "tags": []
          },
          "execution_count": 13
        }
      ]
    },
    {
      "cell_type": "markdown",
      "metadata": {
        "id": "AJjy89wF-qKE"
      },
      "source": [
        "- Here is another example. For Natural Language Processing (NLP) sentiment and rating users post or review, there are five ratings, “thumbs_up_5, thumbs_up_4, thumbs_up_3, thumbs_down_2, and thumbs_down_1.” \n",
        "\n",
        "- The NLP AI Blind Baseline above is 60.0%.\n"
      ]
    },
    {
      "cell_type": "code",
      "metadata": {
        "colab": {
          "base_uri": "https://localhost:8080/"
        },
        "id": "v9PoXJxOyXg3",
        "outputId": "dc377679-52cb-410b-dcfa-1858ff575a5d"
      },
      "source": [
        "# fetch it\n",
        "eggna.fetch_blind_baseline(13)"
      ],
      "execution_count": null,
      "outputs": [
        {
          "output_type": "stream",
          "text": [
            "---------------------------------------- : ----------------------------------------\n",
            "                        Input Categories : 13\n",
            "               AI Blind Baseline, target : 53.85%\n",
            "---------------------------------------- : ----------------------------------------\n"
          ],
          "name": "stdout"
        },
        {
          "output_type": "execute_result",
          "data": {
            "text/plain": [
              "53.85"
            ]
          },
          "metadata": {
            "tags": []
          },
          "execution_count": 20
        }
      ]
    },
    {
      "cell_type": "markdown",
      "metadata": {
        "id": "-bbilXkANhbM"
      },
      "source": [
        "- Finally, for the A1SH chicken sickness identification model, the AI Blind Baseline is 53.85%. It means the achievable AI model target accuracy is 53.85% or better. \n",
        "\n",
        "- What if Eggnas relaxed the target rules and changed them to “predict the top three sicknesses with probability,” e.g., Coccidiosis at 78% confidence, Avian Influenza at 8.1% confidence, and Salmonellosis at 4.7% confidence. If the correct answer is in the top three predictions, then Eggna counts it as a success. \n",
        "\n",
        "- A quick math substitution, Eggna founds the new equation in Figure-5.\n",
        "\n",
        "- The new AI Blind Baseline for the top three is 61.54% and for the top two is 57.69%.\n",
        "\n",
        "- So far, Eggna only looks at the input, i.e., the number of categories or labels. The next step is learning all about chickens and why they are sick.\n",
        "\n"
      ]
    },
    {
      "cell_type": "markdown",
      "metadata": {
        "id": "_mTAI_P2RDcc"
      },
      "source": [
        "$$\n",
        "\\tau = \\frac{\\gamma + \\beta}{2  \\gamma}\\\\\n",
        "where\\cdots \\tau = target, \\gamma = input, \\beta = selection\\\\\n",
        "Figure.5\n",
        "$$"
      ]
    },
    {
      "cell_type": "code",
      "metadata": {
        "id": "M2VrGeCTkMpt"
      },
      "source": [
        "import numpy\n",
        "@add_method(D0HZ)\n",
        "def fetch_blind_baseline(self, n=13, c=1):\n",
        "  val = (n+c)/(2*n)\n",
        "  val = round((val * 100), 2)\n",
        "  self._ph()\n",
        "  self._pp(\"Input Categories\", n)\n",
        "  self._pp(\"Top Selection Count\", c)\n",
        "  self._pp(\"AI Blind Baseline, Target\", str(val)+\"%\")\n",
        "  self._ph()\n",
        "  return val"
      ],
      "execution_count": null,
      "outputs": []
    },
    {
      "cell_type": "code",
      "metadata": {
        "colab": {
          "base_uri": "https://localhost:8080/"
        },
        "id": "ImMSdrAzkY-X",
        "outputId": "fc30aa52-1c95-440f-803b-5c3468d9d7b1"
      },
      "source": [
        "# fetch it\n",
        "eggna.fetch_blind_baseline(13,3)"
      ],
      "execution_count": null,
      "outputs": [
        {
          "output_type": "stream",
          "text": [
            "---------------------------------------- : ----------------------------------------\n",
            "                        Input Categories : 13\n",
            "                     Top Selection Count : 3\n",
            "               AI Blind Baseline, Target : 61.54%\n",
            "---------------------------------------- : ----------------------------------------\n"
          ],
          "name": "stdout"
        },
        {
          "output_type": "execute_result",
          "data": {
            "text/plain": [
              "61.54"
            ]
          },
          "metadata": {
            "tags": []
          },
          "execution_count": 12
        }
      ]
    },
    {
      "cell_type": "code",
      "metadata": {
        "colab": {
          "base_uri": "https://localhost:8080/"
        },
        "id": "0HOwfazZUR55",
        "outputId": "a5425169-1488-4d56-aa0a-d77ccf016da1"
      },
      "source": [
        "# fetch it\n",
        "eggna.fetch_blind_baseline(13,2)"
      ],
      "execution_count": null,
      "outputs": [
        {
          "output_type": "stream",
          "text": [
            "---------------------------------------- : ----------------------------------------\n",
            "                        Input Categories : 13\n",
            "                     Top Selection Count : 2\n",
            "               AI Blind Baseline, Target : 57.69%\n",
            "---------------------------------------- : ----------------------------------------\n"
          ],
          "name": "stdout"
        },
        {
          "output_type": "execute_result",
          "data": {
            "text/plain": [
              "57.69"
            ]
          },
          "metadata": {
            "tags": []
          },
          "execution_count": 13
        }
      ]
    },
    {
      "cell_type": "markdown",
      "metadata": {
        "id": "lR05XskLZDDK"
      },
      "source": [
        "# 8.0 | Detour NLP, Prediction, Regression, and Other Blind Baseline."
      ]
    },
    {
      "cell_type": "markdown",
      "metadata": {
        "id": "iLktjuHBcYMu"
      },
      "source": [
        "- So far, Eggna has been focusing on images and labels, i.e., supervisor learning algorithms. What about other algorithms and types such as NLP, audio, multilabel, regression, prediction, video, and generative adversarial network (GAN)?\n",
        "\n",
        "- How would Eggna develop a Blind Baseline for the above type?\n",
        "\n",
        "- It is easy peasy lemon squeezy. \n",
        "\n",
        "- First, refer to Figure-2, “Eggna AI Classification” illustration. Eggna will go through a few examples to map them into the Figure-2 diagram.\n",
        "\n",
        "- NLP (Natual Language Processing) is a general term for using text as an input for Machine Learning (ML). There are many different projects under NLP. A popular NLP project is “negative or positive sentiment,” e.g., “does the users like or don’t like a movie?”\n",
        "\n",
        "- It has input text and labels. Eggna can use any of the algorithms for supervisor learning to construct the ML model, including the ANN algorithm. There are two categories, “positive and negative,” so the Blind Baseline is 75%. It is the same math and code used in the previous section.\n",
        "\n",
        "- The second popular NLP project generates answers to customer questions, like a chatbot helping consumers shop for shoes. There is two ML model to solve this problem. The first ML model uses a reinforcement learning algorithm to predict the next character in a sentence. The second ML model uses supervisor learning to predict how good the responses, e.g., rate the answers in 1 to 5 stars. The second ML model reused the same vocabulary tokens from the first ML model. \n",
        "\n",
        "- Eggna friend, Rocky, wrote an excellent introduction to NLP, including Jupyter notebook code. It is the “Fast.ai Book Study Group #G1FA”. In addition, her mom, Henna, wrote the “Demystify Neural Network NLP Input-data and Tokenizer” article. The salient point is the above articles explain the amazing world of NLP. \n",
        "\n",
        "- This is a hue-mon {human} interruption. Henna is Eggna mom. It is so funny :-)\n",
        "\n",
        "- In summary, if Eggna rates the chatbot response from 1 to 5 stars, then the Blind Baseline is 55%, or if the chatbot rating is 1 to 10, then the Blind Baseline is 55%.\n",
        "\n",
        "- Moving on to the second example, what if the ML model estimates sales value for a retail store? The input data is most likely a tabular format, i.e., data in a table or an array. If it is a sales prediction ML model, then the monthly or daily revenue is the dependent variable. These numerical predictive ML models are referring to as the “regression model.” In Eggna’s Figure-2 diagram, Eggna uses the “supervisor learning” algorithms for the sales prediction ML model. Any ML with data and labels is a “supervisor learning” type, and therefore, Eggna can use any algorithm for supervisor learning, but she will choose the ANN algorithm. ANN is not only for image vision ML projects. \n",
        "\n",
        "- For example, if the sales prediction ranges from $50,000 to $100,000 a month, would Eggna has 50,000 categories, assuming the value is rounding to a dollar?\n",
        "\n",
        ">Absolutely not.\n",
        "\n",
        "- There are at least two methods of calculating Blind Baseline for the sales prediction model. Assuming Eggna has four years’ worth of daily sales value for 30 stores. She will save the last 90 days of sales value as the dependent variable. \n",
        "\n",
        "- The first, and most simple, is the “inversed ratio percentage.” For the ratio of 0.1 (10%), if the sales prediction is within plus or minus ten percent, +-10%, of the actual, then the accuracy is at 90%. If the sales prediction is within plus or minus twenty percent, +-20%, the accuracy is 80%.\n",
        "\n",
        "- Eggna will write a simple function to calculate the sales prediction Blind Baseline using the inversed ratio. The input for the method is the sales prediction low and high range, the number of stores, and the ratio. \n",
        "\n",
        "- The second easy method for calculating sales prediction Blind Baseline is “performance labeling.” For example, the mid-point of the range is the expected target sales for the month. Above the mid-point are high-performance stores, and below are the poor-performance stores. Therefore, Eggna can choose to label the prediction sales value from 1 to 10 stars, where the five-stars rating is the monthly target sales.\n",
        "\n",
        "- Eggna has ten categories, so she uses the Blind Baseline function in the previous section, and the Blind Baseline is 44.4%\n",
        "\n",
        "- Notice, the “inversed ratio” and “performance labeling” methods are Eggna’s original thoughts. There are few articles, blogs, and academic papers talking about ML Baseline, and therefore, the concept of “Blind, Research and Verify” Baseline are Eggna’s inventions. She is good, and she is the smartest digital canine north of the Appalachian mountains.\n",
        "\n",
        "- That is it for this detour. Please reach out to Eggna or the hue-mon {human} for more information on Blind Baseline calculation. Eggna might create a new journey just for Blind Baseline calculation."
      ]
    },
    {
      "cell_type": "code",
      "metadata": {
        "id": "D9OEs7tJt_iZ"
      },
      "source": [
        ""
      ],
      "execution_count": null,
      "outputs": []
    },
    {
      "cell_type": "markdown",
      "metadata": {
        "id": "4hQu4mDqcYzd"
      },
      "source": [
        ""
      ]
    },
    {
      "cell_type": "markdown",
      "metadata": {
        "id": "xg_TbfyyWxtI"
      },
      "source": [
        "# 9.0 | Research Baseline"
      ]
    },
    {
      "cell_type": "code",
      "metadata": {
        "id": "nXYSg5qXS6kL"
      },
      "source": [
        "# update the journey\n",
        "@add_method(D0HZ)\n",
        "def draw_journey(self):\n",
        "  x = '\"Eggna\\nHome\"[shape=circle style=filled fillcolor=\"' + self.color_warning + '\" ] '\n",
        "  x += '\"Baseline\"[shape=circle style=filled fillcolor=\"' + self.color_warning + '\" ] '\n",
        "  x += '\"Label\"[shape=circle style=filled fillcolor=\"' + self.color_warning + '\" ] '\n",
        "  x += '\"Biases\"[shape=circle style=filled fillcolor=\"' + self.color_warning + '\" ] '\n",
        "  x += '\"B\"[shape=circle style=filled fontcolor=\"#ffffff\" fillcolor=\"' + self.color_success + '\" ] '\n",
        "  #\n",
        "  x += '\"Blind\\nBaseline\\n(53.85%)\"[shape=circle style=filled fontsize=10.0 fillcolor=\"' + self.color_warning + '\" ] '\n",
        "  x += '\"Research\\nBaseline\"[shape=circle style=filled fontsize=14.0 fontcolor=\"#ffffff\" fillcolor=\"' + self.color_primary + '\" ] '\n",
        "  x += '\"Verify\\nBaseline\"[shape=circle style=filled fontsize=10.0 fontcolor=\"#ffffff\" fillcolor=\"' + self.color_secondary + '\" ] '\n",
        "  x += '\"Eggna\\nHome\"->\"Baseline\"[fontsize=8.0 label=\"establish\"]; '\n",
        "  x += '\"Baseline\"->\"Blind\\nBaseline\\n(53.85%)\"[fontsize=8.0 label=\"fetch the default\"]; '\n",
        "  x += '\"Baseline\"->\"Research\\nBaseline\"[fontsize=8.0 label=\"research persona\"]; '\n",
        "  x += '\"Baseline\"->\"Verify\\nBaseline\"[fontsize=8.0 label=\"compare to experts\"]; '\n",
        "  x += '\"Blind\\nBaseline\\n(53.85%)\"->B[fontsize=8.0 label=\"go\" style=\"dashed\" arrowhead=\"dot\"]; '\n",
        "  x += '\"Research\\nBaseline\"->B[fontsize=8.0 label=\"go\" style=\"dashed\" arrowhead=\"dot\"]; '\n",
        "  x += '\"Verify\\nBaseline\"->B[fontsize=8.0 label=\"go\"]; '\n",
        "  x += '\"Blind\\nBaseline\\n(53.85%)\"->\"Research\\nBaseline\"[constraint=false fontsize=8.0 label=\"advance\\nnext\"]; '\n",
        "  x += '\"Research\\nBaseline\"->\"Verify\\nBaseline\"[constraint=false fontsize=8.0 label=\"go for\\nbroke\"]; '\n",
        "  #\n",
        "  #\n",
        "  x += 'B->\"Label\"->\"Biases\"; '\n",
        "  x += '\"Biases\"->\"Wrap up\"->\"Eggna\\nHome\"[constraint=false, style=\"dashed\"] '\n",
        "  #\n",
        "  x += '\"Eggna\\nHome\"->\"ANN\\nVision\\nAlgorithm\"->Baseline[style=\"dashed\" arrowhead=\"dot\" constraint=false fontsize=8.0 label=\"use supervisor\\nlearning\"] '\n",
        "  #\n",
        "  self._draw_graph_viz(x,\"Figure-6, A1SH Research Baseline\",default_shape=\"circle\",bgcolor=\"#ffffff\", node_font_size=9.0)\n",
        "  return\n"
      ],
      "execution_count": null,
      "outputs": []
    },
    {
      "cell_type": "code",
      "metadata": {
        "colab": {
          "base_uri": "https://localhost:8080/",
          "height": 676
        },
        "id": "O5QNQmi_S6nt",
        "outputId": "63f1f994-c11e-4bce-faf5-dcf653a01e8b"
      },
      "source": [
        "# draw it\n",
        "eggna.draw_journey()"
      ],
      "execution_count": null,
      "outputs": [
        {
          "output_type": "display_data",
          "data": {
            "text/plain": [
              "<graphviz.files.Source at 0x7f602f7debd0>"
            ],
            "image/svg+xml": "<?xml version=\"1.0\" encoding=\"UTF-8\" standalone=\"no\"?>\n<!DOCTYPE svg PUBLIC \"-//W3C//DTD SVG 1.1//EN\"\n \"http://www.w3.org/Graphics/SVG/1.1/DTD/svg11.dtd\">\n<!-- Generated by graphviz version 2.40.1 (20161225.0304)\n -->\n<!-- Title: G Pages: 1 -->\n<svg width=\"836pt\" height=\"491pt\"\n viewBox=\"0.00 0.00 835.72 490.80\" xmlns=\"http://www.w3.org/2000/svg\" xmlns:xlink=\"http://www.w3.org/1999/xlink\">\n<g id=\"graph0\" class=\"graph\" transform=\"scale(1 1) rotate(0) translate(28.8 461.996)\">\n<title>G</title>\n<polygon fill=\"#ffffff\" stroke=\"transparent\" points=\"-28.8,28.8 -28.8,-461.996 806.925,-461.996 806.925,28.8 -28.8,28.8\"/>\n<text text-anchor=\"middle\" x=\"389.0625\" y=\"-10\" font-family=\"Times,serif\" font-size=\"20.00\" fill=\"#17a2b8\">Figure&#45;6, A1SH Research Baseline</text>\n<!-- Eggna\nHome -->\n<g id=\"node1\" class=\"node\">\n<title>Eggna\nHome</title>\n<ellipse fill=\"#d9e506\" stroke=\"#343a40\" cx=\"122.196\" cy=\"-261.598\" rx=\"31.2258\" ry=\"31.2258\"/>\n<text text-anchor=\"middle\" x=\"122.196\" y=\"-264.398\" font-family=\"Arial\" font-size=\"9.00\" fill=\"#343a40\">Eggna</text>\n<text text-anchor=\"middle\" x=\"122.196\" y=\"-254.398\" font-family=\"Arial\" font-size=\"9.00\" fill=\"#343a40\">Home</text>\n</g>\n<!-- Baseline -->\n<g id=\"node2\" class=\"node\">\n<title>Baseline</title>\n<ellipse fill=\"#d9e506\" stroke=\"#343a40\" cx=\"278.3935\" cy=\"-261.598\" rx=\"30.6995\" ry=\"30.6995\"/>\n<text text-anchor=\"middle\" x=\"278.3935\" y=\"-259.398\" font-family=\"Arial\" font-size=\"9.00\" fill=\"#343a40\">Baseline</text>\n</g>\n<!-- Eggna\nHome&#45;&gt;Baseline -->\n<g id=\"edge1\" class=\"edge\">\n<title>Eggna\nHome&#45;&gt;Baseline</title>\n<path fill=\"none\" stroke=\"#6c757d\" d=\"M153.4295,-261.598C177.6368,-261.598 211.3765,-261.598 237.6968,-261.598\"/>\n<polygon fill=\"#6c757d\" stroke=\"#6c757d\" points=\"237.7465,-265.0981 247.7464,-261.598 237.7464,-258.0981 237.7465,-265.0981\"/>\n<text text-anchor=\"middle\" x=\"204.7939\" y=\"-264.198\" font-family=\"Times,serif\" font-size=\"8.00\" fill=\"#000000\">establish</text>\n</g>\n<!-- ANN\nVision\nAlgorithm -->\n<g id=\"node10\" class=\"node\">\n<title>ANN\nVision\nAlgorithm</title>\n<ellipse fill=\"#ced4da\" stroke=\"#343a40\" cx=\"122.196\" cy=\"-69.598\" rx=\"39.6962\" ry=\"39.6962\"/>\n<text text-anchor=\"middle\" x=\"122.196\" y=\"-77.398\" font-family=\"Arial\" font-size=\"9.00\" fill=\"#343a40\">ANN</text>\n<text text-anchor=\"middle\" x=\"122.196\" y=\"-67.398\" font-family=\"Arial\" font-size=\"9.00\" fill=\"#343a40\">Vision</text>\n<text text-anchor=\"middle\" x=\"122.196\" y=\"-57.398\" font-family=\"Arial\" font-size=\"9.00\" fill=\"#343a40\">Algorithm</text>\n</g>\n<!-- Eggna\nHome&#45;&gt;ANN\nVision\nAlgorithm -->\n<g id=\"edge14\" class=\"edge\">\n<title>Eggna\nHome&#45;&gt;ANN\nVision\nAlgorithm</title>\n<path fill=\"none\" stroke=\"#6c757d\" stroke-dasharray=\"5,2\" d=\"M95.233,-245.605C72.4149,-230.3498 41.3017,-205.0622 27.598,-173.598 13.0102,-140.1038 47.82,-110.2235 79.2502,-91.1815\"/>\n<ellipse fill=\"#6c757d\" stroke=\"#6c757d\" cx=\"82.8495\" cy=\"-89.0724\" rx=\"4\" ry=\"4\"/>\n<text text-anchor=\"middle\" x=\"39.598\" y=\"-167.198\" font-family=\"Times,serif\" font-size=\"8.00\" fill=\"#000000\">use supervisor</text>\n<text text-anchor=\"middle\" x=\"39.598\" y=\"-158.198\" font-family=\"Times,serif\" font-size=\"8.00\" fill=\"#000000\">learning</text>\n</g>\n<!-- Blind\nBaseline\n(53.85%) -->\n<g id=\"node6\" class=\"node\">\n<title>Blind\nBaseline\n(53.85%)</title>\n<ellipse fill=\"#d9e506\" stroke=\"#343a40\" cx=\"468.5616\" cy=\"-393.598\" rx=\"39.6962\" ry=\"39.6962\"/>\n<text text-anchor=\"middle\" x=\"468.5616\" y=\"-402.098\" font-family=\"Arial\" font-size=\"10.00\" fill=\"#343a40\">Blind</text>\n<text text-anchor=\"middle\" x=\"468.5616\" y=\"-391.098\" font-family=\"Arial\" font-size=\"10.00\" fill=\"#343a40\">Baseline</text>\n<text text-anchor=\"middle\" x=\"468.5616\" y=\"-380.098\" font-family=\"Arial\" font-size=\"10.00\" fill=\"#343a40\">(53.85%)</text>\n</g>\n<!-- Baseline&#45;&gt;Blind\nBaseline\n(53.85%) -->\n<g id=\"edge2\" class=\"edge\">\n<title>Baseline&#45;&gt;Blind\nBaseline\n(53.85%)</title>\n<path fill=\"none\" stroke=\"#6c757d\" d=\"M303.6464,-279.1266C335.3008,-301.0986 389.9676,-339.0441 427.6301,-365.1865\"/>\n<polygon fill=\"#6c757d\" stroke=\"#6c757d\" points=\"425.6556,-368.0765 435.8663,-370.9034 429.6471,-362.326 425.6556,-368.0765\"/>\n<text text-anchor=\"middle\" x=\"360.4931\" y=\"-341.198\" font-family=\"Times,serif\" font-size=\"8.00\" fill=\"#000000\">fetch the default</text>\n</g>\n<!-- Research\nBaseline -->\n<g id=\"node7\" class=\"node\">\n<title>Research\nBaseline</title>\n<ellipse fill=\"#ff7900\" stroke=\"#343a40\" cx=\"468.5616\" cy=\"-261.598\" rx=\"56.6372\" ry=\"56.6372\"/>\n<text text-anchor=\"middle\" x=\"468.5616\" y=\"-265.398\" font-family=\"Arial\" font-size=\"14.00\" fill=\"#ffffff\">Research</text>\n<text text-anchor=\"middle\" x=\"468.5616\" y=\"-250.398\" font-family=\"Arial\" font-size=\"14.00\" fill=\"#ffffff\">Baseline</text>\n</g>\n<!-- Baseline&#45;&gt;Research\nBaseline -->\n<g id=\"edge3\" class=\"edge\">\n<title>Baseline&#45;&gt;Research\nBaseline</title>\n<path fill=\"none\" stroke=\"#6c757d\" d=\"M309.3705,-261.598C334.3473,-261.598 370.3709,-261.598 401.8346,-261.598\"/>\n<polygon fill=\"#6c757d\" stroke=\"#6c757d\" points=\"401.8701,-265.0981 411.8701,-261.598 401.87,-258.0981 401.8701,-265.0981\"/>\n<text text-anchor=\"middle\" x=\"360.4931\" y=\"-264.198\" font-family=\"Times,serif\" font-size=\"8.00\" fill=\"#000000\">research persona</text>\n</g>\n<!-- Verify\nBaseline -->\n<g id=\"node8\" class=\"node\">\n<title>Verify\nBaseline</title>\n<ellipse fill=\"#00c6d7\" stroke=\"#343a40\" cx=\"468.5616\" cy=\"-131.598\" rx=\"38.3684\" ry=\"38.3684\"/>\n<text text-anchor=\"middle\" x=\"468.5616\" y=\"-134.598\" font-family=\"Arial\" font-size=\"10.00\" fill=\"#ffffff\">Verify</text>\n<text text-anchor=\"middle\" x=\"468.5616\" y=\"-123.598\" font-family=\"Arial\" font-size=\"10.00\" fill=\"#ffffff\">Baseline</text>\n</g>\n<!-- Baseline&#45;&gt;Verify\nBaseline -->\n<g id=\"edge4\" class=\"edge\">\n<title>Baseline&#45;&gt;Verify\nBaseline</title>\n<path fill=\"none\" stroke=\"#6c757d\" d=\"M304.0404,-244.0656C335.9521,-222.2506 390.8075,-184.7511 428.3351,-159.0971\"/>\n<polygon fill=\"#6c757d\" stroke=\"#6c757d\" points=\"430.7256,-161.7026 437.0058,-153.1697 426.7752,-155.9238 430.7256,-161.7026\"/>\n<text text-anchor=\"middle\" x=\"360.4931\" y=\"-229.198\" font-family=\"Times,serif\" font-size=\"8.00\" fill=\"#000000\">compare to experts</text>\n</g>\n<!-- Label -->\n<g id=\"node3\" class=\"node\">\n<title>Label</title>\n<ellipse fill=\"#d9e506\" stroke=\"#343a40\" cx=\"667.2242\" cy=\"-261.598\" rx=\"23.1884\" ry=\"23.1884\"/>\n<text text-anchor=\"middle\" x=\"667.2242\" y=\"-259.398\" font-family=\"Arial\" font-size=\"9.00\" fill=\"#343a40\">Label</text>\n</g>\n<!-- Biases -->\n<g id=\"node4\" class=\"node\">\n<title>Biases</title>\n<ellipse fill=\"#d9e506\" stroke=\"#343a40\" cx=\"752.7216\" cy=\"-261.598\" rx=\"25.3072\" ry=\"25.3072\"/>\n<text text-anchor=\"middle\" x=\"752.7216\" y=\"-259.398\" font-family=\"Arial\" font-size=\"9.00\" fill=\"#343a40\">Biases</text>\n</g>\n<!-- Label&#45;&gt;Biases -->\n<g id=\"edge11\" class=\"edge\">\n<title>Label&#45;&gt;Biases</title>\n<path fill=\"none\" stroke=\"#6c757d\" d=\"M690.5867,-261.598C698.7601,-261.598 708.1329,-261.598 717.0787,-261.598\"/>\n<polygon fill=\"#6c757d\" stroke=\"#6c757d\" points=\"717.2866,-265.0981 727.2866,-261.598 717.2865,-258.0981 717.2866,-265.0981\"/>\n</g>\n<!-- Wrap up -->\n<g id=\"node9\" class=\"node\">\n<title>Wrap up</title>\n<ellipse fill=\"#ced4da\" stroke=\"#343a40\" cx=\"122.196\" cy=\"-162.598\" rx=\"29.3898\" ry=\"29.3898\"/>\n<text text-anchor=\"middle\" x=\"122.196\" y=\"-160.398\" font-family=\"Arial\" font-size=\"9.00\" fill=\"#343a40\">Wrap up</text>\n</g>\n<!-- Biases&#45;&gt;Wrap up -->\n<g id=\"edge12\" class=\"edge\">\n<title>Biases&#45;&gt;Wrap up</title>\n<path fill=\"none\" stroke=\"#6c757d\" stroke-dasharray=\"5,2\" d=\"M736.105,-241.9345C701.6101,-202.8333 617.6918,-116.3544 525.1302,-84.598 393.5494,-39.4547 228.3136,-108.5327 157.2846,-143.8697\"/>\n<polygon fill=\"#6c757d\" stroke=\"#6c757d\" points=\"155.6444,-140.777 148.2987,-148.4119 158.8023,-147.0242 155.6444,-140.777\"/>\n</g>\n<!-- B -->\n<g id=\"node5\" class=\"node\">\n<title>B</title>\n<ellipse fill=\"#cf0072\" stroke=\"#343a40\" cx=\"589.1302\" cy=\"-261.598\" rx=\"18\" ry=\"18\"/>\n<text text-anchor=\"middle\" x=\"589.1302\" y=\"-259.398\" font-family=\"Arial\" font-size=\"9.00\" fill=\"#ffffff\">B</text>\n</g>\n<!-- B&#45;&gt;Label -->\n<g id=\"edge10\" class=\"edge\">\n<title>B&#45;&gt;Label</title>\n<path fill=\"none\" stroke=\"#6c757d\" d=\"M607.2428,-261.598C615.1653,-261.598 624.7202,-261.598 633.852,-261.598\"/>\n<polygon fill=\"#6c757d\" stroke=\"#6c757d\" points=\"633.8728,-265.0981 643.8727,-261.598 633.8727,-258.0981 633.8728,-265.0981\"/>\n</g>\n<!-- Blind\nBaseline\n(53.85%)&#45;&gt;B -->\n<g id=\"edge5\" class=\"edge\">\n<title>Blind\nBaseline\n(53.85%)&#45;&gt;B</title>\n<path fill=\"none\" stroke=\"#6c757d\" stroke-dasharray=\"5,2\" d=\"M495.3197,-364.3029C518.43,-339.0014 551.1788,-303.1476 571.2413,-281.1829\"/>\n<ellipse fill=\"#6c757d\" stroke=\"#6c757d\" cx=\"574.0926\" cy=\"-278.0612\" rx=\"4\" ry=\"4\"/>\n<text text-anchor=\"middle\" x=\"548.1302\" y=\"-314.198\" font-family=\"Times,serif\" font-size=\"8.00\" fill=\"#000000\">go</text>\n</g>\n<!-- Blind\nBaseline\n(53.85%)&#45;&gt;Research\nBaseline -->\n<g id=\"edge8\" class=\"edge\">\n<title>Blind\nBaseline\n(53.85%)&#45;&gt;Research\nBaseline</title>\n<path fill=\"none\" stroke=\"#6c757d\" d=\"M468.5616,-353.6242C468.5616,-345.6357 468.5616,-337.0415 468.5616,-328.4284\"/>\n<polygon fill=\"#6c757d\" stroke=\"#6c757d\" points=\"472.0617,-328.3439 468.5616,-318.3439 465.0617,-328.344 472.0617,-328.3439\"/>\n<text text-anchor=\"middle\" x=\"456.5616\" y=\"-338.6833\" font-family=\"Times,serif\" font-size=\"8.00\" fill=\"#000000\">advance</text>\n<text text-anchor=\"middle\" x=\"456.5616\" y=\"-329.6833\" font-family=\"Times,serif\" font-size=\"8.00\" fill=\"#000000\">next</text>\n</g>\n<!-- Research\nBaseline&#45;&gt;B -->\n<g id=\"edge6\" class=\"edge\">\n<title>Research\nBaseline&#45;&gt;B</title>\n<path fill=\"none\" stroke=\"#6c757d\" stroke-dasharray=\"5,2\" d=\"M525.3154,-261.598C538.3278,-261.598 551.5603,-261.598 562.5767,-261.598\"/>\n<ellipse fill=\"#6c757d\" stroke=\"#6c757d\" cx=\"566.89\" cy=\"-261.598\" rx=\"4\" ry=\"4\"/>\n<text text-anchor=\"middle\" x=\"548.1302\" y=\"-264.198\" font-family=\"Times,serif\" font-size=\"8.00\" fill=\"#000000\">go</text>\n</g>\n<!-- Research\nBaseline&#45;&gt;Verify\nBaseline -->\n<g id=\"edge9\" class=\"edge\">\n<title>Research\nBaseline&#45;&gt;Verify\nBaseline</title>\n<path fill=\"none\" stroke=\"#6c757d\" d=\"M468.5616,-204.779C468.5616,-196.4891 468.5616,-188.0188 468.5616,-179.9191\"/>\n<polygon fill=\"#6c757d\" stroke=\"#6c757d\" points=\"472.0617,-179.8991 468.5616,-169.8991 465.0617,-179.8992 472.0617,-179.8991\"/>\n<text text-anchor=\"middle\" x=\"456.5616\" y=\"-190.0056\" font-family=\"Times,serif\" font-size=\"8.00\" fill=\"#000000\">go for</text>\n<text text-anchor=\"middle\" x=\"456.5616\" y=\"-181.0056\" font-family=\"Times,serif\" font-size=\"8.00\" fill=\"#000000\">broke</text>\n</g>\n<!-- Verify\nBaseline&#45;&gt;B -->\n<g id=\"edge7\" class=\"edge\">\n<title>Verify\nBaseline&#45;&gt;B</title>\n<path fill=\"none\" stroke=\"#6c757d\" d=\"M494.7232,-159.806C517.2992,-184.148 549.3951,-218.7546 569.7382,-240.6891\"/>\n<polygon fill=\"#6c757d\" stroke=\"#6c757d\" points=\"567.2956,-243.2024 576.6619,-248.1544 572.428,-238.4423 567.2956,-243.2024\"/>\n<text text-anchor=\"middle\" x=\"548.1302\" y=\"-221.198\" font-family=\"Times,serif\" font-size=\"8.00\" fill=\"#000000\">go</text>\n</g>\n<!-- Wrap up&#45;&gt;Eggna\nHome -->\n<g id=\"edge13\" class=\"edge\">\n<title>Wrap up&#45;&gt;Eggna\nHome</title>\n<path fill=\"none\" stroke=\"#6c757d\" stroke-dasharray=\"5,2\" d=\"M122.196,-192.3753C122.196,-201.6422 122.196,-210.9091 122.196,-220.1759\"/>\n<polygon fill=\"#6c757d\" stroke=\"#6c757d\" points=\"118.6961,-220.2314 122.196,-230.2315 125.6961,-220.2315 118.6961,-220.2314\"/>\n</g>\n<!-- ANN\nVision\nAlgorithm&#45;&gt;Baseline -->\n<g id=\"edge15\" class=\"edge\">\n<title>ANN\nVision\nAlgorithm&#45;&gt;Baseline</title>\n<path fill=\"none\" stroke=\"#6c757d\" stroke-dasharray=\"5,2\" d=\"M147.2918,-100.4461C176.5993,-136.4712 224.7615,-195.6729 253.8358,-231.4114\"/>\n<ellipse fill=\"#6c757d\" stroke=\"#6c757d\" cx=\"256.5094\" cy=\"-234.6977\" rx=\"4\" ry=\"4\"/>\n<text text-anchor=\"middle\" x=\"204.7939\" y=\"-210.198\" font-family=\"Times,serif\" font-size=\"8.00\" fill=\"#000000\">use supervisor</text>\n<text text-anchor=\"middle\" x=\"204.7939\" y=\"-201.198\" font-family=\"Times,serif\" font-size=\"8.00\" fill=\"#000000\">learning</text>\n</g>\n</g>\n</svg>\n"
          },
          "metadata": {
            "tags": []
          }
        }
      ]
    },
    {
      "cell_type": "markdown",
      "metadata": {
        "id": "pFuv7dQ-KqPz"
      },
      "source": [
        "- Figure-6 is tracking where is Eggna in her journey. She is at \"Research Baseline.\""
      ]
    },
    {
      "cell_type": "markdown",
      "metadata": {
        "id": "ZaLxLoYFTJ8g"
      },
      "source": [
        "- The Research Baseline first step is to learn about the project and the client. The project is “identify 13 chicken diseases on a farm,” and the client is Mr. Cole MacDonal (a fictitious name).\n",
        "\n",
        "- Looking slightly behind, Eggna knows one of the best methods for understanding the project scope is creating the client’s persona. In the simplest definition, a “persona,” in user-centered design and marketing, is a fictional character created to represent a user type that uses the product daily. \n",
        "\n",
        "- There are numerous books, blogs, and videos about “what is” and “how to create” the client persona. Therefore, there are as many methods as there are clients. History traces that Alan Cooper, a noted pioneer software developer, is the first to use persona in 1983. He popularizes it in his book, “The Inmates Are Running the Asylum: Why High Tech Products Drive Us Crazy and How to Restore the Sanity” in 1999.\n",
        "\n"
      ]
    },
    {
      "cell_type": "markdown",
      "metadata": {
        "id": "hZ8sdEN4AwdO"
      },
      "source": [
        "<table width=60%\"><tr><td>\n",
        "<br>\n",
        "\n",
        "- <img src=\"https://github.com/duchaba/fastbook/blob/master/macdonal.png?raw=true\" width=\"300\" align=\"center\">\n",
        "\n",
        "<br>\n",
        "\n",
        "- **Name:** Cole MacDonal.\n",
        "\n",
        "- **Location:** California, USA.\n",
        "\n",
        "- **Job:** Farmer and Owner\n",
        "- **Requirement:** (see below)\n",
        "- **Goal:** (see below)\n",
        "<br>\n",
        "<center>Figure-7</center>\n",
        "\n",
        "</td></tr></table>"
      ]
    },
    {
      "cell_type": "markdown",
      "metadata": {
        "id": "_f_WqNdPAwhQ"
      },
      "source": [
        "- Detail:\n",
        "\n",
        "  - **Requirement:** “...an easy method for my farmers to [*quickly*] see which chicken might come down with a disease [*one of the thirteen*] in their daily chores.”\n",
        "\n",
        "  - **Goal:** “...keeping my [*chicken*] flocks healthy and more profitable. If we can spot the [*chicken thirteen*] disease early, we can stop the diseased chicken from spreading to the flock.” "
      ]
    },
    {
      "cell_type": "markdown",
      "metadata": {
        "id": "5gecQZNAAwlS"
      },
      "source": [
        "- Figure-7 is Eggna’s take on creating the client persona. It is one of the simplest formats, and it is sufficient for this project. Other projects might require a more profound and more extensive client persona. "
      ]
    },
    {
      "cell_type": "markdown",
      "metadata": {
        "id": "JXOXxFE4LhO6"
      },
      "source": [
        "- After many interviews with Mr. Cole and the farmers, Eggna founds the following details. The actual interviews were with the CEO, the foundation staff, domain experts, and the two consulting companies. The information is factual. Only the name and the type of the disease are different.\n",
        "\n",
        "- Initially, the goal is to identify thirteen chicken sicknesses. However, after the interviews, only five chicken sicknesses plague this region for the past twenty years. The Deep Learning ANN algorithm works well for two categories or 100 categories, but more categories translate to more efforts in gathering images and labeling them. \n",
        "\n",
        "- If Eggna limits the number of chicken sicknesses, he will save time and expenses in gathering the data, but the resulting Machine Learning (ML) model is also limited to California. For other regions, such as Virginia or South Carolina, chicken diseases are not in the training data set. In other words, if limited to California, the ML model might give “false positive.”\n"
      ]
    },
    {
      "cell_type": "markdown",
      "metadata": {
        "id": "O9AzJsRYLhSG"
      },
      "source": [
        "- Furthermore, the goal is to isolate the sick chickens from the flock, so maybe the categories are simpler. There should be just two “healthy or sick” chickens. In other words, it does not matter what disease is inflicted on the chicken. If the chicken is sick, remove it from the flock.\n",
        "\n",
        "- Without going into a complex mathematical digression of the [Universal approximation theorem](https://en.wikipedia.org/wiki/Universal_approximation_theorem), there is no concept of “not” in ANN. It means Eggna can not use boolean logic to say “...if the inference confidence level is low on the chicken sickness images, then labels it as healthy.” \n",
        "\n",
        "- The solution is to add healthy chicken images to the training data set. However, there are so many more images for healthy chicken, which might make the data-set lopsided. Similar to the “sparse array” problem, where there are many more zero (healthy) than one (sick). \n",
        "\n",
        "- Moving forward, Eggna checks with the domain experts, such as the American Poultry Association (APM), for any current statistics or ML model. The goal is to find an existing prediction accuracy number. Sadly, there is no prediction accuracy, but there are statistics on chicken disease in America.  Eggna needs to consult with a statistician to deduce any relevancy.\n",
        "\n",
        "- Next, Eggna does an online search for any existing ML model or project for “identify chicken disease.” She checks on many popular ML competition sites, such as Kaggle competitions. There is no luck. She does not find any ML project that even close to identify chicken disease.”\n",
        "\n",
        "- Digging deeper, she found many commercially available ML platforms, e.g., Amazon SageMaker, Microsoft AI360, Google AI Engine, and Open.ai GPT-3, claim they can quickly build an ML model for Eggna. Still, without the data, i.e., labeled images, she can’t use them. Therefore, it is impossible to use commercially available ML platforms to find the relevant prediction accuracy number.\n",
        "\n",
        "- Forging forward, Eggna interviews the field experts, the veterinarians. They are confident that they can spot a disease in a chicken, but it is next to impossible to quantify it without setting up a field test. For example, show a veterinarian 10,000 images of a diseased chicken and ask him or her to name that disease. Afterward, Eggna can calculate the percentage of accuracy. "
      ]
    },
    {
      "cell_type": "markdown",
      "metadata": {
        "id": "2ltib6EDWx_1"
      },
      "source": [
        "- Putting it all together, Eggna goal is to deduce the Research Baseline, which should be higher than the “Blind Baseline.” Typically, Eggna pits the hue-mon {human} experts against the ML algorithm. The ML does not have to beat the hue-mon accuracy, but it has to be close. \n",
        "\n",
        "- Suppose no hue-mon has the quantifiable and verifiable expertise, i.e., there is no \"chicken whisperer\". In that case, Eggna will try to find exiting published ML academic papers to be set as the target accuracy, but there is none to be found. Eggna is wise not to use the marketing target accuracy from public or private companies because without verifying the data, the claims can not be trusted at face value.\n",
        "\n",
        "- The only available method left is the statistical analysis from statisticians. It is a similar method used by the Centers for Disease Control and Prevention (CDC) to predict the likelihood of which influenza (the common flu) strains will be widespread in the winter. \n",
        "\n",
        "- Before Eggna unveiled the answer, she would like to review Figure-7, the persona. The target accuracy is based on a quick visual inspection of random chickens and not sending the chicken’s blood and poop to the laboratory. \n",
        "\n",
        "  - For identifying “healthy versus sick,” using the top thirteen diseases, the Research Baseline is 77.14% accuracy.\n",
        "\n",
        "  - For identifying “healthy versus sick,” using the top five diseases, the Research Baseline is 85.43% accuracy.\n",
        "\n",
        "  - For identifying the top thirteen diseases (no “healthy” category), the Research Baseline is 69.23% accuracy.\n",
        "\n",
        "  - For identifying the top five diseases (no “healthy” category), the Research Baseline is 71.43% accuracy.\n",
        "\n",
        "-  The above statistical equation is easy to program, but it demands rigorously analytical data analysis before deriving at the equation.\n",
        "\n",
        "- Fair disclosure, Eggna did not hire a statistician for the “chicken disease” (A1SH) ML model. She reuses the equation from the nonprofit foundation project with the A1SH parameters. Eggna did not include the “equation code cells” in the Jupyter notebook because of a non-disclosure clauses. \n"
      ]
    },
    {
      "cell_type": "code",
      "metadata": {
        "id": "290D8anawMfH"
      },
      "source": [
        ""
      ],
      "execution_count": null,
      "outputs": []
    },
    {
      "cell_type": "code",
      "metadata": {
        "colab": {
          "base_uri": "https://localhost:8080/"
        },
        "id": "TaCFXGXPiOs9",
        "outputId": "8523bc95-09d6-4803-b702-303d4b244846"
      },
      "source": [
        "# fetch it\n",
        "eggna.fetch_blind_baseline(7,1)"
      ],
      "execution_count": null,
      "outputs": [
        {
          "output_type": "stream",
          "text": [
            "---------------------------------------- : ----------------------------------------\n",
            "                        Input Categories : 7\n",
            "                     Top Selection Count : 1\n",
            "               AI Blind Baseline, Target : 57.14%\n",
            "---------------------------------------- : ----------------------------------------\n"
          ],
          "name": "stdout"
        },
        {
          "output_type": "execute_result",
          "data": {
            "text/plain": [
              "57.14"
            ]
          },
          "metadata": {
            "tags": []
          },
          "execution_count": 14
        }
      ]
    },
    {
      "cell_type": "code",
      "metadata": {
        "colab": {
          "base_uri": "https://localhost:8080/"
        },
        "id": "7InlFu9Uioii",
        "outputId": "cf1a3e34-2c03-4249-b987-bc80e04aa8d4"
      },
      "source": [
        "# fetch it\n",
        "eggna.fetch_blind_baseline(13,5)"
      ],
      "execution_count": null,
      "outputs": [
        {
          "output_type": "stream",
          "text": [
            "---------------------------------------- : ----------------------------------------\n",
            "                        Input Categories : 13\n",
            "                     Top Selection Count : 5\n",
            "               AI Blind Baseline, Target : 69.23%\n",
            "---------------------------------------- : ----------------------------------------\n"
          ],
          "name": "stdout"
        },
        {
          "output_type": "execute_result",
          "data": {
            "text/plain": [
              "69.23"
            ]
          },
          "metadata": {
            "tags": []
          },
          "execution_count": 17
        }
      ]
    },
    {
      "cell_type": "code",
      "metadata": {
        "colab": {
          "base_uri": "https://localhost:8080/"
        },
        "id": "bDalB10uiO5V",
        "outputId": "a8e2d4dc-9473-4b9f-a9e4-8a0c148d4ce3"
      },
      "source": [
        "# fetch it\n",
        "eggna.fetch_blind_baseline(14,6)"
      ],
      "execution_count": null,
      "outputs": [
        {
          "output_type": "stream",
          "text": [
            "---------------------------------------- : ----------------------------------------\n",
            "                        Input Categories : 14\n",
            "                     Top Selection Count : 6\n",
            "               AI Blind Baseline, Target : 71.43%\n",
            "---------------------------------------- : ----------------------------------------\n"
          ],
          "name": "stdout"
        },
        {
          "output_type": "execute_result",
          "data": {
            "text/plain": [
              "71.43"
            ]
          },
          "metadata": {
            "tags": []
          },
          "execution_count": 18
        }
      ]
    },
    {
      "cell_type": "markdown",
      "metadata": {
        "id": "J8eLFKjETKGu"
      },
      "source": [
        "# 10.0 | Verify Baseline"
      ]
    },
    {
      "cell_type": "markdown",
      "metadata": {
        "id": "Urwrw-1d_xGc"
      },
      "source": [
        "- Once Eggna has the Researched Baseline, which should be higher accuracy than the Blind Baseline, she will cross the road and establish the Verified Baseline. \n",
        "\n",
        "- As the name implied, the accuracy should be verifiable, but how can Eggna substantiate the accuracy before writing the first line of code?\n",
        "\n",
        "- There are three general methods for constructing the Verified Baseline. The first is to find a similar ML project that predicts a similar goal. For example, If Eggna has found an ML model that classifies the different automobiles, she can deduce the classifying motorcycle accuracy. \n",
        "\n",
        "- Eggna searches online for similar ML models for categorizing chicken diseases, such as checking your cats’ health or identifying common childhood illnesses in a classroom. \n",
        "\n",
        "- Eggna found a “CNN for skin cancer detection” project on Kaggle.com, which shows an 82.88% accuracy. \n",
        "\n",
        "- The second method for extrapolating the Verified Baseline is to find the hue-mon {human} subject matter experts and compare the result to their expert prediction. For example, if Eggna found a chicken-whisperer, and he/she can look at a chicken and say which disease inflicted the chicken. What is his/her documented accuracy? If not established, Eggna could set up a fishbowl analysis with 20,000 images and ask the chicken-whisperer or a veterinarian to name that diseases. \n",
        "\n",
        "- The resulting accuracy should be higher than the Researched Baseline. If not, then the hue-mon {human} is not that good. \n",
        "\n",
        "- The third general method is the “smoke test.” If Eggna has the data, even before transformed or cleansed, she uses the chosen algorithm and runs it using the default hyperparameters. There could be errors in the data, the images lack argumentation, and the hyperparameters are not tuned. In fancier ML terminology, it is no regularization. \n",
        "\n",
        "- If the smoke test produces a converging lost rate, then that is the Verified Baseline.\n",
        "\n",
        "- In the “Fast.ai Book Study Group #G1FA” journey from Rocky, it takes only a handful of lines of code to create the ML model for supervisor learning type using ANN algorithm. Eggna copied the code from Rocky for classifying cat and dog breeds, and she ran it using all the default hyperparameters. The accuracy is 94.72%. \n",
        "\n",
        "- Eggna would like to point out that the “Demystify Neural Network NLP Input-data and Tokenizer” section 9.1 in the journey by Henna has an excellent explanation of all eleven ANN hyperparameters. \n",
        "\n",
        "- Eggna has no images of diseased chicken, so she can’t use the smoke test option.\n",
        "\n",
        "\n"
      ]
    },
    {
      "cell_type": "markdown",
      "metadata": {
        "id": "7aZstx19_xKM"
      },
      "source": [
        ""
      ]
    },
    {
      "cell_type": "markdown",
      "metadata": {
        "id": "wwablsXe_xOA"
      },
      "source": [
        "# 11.0 | Label Data"
      ]
    },
    {
      "cell_type": "code",
      "metadata": {
        "id": "HG4dtdv5bbos"
      },
      "source": [
        "# update the journey\n",
        "@add_method(D0HZ)\n",
        "def draw_journey(self):\n",
        "  x = '\"Eggna\\nHome\"[shape=circle style=filled fillcolor=\"' + self.color_warning + '\" ] '\n",
        "  x += '\"Baseline\"[shape=circle style=filled fillcolor=\"' + self.color_warning + '\" ] '\n",
        "  x += '\"Label\"[shape=circle fontsize=12.0 style=filled fillcolor=\"' + self.color_primary + '\" ] '\n",
        "  x += '\"Biases\"[shape=circle style=filled fillcolor=\"' + self.color_warning + '\" ] '\n",
        "  x += '\"B\"[shape=circle style=filled fontcolor=\"#ffffff\" fillcolor=\"' + self.color_success + '\" ] '\n",
        "  #\n",
        "  x += '\"Blind\\nBaseline\\n(53.85%)\"[shape=circle style=filled  fillcolor=\"' + self.color_warning + '\" ] '\n",
        "  x += '\"Research\\nBaseline\\n(77.14%)\"[shape=circle style=filled  fillcolor=\"' + self.color_warning + '\" ] '\n",
        "  x += '\"Verify\\nBaseline\\n(82.88%)\"[shape=circle style=filled  fillcolor=\"' + self.color_warning + '\" ] '\n",
        "  x += '\"Eggna\\nHome\"->\"Baseline\"[fontsize=8.0 label=\"establish\"]; '\n",
        "  x += '\"Baseline\"->\"Blind\\nBaseline\\n(53.85%)\"[fontsize=8.0 label=\"fetch the default\"]; '\n",
        "  x += '\"Baseline\"->\"Research\\nBaseline\\n(77.14%)\"[fontsize=8.0 label=\"research persona\"]; '\n",
        "  x += '\"Baseline\"->\"Verify\\nBaseline\\n(82.88%)\"[fontsize=8.0 label=\"compare to experts\"]; '\n",
        "  x += '\"Blind\\nBaseline\\n(53.85%)\"->B[fontsize=8.0 label=\"go\" style=\"dashed\" arrowhead=\"dot\"]; '\n",
        "  x += '\"Research\\nBaseline\\n(77.14%)\"->B[fontsize=8.0 label=\"go\" style=\"dashed\" arrowhead=\"dot\"]; '\n",
        "  x += '\"Verify\\nBaseline\\n(82.88%)\"->B[fontsize=8.0 label=\"go\"]; '\n",
        "  x += '\"Blind\\nBaseline\\n(53.85%)\"->\"Research\\nBaseline\\n(77.14%)\"[constraint=false fontsize=8.0 label=\"advance\\nnext\"]; '\n",
        "  x += '\"Research\\nBaseline\\n(77.14%)\"->\"Verify\\nBaseline\\n(82.88%)\"[constraint=false fontsize=8.0 label=\"go for\\nbroke\"]; '\n",
        "  #\n",
        "  #\n",
        "  x += 'B->\"Label\"[fontsize=8.0 label=\"get label\\nimages\"]; '\n",
        "  x += '\"Label\"->\"Biases\"; '\n",
        "  x += '\"Biases\"->\"Wrap up\"->\"Eggna\\nHome\"[constraint=false, style=\"dashed\"] '\n",
        "  #\n",
        "  x += '\"Eggna\\nHome\"->\"ANN\\nVision\\nAlgorithm\"->Baseline[style=\"dashed\" arrowhead=\"dot\" constraint=false fontsize=8.0 label=\"use supervisor\\nlearning\"] '\n",
        "  #\n",
        "  self._draw_graph_viz(x,\"Figure-8, A1SH Label Data\",default_shape=\"circle\",bgcolor=\"#ffffff\", node_font_size=9.0)\n",
        "  return"
      ],
      "execution_count": null,
      "outputs": []
    },
    {
      "cell_type": "code",
      "metadata": {
        "colab": {
          "base_uri": "https://localhost:8080/",
          "height": 669
        },
        "id": "ysArxJRdc_aY",
        "outputId": "11798761-cb76-426f-c98e-49f7888f44cf"
      },
      "source": [
        "# draw it\n",
        "eggna.draw_journey()"
      ],
      "execution_count": null,
      "outputs": [
        {
          "output_type": "display_data",
          "data": {
            "text/plain": [
              "<graphviz.files.Source at 0x7f738f7e1810>"
            ],
            "image/svg+xml": "<?xml version=\"1.0\" encoding=\"UTF-8\" standalone=\"no\"?>\n<!DOCTYPE svg PUBLIC \"-//W3C//DTD SVG 1.1//EN\"\n \"http://www.w3.org/Graphics/SVG/1.1/DTD/svg11.dtd\">\n<!-- Generated by graphviz version 2.40.1 (20161225.0304)\n -->\n<!-- Title: G Pages: 1 -->\n<svg width=\"842pt\" height=\"486pt\"\n viewBox=\"0.00 0.00 842.46 486.38\" xmlns=\"http://www.w3.org/2000/svg\" xmlns:xlink=\"http://www.w3.org/1999/xlink\">\n<g id=\"graph0\" class=\"graph\" transform=\"scale(1 1) rotate(0) translate(28.8 457.5817)\">\n<title>G</title>\n<polygon fill=\"#ffffff\" stroke=\"transparent\" points=\"-28.8,28.8 -28.8,-457.5817 813.661,-457.5817 813.661,28.8 -28.8,28.8\"/>\n<text text-anchor=\"middle\" x=\"392.4305\" y=\"-10\" font-family=\"Times,serif\" font-size=\"20.00\" fill=\"#17a2b8\">Figure&#45;8, A1SH Label Data</text>\n<!-- Eggna\nHome -->\n<g id=\"node1\" class=\"node\">\n<title>Eggna\nHome</title>\n<ellipse fill=\"#d9e506\" stroke=\"#343a40\" cx=\"122.196\" cy=\"-277.598\" rx=\"31.2258\" ry=\"31.2258\"/>\n<text text-anchor=\"middle\" x=\"122.196\" y=\"-280.398\" font-family=\"Arial\" font-size=\"9.00\" fill=\"#343a40\">Eggna</text>\n<text text-anchor=\"middle\" x=\"122.196\" y=\"-270.398\" font-family=\"Arial\" font-size=\"9.00\" fill=\"#343a40\">Home</text>\n</g>\n<!-- Baseline -->\n<g id=\"node2\" class=\"node\">\n<title>Baseline</title>\n<ellipse fill=\"#d9e506\" stroke=\"#343a40\" cx=\"278.3935\" cy=\"-277.598\" rx=\"30.6995\" ry=\"30.6995\"/>\n<text text-anchor=\"middle\" x=\"278.3935\" y=\"-275.398\" font-family=\"Arial\" font-size=\"9.00\" fill=\"#343a40\">Baseline</text>\n</g>\n<!-- Eggna\nHome&#45;&gt;Baseline -->\n<g id=\"edge1\" class=\"edge\">\n<title>Eggna\nHome&#45;&gt;Baseline</title>\n<path fill=\"none\" stroke=\"#6c757d\" d=\"M153.4295,-277.598C177.6368,-277.598 211.3765,-277.598 237.6968,-277.598\"/>\n<polygon fill=\"#6c757d\" stroke=\"#6c757d\" points=\"237.7465,-281.0981 247.7464,-277.598 237.7464,-274.0981 237.7465,-281.0981\"/>\n<text text-anchor=\"middle\" x=\"204.7939\" y=\"-280.198\" font-family=\"Times,serif\" font-size=\"8.00\" fill=\"#000000\">establish</text>\n</g>\n<!-- ANN\nVision\nAlgorithm -->\n<g id=\"node10\" class=\"node\">\n<title>ANN\nVision\nAlgorithm</title>\n<ellipse fill=\"#ced4da\" stroke=\"#343a40\" cx=\"122.196\" cy=\"-69.598\" rx=\"39.6962\" ry=\"39.6962\"/>\n<text text-anchor=\"middle\" x=\"122.196\" y=\"-77.398\" font-family=\"Arial\" font-size=\"9.00\" fill=\"#343a40\">ANN</text>\n<text text-anchor=\"middle\" x=\"122.196\" y=\"-67.398\" font-family=\"Arial\" font-size=\"9.00\" fill=\"#343a40\">Vision</text>\n<text text-anchor=\"middle\" x=\"122.196\" y=\"-57.398\" font-family=\"Arial\" font-size=\"9.00\" fill=\"#343a40\">Algorithm</text>\n</g>\n<!-- Eggna\nHome&#45;&gt;ANN\nVision\nAlgorithm -->\n<g id=\"edge14\" class=\"edge\">\n<title>Eggna\nHome&#45;&gt;ANN\nVision\nAlgorithm</title>\n<path fill=\"none\" stroke=\"#6c757d\" stroke-dasharray=\"5,2\" d=\"M96.8979,-259.0023C73.8688,-240.3563 41.4209,-209.3378 27.598,-173.598 14.5014,-139.7362 48.5631,-110.1126 79.4017,-91.2345\"/>\n<ellipse fill=\"#6c757d\" stroke=\"#6c757d\" cx=\"82.8794\" cy=\"-89.1759\" rx=\"4\" ry=\"4\"/>\n<text text-anchor=\"middle\" x=\"39.598\" y=\"-167.198\" font-family=\"Times,serif\" font-size=\"8.00\" fill=\"#000000\">use supervisor</text>\n<text text-anchor=\"middle\" x=\"39.598\" y=\"-158.198\" font-family=\"Times,serif\" font-size=\"8.00\" fill=\"#000000\">learning</text>\n</g>\n<!-- Blind\nBaseline\n(53.85%) -->\n<g id=\"node6\" class=\"node\">\n<title>Blind\nBaseline\n(53.85%)</title>\n<ellipse fill=\"#d9e506\" stroke=\"#343a40\" cx=\"451.591\" cy=\"-390.598\" rx=\"38.3684\" ry=\"38.3684\"/>\n<text text-anchor=\"middle\" x=\"451.591\" y=\"-398.398\" font-family=\"Arial\" font-size=\"9.00\" fill=\"#343a40\">Blind</text>\n<text text-anchor=\"middle\" x=\"451.591\" y=\"-388.398\" font-family=\"Arial\" font-size=\"9.00\" fill=\"#343a40\">Baseline</text>\n<text text-anchor=\"middle\" x=\"451.591\" y=\"-378.398\" font-family=\"Arial\" font-size=\"9.00\" fill=\"#343a40\">(53.85%)</text>\n</g>\n<!-- Baseline&#45;&gt;Blind\nBaseline\n(53.85%) -->\n<g id=\"edge2\" class=\"edge\">\n<title>Baseline&#45;&gt;Blind\nBaseline\n(53.85%)</title>\n<path fill=\"none\" stroke=\"#6c757d\" d=\"M304.3229,-294.5152C332.5632,-312.9402 378.1019,-342.6512 411.07,-364.1607\"/>\n<polygon fill=\"#6c757d\" stroke=\"#6c757d\" points=\"409.2982,-367.1837 419.5858,-369.7167 413.1232,-361.3211 409.2982,-367.1837\"/>\n<text text-anchor=\"middle\" x=\"360.4931\" y=\"-353.198\" font-family=\"Times,serif\" font-size=\"8.00\" fill=\"#000000\">fetch the default</text>\n</g>\n<!-- Research\nBaseline\n(77.14%) -->\n<g id=\"node7\" class=\"node\">\n<title>Research\nBaseline\n(77.14%)</title>\n<ellipse fill=\"#d9e506\" stroke=\"#343a40\" cx=\"451.591\" cy=\"-277.598\" rx=\"39.6962\" ry=\"39.6962\"/>\n<text text-anchor=\"middle\" x=\"451.591\" y=\"-285.398\" font-family=\"Arial\" font-size=\"9.00\" fill=\"#343a40\">Research</text>\n<text text-anchor=\"middle\" x=\"451.591\" y=\"-275.398\" font-family=\"Arial\" font-size=\"9.00\" fill=\"#343a40\">Baseline</text>\n<text text-anchor=\"middle\" x=\"451.591\" y=\"-265.398\" font-family=\"Arial\" font-size=\"9.00\" fill=\"#343a40\">(77.14%)</text>\n</g>\n<!-- Baseline&#45;&gt;Research\nBaseline\n(77.14%) -->\n<g id=\"edge3\" class=\"edge\">\n<title>Baseline&#45;&gt;Research\nBaseline\n(77.14%)</title>\n<path fill=\"none\" stroke=\"#6c757d\" d=\"M309.3578,-277.598C334.947,-277.598 371.7753,-277.598 401.5452,-277.598\"/>\n<polygon fill=\"#6c757d\" stroke=\"#6c757d\" points=\"401.7508,-281.0981 411.7507,-277.598 401.7507,-274.0981 401.7508,-281.0981\"/>\n<text text-anchor=\"middle\" x=\"360.4931\" y=\"-280.198\" font-family=\"Times,serif\" font-size=\"8.00\" fill=\"#000000\">research persona</text>\n</g>\n<!-- Verify\nBaseline\n(82.88%) -->\n<g id=\"node8\" class=\"node\">\n<title>Verify\nBaseline\n(82.88%)</title>\n<ellipse fill=\"#d9e506\" stroke=\"#343a40\" cx=\"451.591\" cy=\"-164.598\" rx=\"38.3684\" ry=\"38.3684\"/>\n<text text-anchor=\"middle\" x=\"451.591\" y=\"-172.398\" font-family=\"Arial\" font-size=\"9.00\" fill=\"#343a40\">Verify</text>\n<text text-anchor=\"middle\" x=\"451.591\" y=\"-162.398\" font-family=\"Arial\" font-size=\"9.00\" fill=\"#343a40\">Baseline</text>\n<text text-anchor=\"middle\" x=\"451.591\" y=\"-152.398\" font-family=\"Arial\" font-size=\"9.00\" fill=\"#343a40\">(82.88%)</text>\n</g>\n<!-- Baseline&#45;&gt;Verify\nBaseline\n(82.88%) -->\n<g id=\"edge4\" class=\"edge\">\n<title>Baseline&#45;&gt;Verify\nBaseline\n(82.88%)</title>\n<path fill=\"none\" stroke=\"#6c757d\" d=\"M304.3229,-260.6807C332.5632,-242.2558 378.1019,-212.5448 411.07,-191.0353\"/>\n<polygon fill=\"#6c757d\" stroke=\"#6c757d\" points=\"413.1232,-193.8748 419.5858,-185.4793 409.2982,-188.0123 413.1232,-193.8748\"/>\n<text text-anchor=\"middle\" x=\"360.4931\" y=\"-246.198\" font-family=\"Times,serif\" font-size=\"8.00\" fill=\"#000000\">compare to experts</text>\n</g>\n<!-- Label -->\n<g id=\"node3\" class=\"node\">\n<title>Label</title>\n<ellipse fill=\"#ff7900\" stroke=\"#343a40\" cx=\"668.1216\" cy=\"-277.598\" rx=\"28.8653\" ry=\"28.8653\"/>\n<text text-anchor=\"middle\" x=\"668.1216\" y=\"-274.498\" font-family=\"Arial\" font-size=\"12.00\" fill=\"#343a40\">Label</text>\n</g>\n<!-- Biases -->\n<g id=\"node4\" class=\"node\">\n<title>Biases</title>\n<ellipse fill=\"#d9e506\" stroke=\"#343a40\" cx=\"759.4576\" cy=\"-277.598\" rx=\"25.3072\" ry=\"25.3072\"/>\n<text text-anchor=\"middle\" x=\"759.4576\" y=\"-275.398\" font-family=\"Arial\" font-size=\"9.00\" fill=\"#343a40\">Biases</text>\n</g>\n<!-- Label&#45;&gt;Biases -->\n<g id=\"edge11\" class=\"edge\">\n<title>Label&#45;&gt;Biases</title>\n<path fill=\"none\" stroke=\"#6c757d\" d=\"M697.272,-277.598C705.7524,-277.598 715.1111,-277.598 723.9371,-277.598\"/>\n<polygon fill=\"#6c757d\" stroke=\"#6c757d\" points=\"723.969,-281.0981 733.969,-277.598 723.9689,-274.0981 723.969,-281.0981\"/>\n</g>\n<!-- Wrap up -->\n<g id=\"node9\" class=\"node\">\n<title>Wrap up</title>\n<ellipse fill=\"#ced4da\" stroke=\"#343a40\" cx=\"122.196\" cy=\"-156.598\" rx=\"29.3898\" ry=\"29.3898\"/>\n<text text-anchor=\"middle\" x=\"122.196\" y=\"-154.398\" font-family=\"Arial\" font-size=\"9.00\" fill=\"#343a40\">Wrap up</text>\n</g>\n<!-- Biases&#45;&gt;Wrap up -->\n<g id=\"edge12\" class=\"edge\">\n<title>Biases&#45;&gt;Wrap up</title>\n<path fill=\"none\" stroke=\"#6c757d\" stroke-dasharray=\"5,2\" d=\"M740.0154,-260.7859C698.0676,-225.7658 594.4824,-145.9061 491.189,-117.598 429.7481,-100.7597 242.9812,-133.2213 161.2234,-148.8541\"/>\n<polygon fill=\"#6c757d\" stroke=\"#6c757d\" points=\"160.4837,-145.4322 151.3273,-150.7624 161.8092,-152.3055 160.4837,-145.4322\"/>\n</g>\n<!-- B -->\n<g id=\"node5\" class=\"node\">\n<title>B</title>\n<ellipse fill=\"#cf0072\" stroke=\"#343a40\" cx=\"555.189\" cy=\"-277.598\" rx=\"18\" ry=\"18\"/>\n<text text-anchor=\"middle\" x=\"555.189\" y=\"-275.398\" font-family=\"Arial\" font-size=\"9.00\" fill=\"#ffffff\">B</text>\n</g>\n<!-- B&#45;&gt;Label -->\n<g id=\"edge10\" class=\"edge\">\n<title>B&#45;&gt;Label</title>\n<path fill=\"none\" stroke=\"#6c757d\" d=\"M573.3336,-277.598C588.2743,-277.598 609.9924,-277.598 628.8714,-277.598\"/>\n<polygon fill=\"#6c757d\" stroke=\"#6c757d\" points=\"629.0066,-281.0981 639.0066,-277.598 629.0065,-274.0981 629.0066,-281.0981\"/>\n<text text-anchor=\"middle\" x=\"606.189\" y=\"-289.198\" font-family=\"Times,serif\" font-size=\"8.00\" fill=\"#000000\">get label</text>\n<text text-anchor=\"middle\" x=\"606.189\" y=\"-280.198\" font-family=\"Times,serif\" font-size=\"8.00\" fill=\"#000000\">images</text>\n</g>\n<!-- Blind\nBaseline\n(53.85%)&#45;&gt;B -->\n<g id=\"edge5\" class=\"edge\">\n<title>Blind\nBaseline\n(53.85%)&#45;&gt;B</title>\n<path fill=\"none\" stroke=\"#6c757d\" stroke-dasharray=\"5,2\" d=\"M477.466,-362.3748C496.041,-342.114 520.6086,-315.3168 537.1068,-297.3212\"/>\n<ellipse fill=\"#6c757d\" stroke=\"#6c757d\" cx=\"540.0909\" cy=\"-294.0664\" rx=\"4\" ry=\"4\"/>\n<text text-anchor=\"middle\" x=\"514.189\" y=\"-329.198\" font-family=\"Times,serif\" font-size=\"8.00\" fill=\"#000000\">go</text>\n</g>\n<!-- Blind\nBaseline\n(53.85%)&#45;&gt;Research\nBaseline\n(77.14%) -->\n<g id=\"edge8\" class=\"edge\">\n<title>Blind\nBaseline\n(53.85%)&#45;&gt;Research\nBaseline\n(77.14%)</title>\n<path fill=\"none\" stroke=\"#6c757d\" d=\"M451.591,-352.2564C451.591,-344.2799 451.591,-335.7631 451.591,-327.4416\"/>\n<polygon fill=\"#6c757d\" stroke=\"#6c757d\" points=\"455.0911,-327.4375 451.591,-317.4376 448.0911,-327.4376 455.0911,-327.4375\"/>\n<text text-anchor=\"middle\" x=\"439.591\" y=\"-337.4051\" font-family=\"Times,serif\" font-size=\"8.00\" fill=\"#000000\">advance</text>\n<text text-anchor=\"middle\" x=\"439.591\" y=\"-328.4051\" font-family=\"Times,serif\" font-size=\"8.00\" fill=\"#000000\">next</text>\n</g>\n<!-- Research\nBaseline\n(77.14%)&#45;&gt;B -->\n<g id=\"edge6\" class=\"edge\">\n<title>Research\nBaseline\n(77.14%)&#45;&gt;B</title>\n<path fill=\"none\" stroke=\"#6c757d\" stroke-dasharray=\"5,2\" d=\"M491.3484,-277.598C503.8983,-277.598 517.4464,-277.598 528.8195,-277.598\"/>\n<ellipse fill=\"#6c757d\" stroke=\"#6c757d\" cx=\"533.0399\" cy=\"-277.598\" rx=\"4\" ry=\"4\"/>\n<text text-anchor=\"middle\" x=\"514.189\" y=\"-280.198\" font-family=\"Times,serif\" font-size=\"8.00\" fill=\"#000000\">go</text>\n</g>\n<!-- Research\nBaseline\n(77.14%)&#45;&gt;Verify\nBaseline\n(82.88%) -->\n<g id=\"edge9\" class=\"edge\">\n<title>Research\nBaseline\n(77.14%)&#45;&gt;Verify\nBaseline\n(82.88%)</title>\n<path fill=\"none\" stroke=\"#6c757d\" d=\"M451.591,-237.8379C451.591,-229.8498 451.591,-221.3709 451.591,-213.1234\"/>\n<polygon fill=\"#6c757d\" stroke=\"#6c757d\" points=\"455.0911,-212.8546 451.591,-202.8546 448.0911,-212.8547 455.0911,-212.8546\"/>\n<text text-anchor=\"middle\" x=\"439.591\" y=\"-222.9909\" font-family=\"Times,serif\" font-size=\"8.00\" fill=\"#000000\">go for</text>\n<text text-anchor=\"middle\" x=\"439.591\" y=\"-213.9909\" font-family=\"Times,serif\" font-size=\"8.00\" fill=\"#000000\">broke</text>\n</g>\n<!-- Verify\nBaseline\n(82.88%)&#45;&gt;B -->\n<g id=\"edge7\" class=\"edge\">\n<title>Verify\nBaseline\n(82.88%)&#45;&gt;B</title>\n<path fill=\"none\" stroke=\"#6c757d\" d=\"M477.466,-192.8212C495.5522,-212.5488 519.3197,-238.4733 535.7878,-256.436\"/>\n<polygon fill=\"#6c757d\" stroke=\"#6c757d\" points=\"533.4563,-259.0722 542.794,-264.078 538.6161,-254.3417 533.4563,-259.0722\"/>\n<text text-anchor=\"middle\" x=\"514.189\" y=\"-240.198\" font-family=\"Times,serif\" font-size=\"8.00\" fill=\"#000000\">go</text>\n</g>\n<!-- Wrap up&#45;&gt;Eggna\nHome -->\n<g id=\"edge13\" class=\"edge\">\n<title>Wrap up&#45;&gt;Eggna\nHome</title>\n<path fill=\"none\" stroke=\"#6c757d\" stroke-dasharray=\"5,2\" d=\"M122.196,-186.3753C122.196,-202.9005 122.196,-219.4257 122.196,-235.9509\"/>\n<polygon fill=\"#6c757d\" stroke=\"#6c757d\" points=\"118.6961,-236.2402 122.196,-246.2402 125.6961,-236.2402 118.6961,-236.2402\"/>\n</g>\n<!-- ANN\nVision\nAlgorithm&#45;&gt;Baseline -->\n<g id=\"edge15\" class=\"edge\">\n<title>ANN\nVision\nAlgorithm&#45;&gt;Baseline</title>\n<path fill=\"none\" stroke=\"#6c757d\" stroke-dasharray=\"5,2\" d=\"M147.344,-100.2661C152.1904,-106.3026 157.1894,-112.6185 161.7939,-118.598 195.3307,-162.1494 232.6715,-213.6239 255.849,-245.9463\"/>\n<ellipse fill=\"#6c757d\" stroke=\"#6c757d\" cx=\"258.2443\" cy=\"-249.2911\" rx=\"4\" ry=\"4\"/>\n<text text-anchor=\"middle\" x=\"204.7939\" y=\"-220.198\" font-family=\"Times,serif\" font-size=\"8.00\" fill=\"#000000\">use supervisor</text>\n<text text-anchor=\"middle\" x=\"204.7939\" y=\"-211.198\" font-family=\"Times,serif\" font-size=\"8.00\" fill=\"#000000\">learning</text>\n</g>\n</g>\n</svg>\n"
          },
          "metadata": {
            "tags": []
          }
        }
      ]
    },
    {
      "cell_type": "markdown",
      "metadata": {
        "id": "7_wBzPGHbcMn"
      },
      "source": [
        "- Figure-8 summarized how far Eggna had traveled. Her next destination is “label data.”\n",
        "\n",
        "- Eggna has her client persona, the chosen ML algorithm (the ANN), and the baseline accuracy target. She will proceed to collect the data, i.e., the diseased chicken images. The first initial thought is that is there an existing database with diseased chicken images? \n",
        "\n",
        "- Eggna checks with the “[World’s Poultry Science Association (WPSA)](http://www.wpsa.com/),” the “[World Poultry Congress (WPC)](https://wpcparis2021.com/),” the “[World’s Poultry Science Journal](),” the “[United Poultry Growers Association](https://www.scimagojr.com/journalsearch.php),” the “[(USA) National Chicken Council](https://www.nationalchickencouncil.org/),” the “[American Pastured Poultry Producers Association (APPPA)](https://apppa.org/),” the “[USA Poultry and Egg Export Council (USAPEEC)](https://www.usapeec.org/),” and the “[Poultry Industry Associations](https://www.uspoultry.org/).”\n",
        "\n",
        "- There is plenty of literature about chicken diseases, but no one has a database with hundreds of thousands of diseased chicken images. \n",
        "\n",
        "- Based on the client persona, Eggna’s client owns a chicken farm, but he does not have a database of chicken diseased photos. The last option is to create an image database. It’s easier than it sounds. \n",
        "\n",
        "- Before diving into collecting the data, Eggna defines a few guidelines or answers a few questions about the data. How many photos are sufficient for the ML model to converge? And what type of images are acceptable and what are not?\n",
        "\n",
        "- There are no general rules that governed how many labeled images are a prerequisite for an ANN model to converge. From the client’s persona, Eggna knows the project’s goal is:\n",
        "> “...keeping my [*chicken*] flocks healthy and more profitable. If we can spot the [*chicken thirteen*] disease early, we can stop the diseased chicken from spreading to the flock.”\n",
        "\n",
        "- Eggna has tentatively chosen the ANN algorithm with Resnet-34 or Resnet-50 as the transfer learning model from the smoke test. \n",
        "\n",
        "- Since tens of millions of images train the resnet architecture, the retraining of the ANN may need from 5,000 to 8,000 images per category. With additional photos, Eggna can train the ML to have a lower loss rate. \n",
        "\n",
        "- With thirteen categories, the number of diseased chicken photos ranges from 65,000 to 104,000 images. It is a guesstimate. During the smoke test, the ANN model might need more pictures, or it can converge with a smaller number of photos. \n",
        "\n",
        "- If the ANN model needs more images, the good rules-of-thumb are using a modified Fibonacci number, i.e., the following sequence is 13,000 images per category. \n",
        "\n",
        "- Using the technique described in the [“Augmentation Data Deep Dive” journey by Wallaby](https://www.linkedin.com/pulse/augmentation-data-deep-dive-duc-haba/), Eggna can increase the input data by 5, 8, or even 13 times during training. It means Eggna can achieve better results and guarantee the ANN model will not be overfitting. In other words, she may need 5,000 or fewer photos per category. \n",
        "\n",
        "- For the second question, the client’s persona requirement clarifies what type of picture is acceptable. \n",
        ">“...an easy method for my farmers to [quickly] see which chicken might come down with a disease [one of the thirteen] in their daily chores.”\n",
        "\n",
        "- The farmers will take pictures from their mobile phones, so using professional photographers are not in scope. As seen in Figure-9, the professional images are clear and beautiful. The model might attain a lower loss rate using the curated photos, but in the real-world release, the ML system predictions will have many “false positives.”\n",
        "\n",
        "- - <img src=\"https://github.com/duchaba/fastbook/blob/master/images/fig8.jpg?raw=true\" width=\"600\" align=\"center\">\n",
        "\n",
        "- The solution is straightforward, but the implementation has a snag. The first step is using an iPhone or Android phone to videotape the chickens afflicted with Colibacillosis, Mycoplasmosis, Pullorum, or any of the 13 top diseases. \n",
        "\n",
        "- A helpful hint is taking the video in different angles, e.g., side view, top view, front view, close up view, chicken in a flock, chicken in a barn, chicken on the roof, chicken on grass, chicken feeding, chicken plucking, but not chicken in a pot. \n",
        "\n",
        "- The second step is to convert the video into an image sequence. There are many video tools and online converter that can do the splicing job. A few examples are “VLC Media Player,” “VirtualDub,” “FFmpeg,” and many others.\n",
        "\n",
        "- The third step is to manually choose the images that are not too similar to each other and save them into a folder label as the disease, e.g., “colibacillosis” folder. \n",
        "\n",
        "- In general, for every minute of video, Eggna can expect to have 5, 8, or 13 useable photos. After quick math, for 5,000 images, Egnna would need about 10 to 11 hours of video. If Eggna asks two friends to help, they could have it done in about 3 to 4 hours per disease. \n",
        "\n",
        "- That’s is not too bad, but where can we find sick chickens?\n",
        "\n",
        "- Based on Eggna client, a chicken farmer in California, and the California Department of Food and Agriculture, there are 442 chicken disease outbreaks from 2018 to 2020. The “Virulent Newcastle” disease attributes to most of it. Therefore, waiting for all thirteen top chicken disease outbreaks could take upward to 2 to 4 years. However, if Eggan’s client agreed to limit the top five chicken diseases in phase-1 release, the team can complete the task in one year. \n",
        "\n",
        "- The estimated cost for creating the labeled image database would be \\$5,200 per disease. So, the total cost for gathering data for five conditions would be around \\$26,000. \n",
        "\n",
        "- - <img src=\"https://github.com/duchaba/fastbook/blob/master/images/sickchick.png?raw=true\" width=\"600\" align=\"center\">\n",
        "\n",
        "- Summarizing the strategy, Eggna and friends armed with iPhones and ready to drive or fly to any chicken farm in California with an outbreak of chicken disease. It’s not ideal, but it is doable."
      ]
    },
    {
      "cell_type": "code",
      "metadata": {
        "id": "I0cD-rqkToJ4"
      },
      "source": [
        ""
      ],
      "execution_count": null,
      "outputs": []
    },
    {
      "cell_type": "markdown",
      "metadata": {
        "id": "cAhB-ACAWQ4R"
      },
      "source": [
        "# 12.0 | Bias"
      ]
    },
    {
      "cell_type": "code",
      "metadata": {
        "id": "GIe9Hj187Fqg"
      },
      "source": [
        "# update the journey\n",
        "@add_method(D0HZ)\n",
        "def draw_journey(self):\n",
        "  x = '\"Eggna\\nHome\"[shape=circle style=filled fillcolor=\"' + self.color_warning + '\" ] '\n",
        "  x += '\"Baseline\"[shape=circle style=filled fillcolor=\"' + self.color_warning + '\" ] '\n",
        "  x += '\"Label\\n104,000 img.\\n13 cat.\"[shape=circle style=filled fillcolor=\"' + self.color_warning + '\" ] '\n",
        "  x += '\"Biases\"[shape=circle fontsize=14.0 style=filled fillcolor=\"' + self.color_primary + '\" ] '\n",
        "  x += '\"B\"[shape=circle style=filled fillcolor=\"' + self.color_warning + '\" ] '\n",
        "  #\n",
        "  x += '\"Blind\\nBaseline\\n(53.85%)\"[shape=circle style=filled  fillcolor=\"' + self.color_warning + '\" ] '\n",
        "  x += '\"Research\\nBaseline\\n(77.14%)\"[shape=circle style=filled  fillcolor=\"' + self.color_warning + '\" ] '\n",
        "  x += '\"Verify\\nBaseline\\n(82.88%)\"[shape=circle style=filled  fillcolor=\"' + self.color_warning + '\" ] '\n",
        "  x += '\"Eggna\\nHome\"->\"Baseline\"[fontsize=8.0 label=\"establish\"]; '\n",
        "  x += '\"Baseline\"->\"Blind\\nBaseline\\n(53.85%)\"[fontsize=8.0 label=\"fetch the default\"]; '\n",
        "  x += '\"Baseline\"->\"Research\\nBaseline\\n(77.14%)\"[fontsize=8.0 label=\"research persona\"]; '\n",
        "  x += '\"Baseline\"->\"Verify\\nBaseline\\n(82.88%)\"[fontsize=8.0 label=\"compare to experts\"]; '\n",
        "  x += '\"Blind\\nBaseline\\n(53.85%)\"->B[fontsize=8.0 label=\"go\" style=\"dashed\" arrowhead=\"dot\"]; '\n",
        "  x += '\"Research\\nBaseline\\n(77.14%)\"->B[fontsize=8.0 label=\"go\" style=\"dashed\" arrowhead=\"dot\"]; '\n",
        "  x += '\"Verify\\nBaseline\\n(82.88%)\"->B[fontsize=8.0 label=\"go\"]; '\n",
        "  x += '\"Blind\\nBaseline\\n(53.85%)\"->\"Research\\nBaseline\\n(77.14%)\"[constraint=false fontsize=8.0 label=\"advance\\nnext\"]; '\n",
        "  x += '\"Research\\nBaseline\\n(77.14%)\"->\"Verify\\nBaseline\\n(82.88%)\"[constraint=false fontsize=8.0 label=\"go for\\nbroke\"]; '\n",
        "  #\n",
        "  #\n",
        "  x += 'B->\"Label\\n104,000 img.\\n13 cat.\"[fontsize=8.0 label=\"get label\\nimages\"]; '\n",
        "  x += '\"Label\\n104,000 img.\\n13 cat.\"->\"Biases\"[fontsize=8.0 label=\"define and\\ndiscover\"]; '\n",
        "  x += '\"Biases\"->\"Wrap up\"->\"Eggna\\nHome\"[constraint=false, style=\"dashed\"] '\n",
        "  #\n",
        "  x += '\"Eggna\\nHome\"->\"ANN\\nVision\\nAlgorithm\"->Baseline[style=\"dashed\" arrowhead=\"dot\" constraint=false fontsize=8.0 label=\"use supervisor\\nlearning\"] '\n",
        "  #\n",
        "  self._draw_graph_viz(x,\"Figure-9, Eggna at the Bias Check Point\",default_shape=\"circle\",bgcolor=\"#ffffff\", node_font_size=9.0)\n",
        "  return"
      ],
      "execution_count": null,
      "outputs": []
    },
    {
      "cell_type": "code",
      "metadata": {
        "colab": {
          "base_uri": "https://localhost:8080/",
          "height": 689
        },
        "id": "ZJfS2V_Z8GrR",
        "outputId": "f51f2936-d1a8-47d9-bf69-96996ea58efa"
      },
      "source": [
        "# draw it\n",
        "eggna.draw_journey()"
      ],
      "execution_count": null,
      "outputs": [
        {
          "output_type": "display_data",
          "data": {
            "text/plain": [
              "<graphviz.files.Source at 0x7f738f721a50>"
            ],
            "image/svg+xml": "<?xml version=\"1.0\" encoding=\"UTF-8\" standalone=\"no\"?>\n<!DOCTYPE svg PUBLIC \"-//W3C//DTD SVG 1.1//EN\"\n \"http://www.w3.org/Graphics/SVG/1.1/DTD/svg11.dtd\">\n<!-- Generated by graphviz version 2.40.1 (20161225.0304)\n -->\n<!-- Title: G Pages: 1 -->\n<svg width=\"948pt\" height=\"486pt\"\n viewBox=\"0.00 0.00 948.08 486.38\" xmlns=\"http://www.w3.org/2000/svg\" xmlns:xlink=\"http://www.w3.org/1999/xlink\">\n<g id=\"graph0\" class=\"graph\" transform=\"scale(1 1) rotate(0) translate(28.8 457.5817)\">\n<title>G</title>\n<polygon fill=\"#ffffff\" stroke=\"transparent\" points=\"-28.8,28.8 -28.8,-457.5817 919.2769,-457.5817 919.2769,28.8 -28.8,28.8\"/>\n<text text-anchor=\"middle\" x=\"445.2385\" y=\"-10\" font-family=\"Times,serif\" font-size=\"20.00\" fill=\"#17a2b8\">Figure&#45;9, Eggna at the Bias Check Point</text>\n<!-- Eggna\nHome -->\n<g id=\"node1\" class=\"node\">\n<title>Eggna\nHome</title>\n<ellipse fill=\"#d9e506\" stroke=\"#343a40\" cx=\"122.196\" cy=\"-277.598\" rx=\"31.2258\" ry=\"31.2258\"/>\n<text text-anchor=\"middle\" x=\"122.196\" y=\"-280.398\" font-family=\"Arial\" font-size=\"9.00\" fill=\"#343a40\">Eggna</text>\n<text text-anchor=\"middle\" x=\"122.196\" y=\"-270.398\" font-family=\"Arial\" font-size=\"9.00\" fill=\"#343a40\">Home</text>\n</g>\n<!-- Baseline -->\n<g id=\"node2\" class=\"node\">\n<title>Baseline</title>\n<ellipse fill=\"#d9e506\" stroke=\"#343a40\" cx=\"278.3935\" cy=\"-277.598\" rx=\"30.6995\" ry=\"30.6995\"/>\n<text text-anchor=\"middle\" x=\"278.3935\" y=\"-275.398\" font-family=\"Arial\" font-size=\"9.00\" fill=\"#343a40\">Baseline</text>\n</g>\n<!-- Eggna\nHome&#45;&gt;Baseline -->\n<g id=\"edge1\" class=\"edge\">\n<title>Eggna\nHome&#45;&gt;Baseline</title>\n<path fill=\"none\" stroke=\"#6c757d\" d=\"M153.4295,-277.598C177.6368,-277.598 211.3765,-277.598 237.6968,-277.598\"/>\n<polygon fill=\"#6c757d\" stroke=\"#6c757d\" points=\"237.7465,-281.0981 247.7464,-277.598 237.7464,-274.0981 237.7465,-281.0981\"/>\n<text text-anchor=\"middle\" x=\"204.7939\" y=\"-280.198\" font-family=\"Times,serif\" font-size=\"8.00\" fill=\"#000000\">establish</text>\n</g>\n<!-- ANN\nVision\nAlgorithm -->\n<g id=\"node10\" class=\"node\">\n<title>ANN\nVision\nAlgorithm</title>\n<ellipse fill=\"#ced4da\" stroke=\"#343a40\" cx=\"122.196\" cy=\"-69.598\" rx=\"39.6962\" ry=\"39.6962\"/>\n<text text-anchor=\"middle\" x=\"122.196\" y=\"-77.398\" font-family=\"Arial\" font-size=\"9.00\" fill=\"#343a40\">ANN</text>\n<text text-anchor=\"middle\" x=\"122.196\" y=\"-67.398\" font-family=\"Arial\" font-size=\"9.00\" fill=\"#343a40\">Vision</text>\n<text text-anchor=\"middle\" x=\"122.196\" y=\"-57.398\" font-family=\"Arial\" font-size=\"9.00\" fill=\"#343a40\">Algorithm</text>\n</g>\n<!-- Eggna\nHome&#45;&gt;ANN\nVision\nAlgorithm -->\n<g id=\"edge14\" class=\"edge\">\n<title>Eggna\nHome&#45;&gt;ANN\nVision\nAlgorithm</title>\n<path fill=\"none\" stroke=\"#6c757d\" stroke-dasharray=\"5,2\" d=\"M96.8979,-259.0023C73.8688,-240.3563 41.4209,-209.3378 27.598,-173.598 14.5014,-139.7362 48.5631,-110.1126 79.4017,-91.2345\"/>\n<ellipse fill=\"#6c757d\" stroke=\"#6c757d\" cx=\"82.8794\" cy=\"-89.1759\" rx=\"4\" ry=\"4\"/>\n<text text-anchor=\"middle\" x=\"39.598\" y=\"-167.198\" font-family=\"Times,serif\" font-size=\"8.00\" fill=\"#000000\">use supervisor</text>\n<text text-anchor=\"middle\" x=\"39.598\" y=\"-158.198\" font-family=\"Times,serif\" font-size=\"8.00\" fill=\"#000000\">learning</text>\n</g>\n<!-- Blind\nBaseline\n(53.85%) -->\n<g id=\"node6\" class=\"node\">\n<title>Blind\nBaseline\n(53.85%)</title>\n<ellipse fill=\"#d9e506\" stroke=\"#343a40\" cx=\"451.591\" cy=\"-390.598\" rx=\"38.3684\" ry=\"38.3684\"/>\n<text text-anchor=\"middle\" x=\"451.591\" y=\"-398.398\" font-family=\"Arial\" font-size=\"9.00\" fill=\"#343a40\">Blind</text>\n<text text-anchor=\"middle\" x=\"451.591\" y=\"-388.398\" font-family=\"Arial\" font-size=\"9.00\" fill=\"#343a40\">Baseline</text>\n<text text-anchor=\"middle\" x=\"451.591\" y=\"-378.398\" font-family=\"Arial\" font-size=\"9.00\" fill=\"#343a40\">(53.85%)</text>\n</g>\n<!-- Baseline&#45;&gt;Blind\nBaseline\n(53.85%) -->\n<g id=\"edge2\" class=\"edge\">\n<title>Baseline&#45;&gt;Blind\nBaseline\n(53.85%)</title>\n<path fill=\"none\" stroke=\"#6c757d\" d=\"M304.3229,-294.5152C332.5632,-312.9402 378.1019,-342.6512 411.07,-364.1607\"/>\n<polygon fill=\"#6c757d\" stroke=\"#6c757d\" points=\"409.2982,-367.1837 419.5858,-369.7167 413.1232,-361.3211 409.2982,-367.1837\"/>\n<text text-anchor=\"middle\" x=\"360.4931\" y=\"-353.198\" font-family=\"Times,serif\" font-size=\"8.00\" fill=\"#000000\">fetch the default</text>\n</g>\n<!-- Research\nBaseline\n(77.14%) -->\n<g id=\"node7\" class=\"node\">\n<title>Research\nBaseline\n(77.14%)</title>\n<ellipse fill=\"#d9e506\" stroke=\"#343a40\" cx=\"451.591\" cy=\"-277.598\" rx=\"39.6962\" ry=\"39.6962\"/>\n<text text-anchor=\"middle\" x=\"451.591\" y=\"-285.398\" font-family=\"Arial\" font-size=\"9.00\" fill=\"#343a40\">Research</text>\n<text text-anchor=\"middle\" x=\"451.591\" y=\"-275.398\" font-family=\"Arial\" font-size=\"9.00\" fill=\"#343a40\">Baseline</text>\n<text text-anchor=\"middle\" x=\"451.591\" y=\"-265.398\" font-family=\"Arial\" font-size=\"9.00\" fill=\"#343a40\">(77.14%)</text>\n</g>\n<!-- Baseline&#45;&gt;Research\nBaseline\n(77.14%) -->\n<g id=\"edge3\" class=\"edge\">\n<title>Baseline&#45;&gt;Research\nBaseline\n(77.14%)</title>\n<path fill=\"none\" stroke=\"#6c757d\" d=\"M309.3578,-277.598C334.947,-277.598 371.7753,-277.598 401.5452,-277.598\"/>\n<polygon fill=\"#6c757d\" stroke=\"#6c757d\" points=\"401.7508,-281.0981 411.7507,-277.598 401.7507,-274.0981 401.7508,-281.0981\"/>\n<text text-anchor=\"middle\" x=\"360.4931\" y=\"-280.198\" font-family=\"Times,serif\" font-size=\"8.00\" fill=\"#000000\">research persona</text>\n</g>\n<!-- Verify\nBaseline\n(82.88%) -->\n<g id=\"node8\" class=\"node\">\n<title>Verify\nBaseline\n(82.88%)</title>\n<ellipse fill=\"#d9e506\" stroke=\"#343a40\" cx=\"451.591\" cy=\"-164.598\" rx=\"38.3684\" ry=\"38.3684\"/>\n<text text-anchor=\"middle\" x=\"451.591\" y=\"-172.398\" font-family=\"Arial\" font-size=\"9.00\" fill=\"#343a40\">Verify</text>\n<text text-anchor=\"middle\" x=\"451.591\" y=\"-162.398\" font-family=\"Arial\" font-size=\"9.00\" fill=\"#343a40\">Baseline</text>\n<text text-anchor=\"middle\" x=\"451.591\" y=\"-152.398\" font-family=\"Arial\" font-size=\"9.00\" fill=\"#343a40\">(82.88%)</text>\n</g>\n<!-- Baseline&#45;&gt;Verify\nBaseline\n(82.88%) -->\n<g id=\"edge4\" class=\"edge\">\n<title>Baseline&#45;&gt;Verify\nBaseline\n(82.88%)</title>\n<path fill=\"none\" stroke=\"#6c757d\" d=\"M304.3229,-260.6807C332.5632,-242.2558 378.1019,-212.5448 411.07,-191.0353\"/>\n<polygon fill=\"#6c757d\" stroke=\"#6c757d\" points=\"413.1232,-193.8748 419.5858,-185.4793 409.2982,-188.0123 413.1232,-193.8748\"/>\n<text text-anchor=\"middle\" x=\"360.4931\" y=\"-246.198\" font-family=\"Times,serif\" font-size=\"8.00\" fill=\"#000000\">compare to experts</text>\n</g>\n<!-- Label\n104,000 img.\n13 cat. -->\n<g id=\"node3\" class=\"node\">\n<title>Label\n104,000 img.\n13 cat.</title>\n<ellipse fill=\"#d9e506\" stroke=\"#343a40\" cx=\"688.6865\" cy=\"-277.598\" rx=\"49.4949\" ry=\"49.4949\"/>\n<text text-anchor=\"middle\" x=\"688.6865\" y=\"-285.398\" font-family=\"Arial\" font-size=\"9.00\" fill=\"#343a40\">Label</text>\n<text text-anchor=\"middle\" x=\"688.6865\" y=\"-275.398\" font-family=\"Arial\" font-size=\"9.00\" fill=\"#343a40\">104,000 img.</text>\n<text text-anchor=\"middle\" x=\"688.6865\" y=\"-265.398\" font-family=\"Arial\" font-size=\"9.00\" fill=\"#343a40\">13 cat.</text>\n</g>\n<!-- Biases -->\n<g id=\"node4\" class=\"node\">\n<title>Biases</title>\n<ellipse fill=\"#ff7900\" stroke=\"#343a40\" cx=\"850.8305\" cy=\"-277.598\" rx=\"39.7935\" ry=\"39.7935\"/>\n<text text-anchor=\"middle\" x=\"850.8305\" y=\"-273.898\" font-family=\"Arial\" font-size=\"14.00\" fill=\"#343a40\">Biases</text>\n</g>\n<!-- Label\n104,000 img.\n13 cat.&#45;&gt;Biases -->\n<g id=\"edge11\" class=\"edge\">\n<title>Label\n104,000 img.\n13 cat.&#45;&gt;Biases</title>\n<path fill=\"none\" stroke=\"#6c757d\" d=\"M738.2161,-277.598C758.1223,-277.598 781.0343,-277.598 800.9733,-277.598\"/>\n<polygon fill=\"#6c757d\" stroke=\"#6c757d\" points=\"801.0975,-281.0981 811.0975,-277.598 801.0974,-274.0981 801.0975,-281.0981\"/>\n<text text-anchor=\"middle\" x=\"774.684\" y=\"-289.198\" font-family=\"Times,serif\" font-size=\"8.00\" fill=\"#000000\">define and</text>\n<text text-anchor=\"middle\" x=\"774.684\" y=\"-280.198\" font-family=\"Times,serif\" font-size=\"8.00\" fill=\"#000000\">discover</text>\n</g>\n<!-- Wrap up -->\n<g id=\"node9\" class=\"node\">\n<title>Wrap up</title>\n<ellipse fill=\"#ced4da\" stroke=\"#343a40\" cx=\"122.196\" cy=\"-156.598\" rx=\"29.3898\" ry=\"29.3898\"/>\n<text text-anchor=\"middle\" x=\"122.196\" y=\"-154.398\" font-family=\"Arial\" font-size=\"9.00\" fill=\"#343a40\">Wrap up</text>\n</g>\n<!-- Biases&#45;&gt;Wrap up -->\n<g id=\"edge12\" class=\"edge\">\n<title>Biases&#45;&gt;Wrap up</title>\n<path fill=\"none\" stroke=\"#6c757d\" stroke-dasharray=\"5,2\" d=\"M816.839,-256.2147C754.9651,-218.759 618.5498,-142.861 491.189,-117.598 428.7,-105.2028 242.5045,-135.2418 161.0608,-149.5432\"/>\n<polygon fill=\"#6c757d\" stroke=\"#6c757d\" points=\"160.4407,-146.0985 151.2035,-151.2873 161.6604,-152.9914 160.4407,-146.0985\"/>\n</g>\n<!-- B -->\n<g id=\"node5\" class=\"node\">\n<title>B</title>\n<ellipse fill=\"#d9e506\" stroke=\"#343a40\" cx=\"555.189\" cy=\"-277.598\" rx=\"18\" ry=\"18\"/>\n<text text-anchor=\"middle\" x=\"555.189\" y=\"-275.398\" font-family=\"Arial\" font-size=\"9.00\" fill=\"#343a40\">B</text>\n</g>\n<!-- B&#45;&gt;Label\n104,000 img.\n13 cat. -->\n<g id=\"edge10\" class=\"edge\">\n<title>B&#45;&gt;Label\n104,000 img.\n13 cat.</title>\n<path fill=\"none\" stroke=\"#6c757d\" d=\"M573.1931,-277.598C587.6226,-277.598 608.7344,-277.598 628.9736,-277.598\"/>\n<polygon fill=\"#6c757d\" stroke=\"#6c757d\" points=\"629.1208,-281.0981 639.1207,-277.598 629.1207,-274.0981 629.1208,-281.0981\"/>\n<text text-anchor=\"middle\" x=\"606.189\" y=\"-289.198\" font-family=\"Times,serif\" font-size=\"8.00\" fill=\"#000000\">get label</text>\n<text text-anchor=\"middle\" x=\"606.189\" y=\"-280.198\" font-family=\"Times,serif\" font-size=\"8.00\" fill=\"#000000\">images</text>\n</g>\n<!-- Blind\nBaseline\n(53.85%)&#45;&gt;B -->\n<g id=\"edge5\" class=\"edge\">\n<title>Blind\nBaseline\n(53.85%)&#45;&gt;B</title>\n<path fill=\"none\" stroke=\"#6c757d\" stroke-dasharray=\"5,2\" d=\"M477.466,-362.3748C496.041,-342.114 520.6086,-315.3168 537.1068,-297.3212\"/>\n<ellipse fill=\"#6c757d\" stroke=\"#6c757d\" cx=\"540.0909\" cy=\"-294.0664\" rx=\"4\" ry=\"4\"/>\n<text text-anchor=\"middle\" x=\"514.189\" y=\"-329.198\" font-family=\"Times,serif\" font-size=\"8.00\" fill=\"#000000\">go</text>\n</g>\n<!-- Blind\nBaseline\n(53.85%)&#45;&gt;Research\nBaseline\n(77.14%) -->\n<g id=\"edge8\" class=\"edge\">\n<title>Blind\nBaseline\n(53.85%)&#45;&gt;Research\nBaseline\n(77.14%)</title>\n<path fill=\"none\" stroke=\"#6c757d\" d=\"M451.591,-352.2564C451.591,-344.2799 451.591,-335.7631 451.591,-327.4416\"/>\n<polygon fill=\"#6c757d\" stroke=\"#6c757d\" points=\"455.0911,-327.4375 451.591,-317.4376 448.0911,-327.4376 455.0911,-327.4375\"/>\n<text text-anchor=\"middle\" x=\"439.591\" y=\"-337.4051\" font-family=\"Times,serif\" font-size=\"8.00\" fill=\"#000000\">advance</text>\n<text text-anchor=\"middle\" x=\"439.591\" y=\"-328.4051\" font-family=\"Times,serif\" font-size=\"8.00\" fill=\"#000000\">next</text>\n</g>\n<!-- Research\nBaseline\n(77.14%)&#45;&gt;B -->\n<g id=\"edge6\" class=\"edge\">\n<title>Research\nBaseline\n(77.14%)&#45;&gt;B</title>\n<path fill=\"none\" stroke=\"#6c757d\" stroke-dasharray=\"5,2\" d=\"M491.3484,-277.598C503.8983,-277.598 517.4464,-277.598 528.8195,-277.598\"/>\n<ellipse fill=\"#6c757d\" stroke=\"#6c757d\" cx=\"533.0399\" cy=\"-277.598\" rx=\"4\" ry=\"4\"/>\n<text text-anchor=\"middle\" x=\"514.189\" y=\"-280.198\" font-family=\"Times,serif\" font-size=\"8.00\" fill=\"#000000\">go</text>\n</g>\n<!-- Research\nBaseline\n(77.14%)&#45;&gt;Verify\nBaseline\n(82.88%) -->\n<g id=\"edge9\" class=\"edge\">\n<title>Research\nBaseline\n(77.14%)&#45;&gt;Verify\nBaseline\n(82.88%)</title>\n<path fill=\"none\" stroke=\"#6c757d\" d=\"M451.591,-237.8379C451.591,-229.8498 451.591,-221.3709 451.591,-213.1234\"/>\n<polygon fill=\"#6c757d\" stroke=\"#6c757d\" points=\"455.0911,-212.8546 451.591,-202.8546 448.0911,-212.8547 455.0911,-212.8546\"/>\n<text text-anchor=\"middle\" x=\"439.591\" y=\"-222.9909\" font-family=\"Times,serif\" font-size=\"8.00\" fill=\"#000000\">go for</text>\n<text text-anchor=\"middle\" x=\"439.591\" y=\"-213.9909\" font-family=\"Times,serif\" font-size=\"8.00\" fill=\"#000000\">broke</text>\n</g>\n<!-- Verify\nBaseline\n(82.88%)&#45;&gt;B -->\n<g id=\"edge7\" class=\"edge\">\n<title>Verify\nBaseline\n(82.88%)&#45;&gt;B</title>\n<path fill=\"none\" stroke=\"#6c757d\" d=\"M477.466,-192.8212C495.5522,-212.5488 519.3197,-238.4733 535.7878,-256.436\"/>\n<polygon fill=\"#6c757d\" stroke=\"#6c757d\" points=\"533.4563,-259.0722 542.794,-264.078 538.6161,-254.3417 533.4563,-259.0722\"/>\n<text text-anchor=\"middle\" x=\"514.189\" y=\"-240.198\" font-family=\"Times,serif\" font-size=\"8.00\" fill=\"#000000\">go</text>\n</g>\n<!-- Wrap up&#45;&gt;Eggna\nHome -->\n<g id=\"edge13\" class=\"edge\">\n<title>Wrap up&#45;&gt;Eggna\nHome</title>\n<path fill=\"none\" stroke=\"#6c757d\" stroke-dasharray=\"5,2\" d=\"M122.196,-186.3753C122.196,-202.9005 122.196,-219.4257 122.196,-235.9509\"/>\n<polygon fill=\"#6c757d\" stroke=\"#6c757d\" points=\"118.6961,-236.2402 122.196,-246.2402 125.6961,-236.2402 118.6961,-236.2402\"/>\n</g>\n<!-- ANN\nVision\nAlgorithm&#45;&gt;Baseline -->\n<g id=\"edge15\" class=\"edge\">\n<title>ANN\nVision\nAlgorithm&#45;&gt;Baseline</title>\n<path fill=\"none\" stroke=\"#6c757d\" stroke-dasharray=\"5,2\" d=\"M147.344,-100.2661C152.1904,-106.3026 157.1894,-112.6185 161.7939,-118.598 195.3307,-162.1494 232.6715,-213.6239 255.849,-245.9463\"/>\n<ellipse fill=\"#6c757d\" stroke=\"#6c757d\" cx=\"258.2443\" cy=\"-249.2911\" rx=\"4\" ry=\"4\"/>\n<text text-anchor=\"middle\" x=\"204.7939\" y=\"-220.198\" font-family=\"Times,serif\" font-size=\"8.00\" fill=\"#000000\">use supervisor</text>\n<text text-anchor=\"middle\" x=\"204.7939\" y=\"-211.198\" font-family=\"Times,serif\" font-size=\"8.00\" fill=\"#000000\">learning</text>\n</g>\n</g>\n</svg>\n"
          },
          "metadata": {
            "tags": []
          }
        }
      ]
    },
    {
      "cell_type": "markdown",
      "metadata": {
        "id": "8hbxjmAPWZJU"
      },
      "source": [
        "- Figure-9 said that Eggna is at her last stop in the A1SH journey, the “biases.”\n",
        "\n",
        "- Eggna has the baseline accuracy, the data, i.e., the labeled photos, and now she must define or discover the obvious or the hidden biases lurking in the dataset. She can not skip the “bias step” and do it after she trained the ML model.\n",
        "\n",
        "- Knowing dataset biases is essential for Eggna to compare the difference between trained accuracy, which should be higher than the baseline accuracy, and the real-world test accuracy. \n",
        "\n",
        "- Before diving headlong into solving the data biases conundrum, Eggna will define what data biases are and give a few examples of real-world data bias, resulting in a disastrous consequence. \n",
        "\n",
        "- Data bias is similar to the standard statistical bias. A statistic is biased if it is calculated to be systematically different from the population parameter being estimated. A dataset is biased if it discriminates against a feature, a group, or a segment from the population.\n",
        "\n",
        "- A dataset without bias is a myth. All datasets have biases, and it is next to impossible to remove all the known biases from a dataset. There are adventitious biases that will not be known after the real-world release.\n",
        "\n",
        "- By now, everyone had heard about the famous [“Kodak's Shirley Cards Set Photography's Skin-Tone Standard”](https://www.npr.org/2014/11/13/363517842/for-decades-kodak-s-shirley-cards-set-photography-s-skin-tone-standard) bias used in the 1970s. The \"Shirley\" card was used to calibrate Kodak’s printers. During that time, Kodak owns 90+% of the photo printer market in the world.\n",
        "\n",
        "- Jersson Garcia creates the “Shirley” card, and he works at Richard Photo Lab in Hollywood. He's 31 years old. More importantly, he's got a total crush on Shirley, who is an employee of Kodak.\n",
        "\n",
        "- The bias was not intentional, but the consequence is disastrous. For 30 years, all printed photos of darker skin people are slightly off their true-tone color. Since printed photos available for the first time to the mass market, no one could recognize the bias setting in the printer. As a new technology, everyone thought this is how I look in a printed photo.\n",
        "\n",
        "- The [“State Farm Distracted Driver Detection” (SFDDD) Kaggle](https://www.kaggle.com/c/state-farm-distracted-driver-detection/leaderboard) competition is one of the most bias datasets that Eggna found. Kaggle is a recognized leader in the worldwide AI competition marketspace. The SFDDD was in 2016, and the winning prize is $65,000. A total of 1,438 teams competed in the competition, and the winner is the “Jacobkie” team with a verifiable 0.08793 loss rate or 91.26% accuracy rate. \n",
        "\n",
        "- The intention is to identify whether a driver is distracted while driving or not. There is a camera mounted in the rearview mirror taking photos of the driver. \n",
        "\n",
        "- Eggna wrote a quick program to download the dataset and display 24 random images every time she ran the method. There are 122,124 labeled images for training and 79,696 images for validation, marked as the “test” folder.\n",
        "\n",
        "- As you can see in the below images, there are so many biases in the dataset. Where to begin?\n",
        "\n",
        "- Here is the first pass of a bias list from Eggna. The ML model could predict “false positive or false negative” when encountering images that are not in the training set. \n",
        "\n",
        "  1. Age bias -- The photos are of adult people. There is no image of teenagers, young adults, or adults older than 50 years old.\n",
        "\n",
        "  2. Appearance bias -- There is no photo of drivers in other clothing except “casual Western attire.”\n",
        "\n",
        "  3. Diversity bias -- The photos are of 9 people. There is not enough diversity in height, weight, and personal characteristics. \n",
        "\n",
        "  4. Distracted activity bias -- Many distracting activities are not included in the dataset, e.g., reading a newspaper, having a cat on your lap, eating a Big Mac burger with Fries, dozing off, or searching for a new radio station, or driving with your knees, etc.\n",
        "\n",
        "  1. Vehicle bias -- It is the same car use in all the photos. What about trucks, SUVs, convertibles, European sports cars, semi-trucks, etc.?\n",
        "\n",
        "- Eggna does not know State Farm insurance deploys the winning ML model to a real-world test. And if State Farm uses the ML model to set members automobile coverage monthly rate or copay, then there might be biases against a specific ethnic or age group. \n",
        "\n",
        "- Back to the CDANN, Eggna has not yet collected the data. However, she can deduce the biases and choose which one to eliminate from the dataset. Eggna knows that there are biases that she can not remove from the dataset due to cost or schedule.\n",
        "\n",
        "  1. Location bias -- The photos should include outdoor, i.e., for free-range chickens, and indoor, i.e., chickens raised inside a chicken barn. \n",
        "\n",
        "  1. Camera Angle bias -- The photos should have different angles, e.g., close up, top view, side view, front view, side-way view, back view, in a flock view, chasing view, etc.\n",
        "\n",
        "  1. Gender bias -- The photos should include the hens, female, and the roosters, male. \n",
        "\n",
        "  1. Age bias -- The photos should include chicks and full-grown chickens. \n",
        "\n",
        "  1. Species bias -- The photos should include many chicken species, e.g., Ameraucana, America Game, Brahma, Buckeye, Dominique, etc.\n",
        "\n",
        "- With the baseline, dataset, and biases, Eggna is ready to cross the road and begin building the Diseased Chicken ANN model."
      ]
    },
    {
      "cell_type": "code",
      "metadata": {
        "id": "scRGLT2bWRPm"
      },
      "source": [
        ""
      ],
      "execution_count": null,
      "outputs": []
    },
    {
      "cell_type": "code",
      "metadata": {
        "id": "G2DEjVJyWRTe"
      },
      "source": [
        ""
      ],
      "execution_count": null,
      "outputs": []
    },
    {
      "cell_type": "markdown",
      "metadata": {
        "id": "Y3t7TabsRiP3"
      },
      "source": [
        "# 13.0 | Wrap Up"
      ]
    },
    {
      "cell_type": "markdown",
      "metadata": {
        "id": "x51izA-Hzwmz"
      },
      "source": [
        "- The A1SH journey is six months in the making. Eggna based it on the real-world nonprofit project working as a volunteer, i.e., pro-bono work. There is freedom in working outside of consultancy or enterprise framework. For a nonprofit organization, Eggna can take the time and do it right, but it requires discipline on the other side of the coin. Weekends and late nights are a poor substitute for bright-eyes brainstorming sessions. \n",
        "\n",
        "- Eggna selected the “Diseased Chicken” project. It is a fictitious project, but it mirrored the actual nonprofit project. She chooses a fabricate project because of legal constraints. Furthermore, learning the A1SH three-step process is the goal and not about the result of the nonprofit project.\n",
        "\n",
        "- Having a visual guide throughout the journey helps Eggna focus on the process, as shown in Figure-9 above. The first step is to define a baseline accuracy for the ML model. The baseline is essential because, without a baseline accuracy, Eggna can not judge whether the resulting trained model is successful or not. In other words, if the resulting trained ML model accuracy is lower than the baseline accuracy, then the project is a failure.\n",
        "\n",
        "- The three types of baseline are “Blind, Research, and Verify.” Blind and Research baselines are relatively easy to do, and the Verify baseline is more complex, but it’s worth it. The salient point is Eddna can not skip the first step. A baseline accuracy is a must-have to ensure a successful ML project. \n",
        "\n",
        "- The detour to seek understanding how to categorize your project as “AI, ML, reinforcement learning, supervised, and unsupervised” is worth the time. It is demystifying the title wave of misinformation out in the world.\n",
        "\n",
        "- The second step is to find or create the labeled data. Collecting, augmenting, and cleansing the dataset is an enormous task in most ML projects, except for the reinforcement learning algorithm. A good general rule of thumb is an ML model is only as good as the data.\n",
        "\n",
        "- Finally, Eggna describes data biases and why they are imperative to complete for training the ML model. \n",
        "\n",
        "\n"
      ]
    },
    {
      "cell_type": "markdown",
      "metadata": {
        "id": "kYNVZJV01fKK"
      },
      "source": [
        "- The A1SH was a fun journey, and Eggna is looking forward to the next journey and hopes to see you again."
      ]
    },
    {
      "cell_type": "code",
      "metadata": {
        "colab": {
          "base_uri": "https://localhost:8080/"
        },
        "id": "FaE34Le91FvJ",
        "outputId": "bd020565-de98-4ba8-9918-d968dd9a0a90"
      },
      "source": [
        "# wag your tail\n",
        "eggna.dance_happy()"
      ],
      "execution_count": null,
      "outputs": [
        {
          "output_type": "stream",
          "text": [
            "        _=,_\n",
            "    o_/6 /#\\\n",
            "    \\__ |##/\n",
            "     ='|--\\\n",
            "       /   #'-.\n",
            "       \\#|_   _'-. /\n",
            "        |/ \\_( # |\" \n",
            "       C/ ,--___/\n",
            "\n",
            "---------------------------------------- : ----------------------------------------\n"
          ],
          "name": "stdout"
        }
      ]
    },
    {
      "cell_type": "markdown",
      "metadata": {
        "id": "PoqjtSMe1VrN"
      },
      "source": [
        "><h2><center>The End.</center></h2>"
      ]
    },
    {
      "cell_type": "markdown",
      "metadata": {
        "id": "-ed2pFTTRN5c"
      },
      "source": [
        "# 14.0 | Conclusion"
      ]
    },
    {
      "cell_type": "markdown",
      "metadata": {
        "id": "99l6uyO4RVyV"
      },
      "source": [
        "...{add more here}...\n",
        "\n",
        "As the author, I layout the journey beginning, middle, and ending, but through Jupyter Notebook, the readers can, and even encourage to, hack the story by adding notes, modify the codes, or write the new detour.\n",
        "\n",
        "Not all AI scientists are working for Facebook, Twitter, YouTube, or the government Department of Defense (DOD) on large-scale omnipotent AI. If we are in the Star Trek universe, these are not the Rear Admiral's logs on the Eaglemoss spacedock. They are the logs of a tailor, who is exiled, ex-military, and live in the lower spacedock level.\n",
        "\n",
        "I hope you enjoy reading it, sharing it, and giving it a thumb-up. I will see you on the next Demytify AI journey."
      ]
    },
    {
      "cell_type": "code",
      "metadata": {
        "colab": {
          "base_uri": "https://localhost:8080/"
        },
        "id": "h4syboq5IUd7",
        "outputId": "ea801945-5bdd-4cd0-d5d5-64e725377847"
      },
      "source": [
        "# Eggna say Good Night...\n",
        "eggna.draw_black_sheep()"
      ],
      "execution_count": null,
      "outputs": [
        {
          "output_type": "stream",
          "text": [
            "\n",
            "_________________       _       _       _       _       _       _       _ \n",
            "______________-(_)-  _-(_)-  _-(_)-  _-(\")-  _-(_)-  _-(_)-  _-(_)-  _-(_)- \n",
            "___________`(___)  `(___)  `(___)  `(###)  `(___)  `(___)  `(___)  `(___) \n",
            "____________// \\\\   // \\\\   // \\\\   // \\\\   // \\\\   // \\\\   // \\\\   // \\\\ \n",
            "\n",
            "---------------------------------------- : ----------------------------------------\n",
            "                                 bye'aaa : bye'aaa\n"
          ],
          "name": "stdout"
        }
      ]
    },
    {
      "cell_type": "markdown",
      "metadata": {
        "id": "LJj3BSR9gpY7"
      },
      "source": [
        "# EX.1 | Epilogue"
      ]
    },
    {
      "cell_type": "markdown",
      "metadata": {
        "id": "PGim6lebhGOl"
      },
      "source": [
        "><h2><center>“Do no harm by doing positive deeds.”</center></h2>"
      ]
    },
    {
      "cell_type": "markdown",
      "metadata": {
        "id": "t21jtUAthGdQ"
      },
      "source": [
        "2020 was the year where fake news and misinformation become mainstream. Unfortunately, I have read too many highly polarized articles about mistrusting AI on social media and the mainstream news channels. These fears are misplaced, misinform, and designed to fracture our society.\n",
        "\n",
        "Do nothing is not the same as do no harm. Therefore, we can’t opt-out and do nothing, so I take baby steps. The notebooks are not about large-scale omnipotent AI. They demystify AI by showing the mundane problems facing AI scientists in a real-world project. It is like demystifying crabs-fishermen by watching the TV series “Deadliest Catch.”\n",
        "\n",
        "“Do no harm by doing positive deeds” is the foundation reason why I write and share the demystify AI series. The articles are for having fun sharing concepts and code with colleagues and AI students, but more than that. It is a peek into the daily workaday problems of AI scientists and Solution Arch.\n",
        "\n",
        "I hope you enjoy reading it, sharing it, and giving it a thumb-up."
      ]
    },
    {
      "cell_type": "markdown",
      "metadata": {
        "id": "8AfzYrWahhN-"
      },
      "source": [
        "# EX.2 | Demystify AI Series"
      ]
    },
    {
      "cell_type": "markdown",
      "metadata": {
        "id": "vHhGcPG6hzct"
      },
      "source": [
        "1. Hot off the press. Hot off the press. [\"Fast.ai Book Study Group #G1FA\" on LinkedIn]() | on [GitHub](https://github.com/duchaba/fastbook/blob/master/fastaibook_01_intro_d0hz.ipynb) (January 2021)\n",
        "\n",
        "1. [\"Augmentation Data Deep Dive (AUD3)\" on LinkedIn](#) | on [GitHub](https://github.com/duchaba/aud3_augmentation_data_deep_dive/blob/main/AUD3_augmentation_data_deep_dive.ipynb) (December 2020)\n",
        "\n",
        "1. [\"Demystify Neural Network NLP Input-data and Tokenizer\" on LinkedIn](https://www.linkedin.com/pulse/demystify-neural-network-nlp-input-data-tokenizer-duc-haba/) | on [GitHub](https://github.com/duchaba/demystify_nlp_data_tokenizer_d3tz/blob/main/NLP_Data_Tokenizer_d3tz.ipynb) (November 2020)\n",
        "\n",
        "2. [\"Python 3D Visualization​\" on LinkedIn](https://www.linkedin.com/pulse/python-3d-visualization-hackable-step-by-step-jupyter-duc-haba/) | on [GitHub](https://github.com/duchaba/python_3D_visualization_p3vi/blob/master/Python_3D_Graphs_p3vi.ipynb) (September 2020)\n",
        "\n",
        "3. [\"Demystify Python 2D Charts\" on LinkedIn](https://www.linkedin.com/pulse/demystify-python-charts-hackable-step-by-step-jupyter-duc-haba/) | on [GitHub](https://github.com/duchaba/python_graphs_p2go/blob/master/Python_Graphs_p2go.ipynb) (September 2020)\n",
        "\n",
        "4. [\"Norwegian Blue Parrot, The \"k2fa\"​ AI\" on LinkedIn](https://www.linkedin.com/pulse/norwegian-blue-parrot-k2fa-ai-duc-haba/) | on [K2fa-Website](https://nbp3-webclient-2020.web.app/) (August 2020)\n",
        "\n",
        "5. [\"The Texas Two-Step, The Hero of Digital Chaos\" on LinkedIn](https://www.linkedin.com/pulse/texas-two-step-hero-digital-chaos-duc-haba/) (February 2020)\n",
        "\n",
        "6. [\"Be Nice 2020\" on Website](https://be-nice-2020.com/) (January 2020)"
      ]
    },
    {
      "cell_type": "code",
      "metadata": {
        "id": "wCaCDjQjiVnd"
      },
      "source": [
        "# end of Jupyter Notebook"
      ],
      "execution_count": null,
      "outputs": []
    }
  ]
}